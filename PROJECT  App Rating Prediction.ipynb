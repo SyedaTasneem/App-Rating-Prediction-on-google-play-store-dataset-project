{
 "cells": [
  {
   "cell_type": "markdown",
   "id": "d539b89b",
   "metadata": {},
   "source": [
    "# Project for Submission"
   ]
  },
  {
   "cell_type": "markdown",
   "id": "4c103775",
   "metadata": {},
   "source": [
    "# Google play store - App Rating Prediction Analysis"
   ]
  },
  {
   "cell_type": "markdown",
   "id": "0e8a44b6",
   "metadata": {},
   "source": [
    "Google Play Store team is about to launch a new feature wherein, certain apps that are promising, are boosted in visibility. The boost will manifest in multiple ways including higher priority in recommendations sections (“Similar apps”, “You might also like”, “New and updated games”). These will also get a boost in search results visibility.  This feature will help bring more attention to newer apps that have the potential."
   ]
  },
  {
   "cell_type": "markdown",
   "id": "06263d66",
   "metadata": {},
   "source": [
    "Domain: General"
   ]
  },
  {
   "cell_type": "markdown",
   "id": "eadd91c6",
   "metadata": {},
   "source": [
    "Analysis to be done: \n",
    "The problem is to identify the apps that are going to be good for Google to promote. App ratings, which are provided by the customers, is always a great indicator of the goodness of the app. The problem reduces to: predict which apps will have high ratings."
   ]
  },
  {
   "cell_type": "code",
   "execution_count": null,
   "id": "d7cd7dcb",
   "metadata": {},
   "outputs": [],
   "source": [
    " Dataset: Google Play Store data (“googleplaystore.csv”)"
   ]
  },
  {
   "cell_type": "code",
   "execution_count": 107,
   "id": "72d7fce3",
   "metadata": {},
   "outputs": [],
   "source": [
    "import warnings\n",
    "warnings.filterwarnings('ignore')"
   ]
  },
  {
   "cell_type": "markdown",
   "id": "cec0e162",
   "metadata": {},
   "source": [
    "# 1. Importing libraries and loading data"
   ]
  },
  {
   "cell_type": "code",
   "execution_count": 108,
   "id": "b4ab3835",
   "metadata": {},
   "outputs": [],
   "source": [
    "## importing pandas. It is usually imported with an alias \"pd\" (shorthand for pandas) for ease of operation.\n",
    "#import pandas\n",
    "import pandas as pd "
   ]
  },
  {
   "cell_type": "code",
   "execution_count": 109,
   "id": "ffe2eaef",
   "metadata": {},
   "outputs": [],
   "source": [
    "## importing numpy. It is usually imported with an alias \"np\" (shorthand for numpy) for ease of operation.\n",
    "#import numpy\n",
    "import numpy as np"
   ]
  },
  {
   "cell_type": "code",
   "execution_count": 110,
   "id": "ba289eff",
   "metadata": {},
   "outputs": [],
   "source": [
    "## loading data (present in the current working directory using data \"file name\").....\n",
    "# 1. loading the data file using pandas \"pd.read_csv\" method , assigning it to adataframe \"df\"....\n",
    "\n",
    "df = pd.read_csv('googleplaystore.csv')"
   ]
  },
  {
   "cell_type": "code",
   "execution_count": 111,
   "id": "938b41af",
   "metadata": {},
   "outputs": [
    {
     "data": {
      "text/html": [
       "<div>\n",
       "<style scoped>\n",
       "    .dataframe tbody tr th:only-of-type {\n",
       "        vertical-align: middle;\n",
       "    }\n",
       "\n",
       "    .dataframe tbody tr th {\n",
       "        vertical-align: top;\n",
       "    }\n",
       "\n",
       "    .dataframe thead th {\n",
       "        text-align: right;\n",
       "    }\n",
       "</style>\n",
       "<table border=\"1\" class=\"dataframe\">\n",
       "  <thead>\n",
       "    <tr style=\"text-align: right;\">\n",
       "      <th></th>\n",
       "      <th>App</th>\n",
       "      <th>Category</th>\n",
       "      <th>Rating</th>\n",
       "      <th>Reviews</th>\n",
       "      <th>Size</th>\n",
       "      <th>Installs</th>\n",
       "      <th>Type</th>\n",
       "      <th>Price</th>\n",
       "      <th>Content Rating</th>\n",
       "      <th>Genres</th>\n",
       "      <th>Last Updated</th>\n",
       "      <th>Current Ver</th>\n",
       "      <th>Android Ver</th>\n",
       "    </tr>\n",
       "  </thead>\n",
       "  <tbody>\n",
       "    <tr>\n",
       "      <th>0</th>\n",
       "      <td>Photo Editor &amp; Candy Camera &amp; Grid &amp; ScrapBook</td>\n",
       "      <td>ART_AND_DESIGN</td>\n",
       "      <td>4.1</td>\n",
       "      <td>159</td>\n",
       "      <td>19M</td>\n",
       "      <td>10,000+</td>\n",
       "      <td>Free</td>\n",
       "      <td>0</td>\n",
       "      <td>Everyone</td>\n",
       "      <td>Art &amp; Design</td>\n",
       "      <td>January 7, 2018</td>\n",
       "      <td>1.0.0</td>\n",
       "      <td>4.0.3 and up</td>\n",
       "    </tr>\n",
       "    <tr>\n",
       "      <th>1</th>\n",
       "      <td>Coloring book moana</td>\n",
       "      <td>ART_AND_DESIGN</td>\n",
       "      <td>3.9</td>\n",
       "      <td>967</td>\n",
       "      <td>14M</td>\n",
       "      <td>500,000+</td>\n",
       "      <td>Free</td>\n",
       "      <td>0</td>\n",
       "      <td>Everyone</td>\n",
       "      <td>Art &amp; Design;Pretend Play</td>\n",
       "      <td>January 15, 2018</td>\n",
       "      <td>2.0.0</td>\n",
       "      <td>4.0.3 and up</td>\n",
       "    </tr>\n",
       "    <tr>\n",
       "      <th>2</th>\n",
       "      <td>U Launcher Lite – FREE Live Cool Themes, Hide ...</td>\n",
       "      <td>ART_AND_DESIGN</td>\n",
       "      <td>4.7</td>\n",
       "      <td>87510</td>\n",
       "      <td>8.7M</td>\n",
       "      <td>5,000,000+</td>\n",
       "      <td>Free</td>\n",
       "      <td>0</td>\n",
       "      <td>Everyone</td>\n",
       "      <td>Art &amp; Design</td>\n",
       "      <td>August 1, 2018</td>\n",
       "      <td>1.2.4</td>\n",
       "      <td>4.0.3 and up</td>\n",
       "    </tr>\n",
       "    <tr>\n",
       "      <th>3</th>\n",
       "      <td>Sketch - Draw &amp; Paint</td>\n",
       "      <td>ART_AND_DESIGN</td>\n",
       "      <td>4.5</td>\n",
       "      <td>215644</td>\n",
       "      <td>25M</td>\n",
       "      <td>50,000,000+</td>\n",
       "      <td>Free</td>\n",
       "      <td>0</td>\n",
       "      <td>Teen</td>\n",
       "      <td>Art &amp; Design</td>\n",
       "      <td>June 8, 2018</td>\n",
       "      <td>Varies with device</td>\n",
       "      <td>4.2 and up</td>\n",
       "    </tr>\n",
       "    <tr>\n",
       "      <th>4</th>\n",
       "      <td>Pixel Draw - Number Art Coloring Book</td>\n",
       "      <td>ART_AND_DESIGN</td>\n",
       "      <td>4.3</td>\n",
       "      <td>967</td>\n",
       "      <td>2.8M</td>\n",
       "      <td>100,000+</td>\n",
       "      <td>Free</td>\n",
       "      <td>0</td>\n",
       "      <td>Everyone</td>\n",
       "      <td>Art &amp; Design;Creativity</td>\n",
       "      <td>June 20, 2018</td>\n",
       "      <td>1.1</td>\n",
       "      <td>4.4 and up</td>\n",
       "    </tr>\n",
       "  </tbody>\n",
       "</table>\n",
       "</div>"
      ],
      "text/plain": [
       "                                                 App        Category  Rating  \\\n",
       "0     Photo Editor & Candy Camera & Grid & ScrapBook  ART_AND_DESIGN     4.1   \n",
       "1                                Coloring book moana  ART_AND_DESIGN     3.9   \n",
       "2  U Launcher Lite – FREE Live Cool Themes, Hide ...  ART_AND_DESIGN     4.7   \n",
       "3                              Sketch - Draw & Paint  ART_AND_DESIGN     4.5   \n",
       "4              Pixel Draw - Number Art Coloring Book  ART_AND_DESIGN     4.3   \n",
       "\n",
       "  Reviews  Size     Installs  Type Price Content Rating  \\\n",
       "0     159   19M      10,000+  Free     0       Everyone   \n",
       "1     967   14M     500,000+  Free     0       Everyone   \n",
       "2   87510  8.7M   5,000,000+  Free     0       Everyone   \n",
       "3  215644   25M  50,000,000+  Free     0           Teen   \n",
       "4     967  2.8M     100,000+  Free     0       Everyone   \n",
       "\n",
       "                      Genres      Last Updated         Current Ver  \\\n",
       "0               Art & Design   January 7, 2018               1.0.0   \n",
       "1  Art & Design;Pretend Play  January 15, 2018               2.0.0   \n",
       "2               Art & Design    August 1, 2018               1.2.4   \n",
       "3               Art & Design      June 8, 2018  Varies with device   \n",
       "4    Art & Design;Creativity     June 20, 2018                 1.1   \n",
       "\n",
       "    Android Ver  \n",
       "0  4.0.3 and up  \n",
       "1  4.0.3 and up  \n",
       "2  4.0.3 and up  \n",
       "3    4.2 and up  \n",
       "4    4.4 and up  "
      ]
     },
     "execution_count": 111,
     "metadata": {},
     "output_type": "execute_result"
    }
   ],
   "source": [
    "## Calling the first 5 rows using \"df.head()\" method, we can call desired no of rows by... \"df.head(n)\"\n",
    "# print(\"The first 5 rows of the dataframe\") \n",
    "df.head()"
   ]
  },
  {
   "cell_type": "code",
   "execution_count": 112,
   "id": "5a64d782",
   "metadata": {},
   "outputs": [
    {
     "data": {
      "text/plain": [
       "(10841, 13)"
      ]
     },
     "execution_count": 112,
     "metadata": {},
     "output_type": "execute_result"
    }
   ],
   "source": [
    "## Checking the number of rows and columns present in the dataframe by...... \"df.shape\" method\n",
    "df.shape"
   ]
  },
  {
   "cell_type": "markdown",
   "id": "06005fda",
   "metadata": {},
   "source": [
    "# 2. checking  Null values"
   ]
  },
  {
   "cell_type": "code",
   "execution_count": 113,
   "id": "be3b0729",
   "metadata": {},
   "outputs": [
    {
     "data": {
      "text/plain": [
       "App                  0\n",
       "Category             0\n",
       "Rating            1474\n",
       "Reviews              0\n",
       "Size                 0\n",
       "Installs             0\n",
       "Type                 1\n",
       "Price                0\n",
       "Content Rating       1\n",
       "Genres               0\n",
       "Last Updated         0\n",
       "Current Ver          8\n",
       "Android Ver          3\n",
       "dtype: int64"
      ]
     },
     "execution_count": 113,
     "metadata": {},
     "output_type": "execute_result"
    }
   ],
   "source": [
    "# 2.Checking for null values in the data. Getting the number of null values for each column by....  \"df.isna().sum()\" method.\n",
    "df.isna().sum()"
   ]
  },
  {
   "cell_type": "code",
   "execution_count": null,
   "id": "17671e61",
   "metadata": {},
   "outputs": [],
   "source": [
    "#A total of 1487 null values are detected."
   ]
  },
  {
   "cell_type": "markdown",
   "id": "d60f947b",
   "metadata": {},
   "source": [
    "# 3.Dropping Null values"
   ]
  },
  {
   "cell_type": "code",
   "execution_count": 114,
   "id": "e38f84e8",
   "metadata": {},
   "outputs": [
    {
     "name": "stdout",
     "output_type": "stream",
     "text": [
      "Actual number of rows before dropping null values is  (10841, 13)\n",
      "Number of rows after dropping null values is  (9360, 13)\n"
     ]
    }
   ],
   "source": [
    "# 3.Dropping the records with nulls in any of the columns by ....  \"df.dropna()\" method\n",
    "\n",
    "print ('Actual number of rows before dropping null values is ',df.shape)\n",
    "\n",
    "df = df.dropna()\n",
    "\n",
    "print ('Number of rows after dropping null values is ',df.shape )"
   ]
  },
  {
   "cell_type": "code",
   "execution_count": 115,
   "id": "79c923e7",
   "metadata": {},
   "outputs": [
    {
     "data": {
      "text/plain": [
       "App               0\n",
       "Category          0\n",
       "Rating            0\n",
       "Reviews           0\n",
       "Size              0\n",
       "Installs          0\n",
       "Type              0\n",
       "Price             0\n",
       "Content Rating    0\n",
       "Genres            0\n",
       "Last Updated      0\n",
       "Current Ver       0\n",
       "Android Ver       0\n",
       "dtype: int64"
      ]
     },
     "execution_count": 115,
     "metadata": {},
     "output_type": "execute_result"
    }
   ],
   "source": [
    "# Crosschecking if all null values dropped by... \"df.isna().sum()\"  .....sum of nulls = 0\n",
    "\n",
    "df.isna().sum()"
   ]
  },
  {
   "cell_type": "code",
   "execution_count": null,
   "id": "66d0fc27",
   "metadata": {},
   "outputs": [],
   "source": [
    "#Now sum of nulls == 0 ,all the null values dropped"
   ]
  },
  {
   "cell_type": "markdown",
   "id": "b47693c9",
   "metadata": {},
   "source": [
    "# 4. Formatting the incorrect and inconsistent variables..."
   ]
  },
  {
   "cell_type": "code",
   "execution_count": null,
   "id": "5dc6deea",
   "metadata": {},
   "outputs": [],
   "source": [
    "# 4. Formatting the incorrect and inconsistent variables..."
   ]
  },
  {
   "cell_type": "code",
   "execution_count": 116,
   "id": "00e68075",
   "metadata": {
    "scrolled": true
   },
   "outputs": [
    {
     "data": {
      "text/plain": [
       "Index(['App', 'Category', 'Rating', 'Reviews', 'Size', 'Installs', 'Type',\n",
       "       'Price', 'Content Rating', 'Genres', 'Last Updated', 'Current Ver',\n",
       "       'Android Ver'],\n",
       "      dtype='object')"
      ]
     },
     "execution_count": 116,
     "metadata": {},
     "output_type": "execute_result"
    }
   ],
   "source": [
    "## looing at the columns present in the data by ...  \"df.columns\"  method....\n",
    "df.columns"
   ]
  },
  {
   "cell_type": "code",
   "execution_count": 117,
   "id": "daa855e7",
   "metadata": {},
   "outputs": [
    {
     "data": {
      "text/plain": [
       "App                object\n",
       "Category           object\n",
       "Rating            float64\n",
       "Reviews            object\n",
       "Size               object\n",
       "Installs           object\n",
       "Type               object\n",
       "Price              object\n",
       "Content Rating     object\n",
       "Genres             object\n",
       "Last Updated       object\n",
       "Current Ver        object\n",
       "Android Ver        object\n",
       "dtype: object"
      ]
     },
     "execution_count": 117,
     "metadata": {},
     "output_type": "execute_result"
    }
   ],
   "source": [
    "## Checking the dataype of all the columns by.......   \"df.dtypes\" method..\n",
    "df.dtypes"
   ]
  },
  {
   "cell_type": "markdown",
   "id": "0ce85d6f",
   "metadata": {},
   "source": [
    "# 4.1  Size"
   ]
  },
  {
   "cell_type": "code",
   "execution_count": null,
   "id": "b46b56b3",
   "metadata": {},
   "outputs": [],
   "source": [
    "#4.1. Size column has sizes in Kb as well as Mb. To analyze, we’ll need to convert these to numeric.\n",
    "#Extracting the numeric value from the column....."
   ]
  },
  {
   "cell_type": "code",
   "execution_count": 118,
   "id": "f408a065",
   "metadata": {},
   "outputs": [],
   "source": [
    "## Replacing 'M','k'(for mb,kb) with \"000\"&'' respectively in\"Size\" column by ... \" df.col.str.replace()\" method\n",
    "\n",
    "df['Size'] = df.Size.str.replace(\"M\",\"000\") # All size values became the kilobyte type.\n",
    "df['Size'] = df.Size.str.replace(\"k\",\"\")\n",
    "\n",
    "\n",
    "## replacing \"varies with device\" to \"Nan\" in \"Size\" column by.....\" df.col.str.replace()\" method\n",
    "df['Size'] = df.Size.replace('Varies with device',np.nan)"
   ]
  },
  {
   "cell_type": "code",
   "execution_count": 119,
   "id": "43da90a3",
   "metadata": {},
   "outputs": [],
   "source": [
    "## Replacing ''1000+'' with \"1000\" in\"Size\" column by ... \" df.col.replace()\" method.\n",
    "\n",
    "df['Size'] = df.Size.replace('1000+',1000)\n",
    "\n",
    "## changing the datatype of \"Size\" column to \"float\" by .....\" df.astype()\" method.\n",
    "df['Size'] = df['Size'].astype(float)\n"
   ]
  },
  {
   "cell_type": "code",
   "execution_count": 120,
   "id": "17524bfc",
   "metadata": {},
   "outputs": [
    {
     "data": {
      "text/plain": [
       "dtype('float64')"
      ]
     },
     "execution_count": 120,
     "metadata": {},
     "output_type": "execute_result"
    }
   ],
   "source": [
    "## Crosschecking the change in datatype...... it...s a \"float\" now...\n",
    "df['Size'].dtype"
   ]
  },
  {
   "cell_type": "markdown",
   "id": "cd82924a",
   "metadata": {},
   "source": [
    "# 4.2 Reviews"
   ]
  },
  {
   "cell_type": "code",
   "execution_count": null,
   "id": "68e000e2",
   "metadata": {},
   "outputs": [],
   "source": [
    "#4.2. 'Reviews' is a numeric field, loaded \"object\" datatype. Converting it to numeric \"int\"by.... \"df.astype(int)\" method .."
   ]
  },
  {
   "cell_type": "code",
   "execution_count": 121,
   "id": "e40cb2b0",
   "metadata": {},
   "outputs": [
    {
     "data": {
      "text/plain": [
       "dtype('O')"
      ]
     },
     "execution_count": 121,
     "metadata": {},
     "output_type": "execute_result"
    }
   ],
   "source": [
    "## checking the datatype of \"Reviews\" column...\n",
    "df['Reviews'].dtype"
   ]
  },
  {
   "cell_type": "code",
   "execution_count": 122,
   "id": "417dfd73",
   "metadata": {},
   "outputs": [],
   "source": [
    "## changing the datatype of \"Reviews\" column to \"float\" by .....\" df.astype()\" method.\n",
    "\n",
    "df['Reviews'] = df['Reviews'].astype('int')"
   ]
  },
  {
   "cell_type": "code",
   "execution_count": 123,
   "id": "a57f2537",
   "metadata": {},
   "outputs": [
    {
     "data": {
      "text/plain": [
       "dtype('int32')"
      ]
     },
     "execution_count": 123,
     "metadata": {},
     "output_type": "execute_result"
    }
   ],
   "source": [
    "## cross checking the change in datatype..\n",
    "df['Reviews'].dtype"
   ]
  },
  {
   "cell_type": "markdown",
   "id": "f9bc3107",
   "metadata": {},
   "source": [
    "# 4.3 Installs"
   ]
  },
  {
   "cell_type": "code",
   "execution_count": null,
   "id": "a45022b2",
   "metadata": {},
   "outputs": [],
   "source": [
    "#4.3. Installs field is currently stored as string and has values like 1,000,000+ ,Treat 1,000,000+ as 1,000,000\n",
    "#remove ‘+’, ‘,’ from the field,by.... \"df.\" convert it to integer by"
   ]
  },
  {
   "cell_type": "code",
   "execution_count": 124,
   "id": "6b3b0c04",
   "metadata": {},
   "outputs": [
    {
     "data": {
      "text/plain": [
       "array(['10,000+', '500,000+', '5,000,000+', '50,000,000+', '100,000+',\n",
       "       '50,000+', '1,000,000+', '10,000,000+', '5,000+', '100,000,000+',\n",
       "       '1,000,000,000+', '1,000+', '500,000,000+', '100+', '500+', '10+',\n",
       "       '5+', '50+', '1+'], dtype=object)"
      ]
     },
     "execution_count": 124,
     "metadata": {},
     "output_type": "execute_result"
    }
   ],
   "source": [
    "## checking all the unique values present in column \"Installs\"\n",
    "\n",
    "df['Installs'].unique()"
   ]
  },
  {
   "cell_type": "code",
   "execution_count": 125,
   "id": "51adb7a1",
   "metadata": {},
   "outputs": [],
   "source": [
    "## importing re...\n",
    "import re\n",
    "\n",
    "## Removing '+',',' from \"Installs\"... thereafter removing th white space... \n",
    "\n",
    "df['Installs'] = df['Installs'].str.replace('+','', regex = True)\n",
    "df['Installs'] = df['Installs'].str.replace(',','', regex = True)\n",
    "df['Installs'] = df['Installs'].str.replace(' ','', regex = True)"
   ]
  },
  {
   "cell_type": "code",
   "execution_count": 126,
   "id": "aeb9078e",
   "metadata": {},
   "outputs": [],
   "source": [
    "## Changing the datatype of \"Installs\" to \"int\" by...... \"df.astype()\"...\n",
    "df['Installs'] = df['Installs'].astype('int')"
   ]
  },
  {
   "cell_type": "code",
   "execution_count": 127,
   "id": "c949f9b0",
   "metadata": {},
   "outputs": [
    {
     "data": {
      "text/plain": [
       "dtype('int32')"
      ]
     },
     "execution_count": 127,
     "metadata": {},
     "output_type": "execute_result"
    }
   ],
   "source": [
    "## Crosschecking....\n",
    "df['Installs'].dtype"
   ]
  },
  {
   "cell_type": "markdown",
   "id": "04417606",
   "metadata": {},
   "source": [
    "# 4.4 Price"
   ]
  },
  {
   "cell_type": "code",
   "execution_count": 128,
   "id": "93df700c",
   "metadata": {},
   "outputs": [],
   "source": [
    "## 4.4. Price field is a string and has $ symbol. Remove ‘$’ sign, and convert it to numeric.\n",
    "# REmoving $ sign from \"Price\" column ...\n",
    "\n",
    "df['Price'] = df['Price'].str.replace('$','', regex = True)\n",
    "\n",
    "# changing data type to \"float\"\n",
    "df['Price'] = df['Price'].astype('float')"
   ]
  },
  {
   "cell_type": "code",
   "execution_count": 129,
   "id": "97428b76",
   "metadata": {},
   "outputs": [
    {
     "data": {
      "text/plain": [
       "dtype('float64')"
      ]
     },
     "execution_count": 129,
     "metadata": {},
     "output_type": "execute_result"
    }
   ],
   "source": [
    "## Crosschecking...\n",
    "df['Price'].dtype"
   ]
  },
  {
   "cell_type": "markdown",
   "id": "0941ad21",
   "metadata": {},
   "source": [
    "# 4.5  Sanity checks:"
   ]
  },
  {
   "cell_type": "markdown",
   "id": "39268969",
   "metadata": {},
   "source": [
    "# (a) Rating"
   ]
  },
  {
   "cell_type": "code",
   "execution_count": null,
   "id": "376c10c6",
   "metadata": {},
   "outputs": [],
   "source": [
    "## (a) Average rating should be between 1 and 5 as only these values are allowed on the play store. \n",
    "##Drop the rows that have a value outside this range."
   ]
  },
  {
   "cell_type": "code",
   "execution_count": 130,
   "id": "133e7d4d",
   "metadata": {},
   "outputs": [
    {
     "data": {
      "text/html": [
       "<div>\n",
       "<style scoped>\n",
       "    .dataframe tbody tr th:only-of-type {\n",
       "        vertical-align: middle;\n",
       "    }\n",
       "\n",
       "    .dataframe tbody tr th {\n",
       "        vertical-align: top;\n",
       "    }\n",
       "\n",
       "    .dataframe thead th {\n",
       "        text-align: right;\n",
       "    }\n",
       "</style>\n",
       "<table border=\"1\" class=\"dataframe\">\n",
       "  <thead>\n",
       "    <tr style=\"text-align: right;\">\n",
       "      <th></th>\n",
       "      <th>App</th>\n",
       "      <th>Category</th>\n",
       "      <th>Rating</th>\n",
       "      <th>Reviews</th>\n",
       "      <th>Size</th>\n",
       "      <th>Installs</th>\n",
       "      <th>Type</th>\n",
       "      <th>Price</th>\n",
       "      <th>Content Rating</th>\n",
       "      <th>Genres</th>\n",
       "      <th>Last Updated</th>\n",
       "      <th>Current Ver</th>\n",
       "      <th>Android Ver</th>\n",
       "    </tr>\n",
       "  </thead>\n",
       "  <tbody>\n",
       "  </tbody>\n",
       "</table>\n",
       "</div>"
      ],
      "text/plain": [
       "Empty DataFrame\n",
       "Columns: [App, Category, Rating, Reviews, Size, Installs, Type, Price, Content Rating, Genres, Last Updated, Current Ver, Android Ver]\n",
       "Index: []"
      ]
     },
     "execution_count": 130,
     "metadata": {},
     "output_type": "execute_result"
    }
   ],
   "source": [
    "## Checking if any \"Rating\" value is above the max range \"5\"..\n",
    "df.loc[ (df['Rating'] > 5)]\n",
    "df.loc[ (df['Rating'] < 1)]"
   ]
  },
  {
   "cell_type": "code",
   "execution_count": 131,
   "id": "eaa19350",
   "metadata": {},
   "outputs": [],
   "source": [
    "## conversely we can also check by printing all the values available for \"Rating\" column"
   ]
  },
  {
   "cell_type": "code",
   "execution_count": 132,
   "id": "fb1902ee",
   "metadata": {},
   "outputs": [
    {
     "data": {
      "text/plain": [
       "array([4.1, 3.9, 4.7, 4.5, 4.3, 4.4, 3.8, 4.2, 4.6, 4. , 4.8, 4.9, 3.6,\n",
       "       3.7, 3.2, 3.3, 3.4, 3.5, 3.1, 5. , 2.6, 3. , 1.9, 2.5, 2.8, 2.7,\n",
       "       1. , 2.9, 2.3, 2.2, 1.7, 2. , 1.8, 2.4, 1.6, 2.1, 1.4, 1.5, 1.2])"
      ]
     },
     "execution_count": 132,
     "metadata": {},
     "output_type": "execute_result"
    }
   ],
   "source": [
    "## checking all the unique values present in column \"Rating\"\n",
    "\n",
    "df['Rating'].unique()"
   ]
  },
  {
   "cell_type": "code",
   "execution_count": 27,
   "id": "adfb17c0",
   "metadata": {},
   "outputs": [],
   "source": [
    "##Thus we conclude: \n",
    "#1. All the values in th column \"Rating\"  are within the range \"1\" and \"5\".\n",
    "#2. No need to drop any rows on this pretext."
   ]
  },
  {
   "cell_type": "markdown",
   "id": "e734854d",
   "metadata": {},
   "source": [
    "# (b) Reviews"
   ]
  },
  {
   "cell_type": "code",
   "execution_count": null,
   "id": "de16cd92",
   "metadata": {},
   "outputs": [],
   "source": [
    "##(b)Reviews should not be more than installs as only those who installed can review the app. \n",
    "#If there are any such records, drop them."
   ]
  },
  {
   "cell_type": "code",
   "execution_count": 133,
   "id": "16d71ae9",
   "metadata": {},
   "outputs": [
    {
     "name": "stdout",
     "output_type": "stream",
     "text": [
      "The number of rows before fitering is  (9360, 13)\n",
      "The number of rows after filtering and dropping entries of reviews greater than Installs is  (9353, 13)\n"
     ]
    }
   ],
   "source": [
    "## filtering and dropping any rows where entries are present for \"Reviews\" but not for \"Installs\" \n",
    "print('The number of rows before fitering is ',df.shape)\n",
    "\n",
    "rows = df[df.Installs < df.Reviews].index\n",
    "df.drop(rows, axis = 0, inplace = True)\n",
    "\n",
    "print('The number of rows after filtering and dropping entries of reviews greater than Installs is ',df.shape)"
   ]
  },
  {
   "cell_type": "code",
   "execution_count": null,
   "id": "2b596117",
   "metadata": {},
   "outputs": [],
   "source": [
    "# Decrement of rows indicates filtering of rows, thus data successfully fitered."
   ]
  },
  {
   "cell_type": "markdown",
   "id": "2e485338",
   "metadata": {},
   "source": [
    "# (c) Type"
   ]
  },
  {
   "cell_type": "code",
   "execution_count": null,
   "id": "713543d8",
   "metadata": {},
   "outputs": [],
   "source": [
    "##(c) For free apps (type = “Free”), the price should not be >0. Drop any such rows."
   ]
  },
  {
   "cell_type": "code",
   "execution_count": 134,
   "id": "e1efdcf1",
   "metadata": {},
   "outputs": [
    {
     "data": {
      "text/html": [
       "<div>\n",
       "<style scoped>\n",
       "    .dataframe tbody tr th:only-of-type {\n",
       "        vertical-align: middle;\n",
       "    }\n",
       "\n",
       "    .dataframe tbody tr th {\n",
       "        vertical-align: top;\n",
       "    }\n",
       "\n",
       "    .dataframe thead th {\n",
       "        text-align: right;\n",
       "    }\n",
       "</style>\n",
       "<table border=\"1\" class=\"dataframe\">\n",
       "  <thead>\n",
       "    <tr style=\"text-align: right;\">\n",
       "      <th></th>\n",
       "      <th>App</th>\n",
       "      <th>Category</th>\n",
       "      <th>Rating</th>\n",
       "      <th>Reviews</th>\n",
       "      <th>Size</th>\n",
       "      <th>Installs</th>\n",
       "      <th>Type</th>\n",
       "      <th>Price</th>\n",
       "      <th>Content Rating</th>\n",
       "      <th>Genres</th>\n",
       "      <th>Last Updated</th>\n",
       "      <th>Current Ver</th>\n",
       "      <th>Android Ver</th>\n",
       "    </tr>\n",
       "  </thead>\n",
       "  <tbody>\n",
       "  </tbody>\n",
       "</table>\n",
       "</div>"
      ],
      "text/plain": [
       "Empty DataFrame\n",
       "Columns: [App, Category, Rating, Reviews, Size, Installs, Type, Price, Content Rating, Genres, Last Updated, Current Ver, Android Ver]\n",
       "Index: []"
      ]
     },
     "execution_count": 134,
     "metadata": {},
     "output_type": "execute_result"
    }
   ],
   "source": [
    "# checking if for any free apps ( \"Type\" =  \"free\"), \"Price\" is greater than \"0\".. \n",
    "\n",
    "df.loc[ (df['Type'] == 'free') & (df['Price'] != '0')]"
   ]
  },
  {
   "cell_type": "code",
   "execution_count": 135,
   "id": "7da2b972",
   "metadata": {},
   "outputs": [
    {
     "data": {
      "text/plain": [
       "False    9353\n",
       "dtype: int64"
      ]
     },
     "execution_count": 135,
     "metadata": {},
     "output_type": "execute_result"
    }
   ],
   "source": [
    "## conversing we can also Crosscheck by assingnig codition to variable \"b\" and generating a boolean output... \n",
    "b = (df['Type'] == 'free') & (df['Price'] != '0')\n",
    "\n",
    "b.value_counts()"
   ]
  },
  {
   "cell_type": "code",
   "execution_count": null,
   "id": "cc68be2e",
   "metadata": {},
   "outputs": [],
   "source": [
    "#No such entries found where price is greater than 0 for free apps( type = free)"
   ]
  },
  {
   "cell_type": "markdown",
   "id": "16c251d5",
   "metadata": {},
   "source": [
    "# 5. Performing Univariate analysis"
   ]
  },
  {
   "cell_type": "markdown",
   "id": "35f629a7",
   "metadata": {},
   "source": [
    "# 5.1 Boxplot for Price."
   ]
  },
  {
   "cell_type": "code",
   "execution_count": null,
   "id": "dcbc2ecf",
   "metadata": {},
   "outputs": [],
   "source": [
    "## 5.1 Boxplot for Price..Are there any outliers? Think about the price of usual apps on Play Store."
   ]
  },
  {
   "cell_type": "code",
   "execution_count": 136,
   "id": "eed54d99",
   "metadata": {},
   "outputs": [],
   "source": [
    "import matplotlib.pyplot as plt\n",
    "%matplotlib inline\n",
    "import seaborn as sns"
   ]
  },
  {
   "cell_type": "code",
   "execution_count": 32,
   "id": "884383dd",
   "metadata": {},
   "outputs": [
    {
     "data": {
      "image/png": "[encoded data removed]",
      "text/plain": [
       "<Figure size 720x576 with 1 Axes>"
      ]
     },
     "metadata": {
      "needs_background": "light"
     },
     "output_type": "display_data"
    }
   ],
   "source": [
    "## plotting a boxplot for \"price\"\n",
    "plt.subplots(figsize=(10,8))\n",
    "sns.boxplot(df.Price)\n",
    "plt.xlabel('Unit Price')\n",
    "plt.title('Unit Price')\n",
    "plt.grid(linestyle='-')\n",
    "plt.show()"
   ]
  },
  {
   "cell_type": "code",
   "execution_count": null,
   "id": "b9a74182",
   "metadata": {},
   "outputs": [],
   "source": [
    "#Yes, there are few apps with price more than 200 which need to be handled"
   ]
  },
  {
   "cell_type": "markdown",
   "id": "3ca3b2dd",
   "metadata": {},
   "source": [
    "#  5.2. Boxplot for Reviews."
   ]
  },
  {
   "cell_type": "code",
   "execution_count": null,
   "id": "dba511e3",
   "metadata": {},
   "outputs": [],
   "source": [
    "## 5.2. Boxplot for Reviews\n",
    "\n",
    "# Are there any apps with very high number of reviews? Do the values seem right?\n",
    "\n"
   ]
  },
  {
   "cell_type": "code",
   "execution_count": 33,
   "id": "bdb0dece",
   "metadata": {},
   "outputs": [
    {
     "data": {
      "image/png": "[encoded data removed]",
      "text/plain": [
       "<Figure size 720x576 with 1 Axes>"
      ]
     },
     "metadata": {
      "needs_background": "light"
     },
     "output_type": "display_data"
    }
   ],
   "source": [
    "## plotting a boxplot for \"Reviews\"\n",
    "plt.subplots(figsize=(10,8))\n",
    "sns.boxplot(df.Reviews)\n",
    "plt.xlabel('Reviews')\n",
    "plt.title('Reviews')\n",
    "plt.grid(linestyle='-')\n",
    "plt.show()"
   ]
  },
  {
   "cell_type": "code",
   "execution_count": null,
   "id": "142b477c",
   "metadata": {},
   "outputs": [],
   "source": [
    "#Yes, some apps have exorbitant number of \"Reviews\" , which need to be handled."
   ]
  },
  {
   "cell_type": "markdown",
   "id": "f964ccfc",
   "metadata": {},
   "source": [
    "# 5.3 Histogram for Rating"
   ]
  },
  {
   "cell_type": "code",
   "execution_count": null,
   "id": "d647cee7",
   "metadata": {},
   "outputs": [],
   "source": [
    "## 5.3 Histogram for Rating\n",
    "#How are the ratings distributed? Is it more toward higher ratings?"
   ]
  },
  {
   "cell_type": "code",
   "execution_count": 34,
   "id": "6b6be037",
   "metadata": {},
   "outputs": [
    {
     "data": {
      "image/png": "[encoded data removed]",
      "text/plain": [
       "<Figure size 432x288 with 1 Axes>"
      ]
     },
     "metadata": {
      "needs_background": "light"
     },
     "output_type": "display_data"
    }
   ],
   "source": [
    "sns.distplot(df['Rating'])\n",
    "plt.show()"
   ]
  },
  {
   "cell_type": "code",
   "execution_count": null,
   "id": "644be6f5",
   "metadata": {},
   "outputs": [],
   "source": [
    "#The distribution is found to be \"Left skewed\" or \"-ve'ly skewed\", however no ratings above \"5\" detected."
   ]
  },
  {
   "cell_type": "markdown",
   "id": "2afea13a",
   "metadata": {},
   "source": [
    "# 5.4. Histogram for Size"
   ]
  },
  {
   "cell_type": "code",
   "execution_count": null,
   "id": "98535feb",
   "metadata": {},
   "outputs": [],
   "source": [
    "## 5.4. Histogram for Size\n",
    "#Note down your observations for the plots made above. Which of these seem to have outliers?"
   ]
  },
  {
   "cell_type": "code",
   "execution_count": 35,
   "id": "2f8a708d",
   "metadata": {},
   "outputs": [
    {
     "data": {
      "image/png": "[encoded data removed]",
      "text/plain": [
       "<Figure size 432x288 with 1 Axes>"
      ]
     },
     "metadata": {
      "needs_background": "light"
     },
     "output_type": "display_data"
    }
   ],
   "source": [
    "## plotting a histogram for size\n",
    "sns.distplot(df['Size'])\n",
    "plt.show()"
   ]
  },
  {
   "cell_type": "code",
   "execution_count": null,
   "id": "6f868aac",
   "metadata": {},
   "outputs": [],
   "source": [
    "#The distribution  is found to be  \"Right skewed\" or \"+ve'ly skewed\""
   ]
  },
  {
   "cell_type": "markdown",
   "id": "0b7a8f59",
   "metadata": {},
   "source": [
    "# 6. Outliers treatment."
   ]
  },
  {
   "cell_type": "markdown",
   "id": "bb20c669",
   "metadata": {},
   "source": [
    "# 6.1 Price"
   ]
  },
  {
   "cell_type": "code",
   "execution_count": null,
   "id": "16cd431e",
   "metadata": {},
   "outputs": [],
   "source": [
    "##6. Outlier treatment: "
   ]
  },
  {
   "cell_type": "code",
   "execution_count": null,
   "id": "37f121f8",
   "metadata": {},
   "outputs": [],
   "source": [
    "##6.1. Price: From the box plot, it seems like there are some apps with very high price. \n",
    "#A price of $200 for an application on the Play Store is very high and suspicious!\n",
    "#Check out the records with very high price\n",
    "#Is 200 indeed a high price?"
   ]
  },
  {
   "cell_type": "code",
   "execution_count": 137,
   "id": "3352de1d",
   "metadata": {},
   "outputs": [
    {
     "data": {
      "text/plain": [
       "array([  0.  ,   4.99,   3.99,   6.99,   7.99,   5.99,   2.99,   3.49,\n",
       "         1.99,   9.99,   7.49,   0.99,   9.  ,   5.49,  10.  ,  24.99,\n",
       "        11.99,  79.99,  16.99,  14.99,  29.99,  12.99,   2.49,  10.99,\n",
       "         1.5 ,  19.99,  15.99,  33.99,  39.99,   3.95,   4.49,   1.7 ,\n",
       "         8.99,   1.49,   3.88, 399.99,  17.99, 400.  ,   3.02,   1.76,\n",
       "         4.84,   4.77,   1.61,   2.5 ,   1.59,   6.49,   1.29, 299.99,\n",
       "       379.99,  37.99,  18.99, 389.99,   8.49,   1.75,  14.  ,   2.  ,\n",
       "         3.08,   2.59,  19.4 ,   3.9 ,   4.59,  15.46,   3.04,  13.99,\n",
       "         4.29,   3.28,   4.6 ,   1.  ,   2.95,   2.9 ,   1.97,   2.56,\n",
       "         1.2 ])"
      ]
     },
     "execution_count": 137,
     "metadata": {},
     "output_type": "execute_result"
    }
   ],
   "source": [
    "#checking for distinct values of 'price'\n",
    "df['Price'].unique()"
   ]
  },
  {
   "cell_type": "code",
   "execution_count": null,
   "id": "ad897a34",
   "metadata": {},
   "outputs": [],
   "source": [
    "#yes,there seem to be prices more than 200 which are very high lets drop them..."
   ]
  },
  {
   "cell_type": "code",
   "execution_count": 138,
   "id": "d9b0818c",
   "metadata": {},
   "outputs": [
    {
     "name": "stdout",
     "output_type": "stream",
     "text": [
      "The number of rows before filtering is (9353, 13)\n",
      "The number of rows after filtering \"price\"above 200 dollars is (9338, 13)\n"
     ]
    }
   ],
   "source": [
    "## filtering (dropping) the rows with 'price' above 200 dollars\n",
    "print('The number of rows before filtering is',df.shape)\n",
    "\n",
    "df = df[(df['Price'] < 200)]\n",
    "\n",
    "print('The number of rows after filtering \"price\"above 200 dollars is',df.shape)"
   ]
  },
  {
   "cell_type": "code",
   "execution_count": null,
   "id": "2b99238c",
   "metadata": {},
   "outputs": [],
   "source": [
    "The decrease in no of rows indicates fitering of records with \"Price\" above 200 dollars."
   ]
  },
  {
   "cell_type": "markdown",
   "id": "f2f01378",
   "metadata": {},
   "source": [
    "# 6.2 Reviews"
   ]
  },
  {
   "cell_type": "code",
   "execution_count": null,
   "id": "c5d6f978",
   "metadata": {},
   "outputs": [],
   "source": [
    "##6.2 Reviews: Very few apps have very high number of reviews. These are all star apps that don’t help with the analysis and,\n",
    "# in fact, will skew it. Drop records having more than 2 million reviews. "
   ]
  },
  {
   "cell_type": "code",
   "execution_count": 139,
   "id": "99c9a786",
   "metadata": {},
   "outputs": [
    {
     "data": {
      "text/plain": [
       "array([   159,    967,  87510, ...,    603,   1195, 398307])"
      ]
     },
     "execution_count": 139,
     "metadata": {},
     "output_type": "execute_result"
    }
   ],
   "source": [
    "## Checking for any outliers in unique values of 'Reviews'\n",
    "df['Reviews'].unique()"
   ]
  },
  {
   "cell_type": "code",
   "execution_count": 141,
   "id": "a1ffa3f0",
   "metadata": {},
   "outputs": [],
   "source": [
    "#Yes , there seem to be few rows with more than 2 million 'Reviews' lets drop them"
   ]
  },
  {
   "cell_type": "code",
   "execution_count": 142,
   "id": "01e7dc11",
   "metadata": {},
   "outputs": [
    {
     "name": "stdout",
     "output_type": "stream",
     "text": [
      "The number of rows before filtering is (9338, 13)\n",
      "The number of rows after filtering \"Reviews\" above 2 million is (8885, 13)\n"
     ]
    }
   ],
   "source": [
    "## filtering (dropping) the rows with more than 2 million 'Reviews'\n",
    "print('The number of rows before filtering is',df.shape)\n",
    "\n",
    "dfr = df[(df['Reviews'] < 2000000)]\n",
    "\n",
    "print('The number of rows after filtering \"Reviews\" above 2 million is',dfr.shape)"
   ]
  },
  {
   "cell_type": "markdown",
   "id": "c5777e51",
   "metadata": {},
   "source": [
    "# 6.3 Installs"
   ]
  },
  {
   "cell_type": "code",
   "execution_count": null,
   "id": "6652f2c4",
   "metadata": {},
   "outputs": [],
   "source": [
    "## 6.3 Installs:  There seems to be some outliers in this field too. \n",
    "#Apps having very high number of installs should be dropped from the analysis.\n",
    "\n",
    "##Find out the different percentiles – 10, 25, 50, 70, 90, 95, 99\n",
    "\n",
    "#Decide a threshold as cutoff for outlier and drop records having values more than that"
   ]
  },
  {
   "cell_type": "code",
   "execution_count": 143,
   "id": "c16ed92a",
   "metadata": {},
   "outputs": [
    {
     "data": {
      "text/plain": [
       "0.10         1000.0\n",
       "0.25        10000.0\n",
       "0.50       500000.0\n",
       "0.70      1000000.0\n",
       "0.90     10000000.0\n",
       "0.95     10000000.0\n",
       "0.99    100000000.0\n",
       "Name: Installs, dtype: float64"
      ]
     },
     "execution_count": 143,
     "metadata": {},
     "output_type": "execute_result"
    }
   ],
   "source": [
    "## Creating different percentiles – 10, 25, 50, 70, 90, 95, 99\n",
    "\n",
    "dfr.Installs.quantile([0.1, 0.25, 0.5, 0.7, 0.9, 0.95, 0.99])\n"
   ]
  },
  {
   "cell_type": "code",
   "execution_count": 144,
   "id": "0d2d16bd",
   "metadata": {},
   "outputs": [
    {
     "name": "stdout",
     "output_type": "stream",
     "text": [
      "The number of rows before setting a threshold cutoff at 95th percentile is  (8885, 13)\n",
      "The number of rows after setting a threshold cutoff at 95th percentile is (7258, 13)\n"
     ]
    }
   ],
   "source": [
    "#Drop records having a value more than the 95th percentile\n",
    "print('The number of rows before setting a threshold cutoff at 95th percentile is ',dfr.shape)\n",
    "\n",
    "df = dfr[dfr.Installs < 10000000]\n",
    "\n",
    "print('The number of rows after setting a threshold cutoff at 95th percentile is',df.shape)"
   ]
  },
  {
   "cell_type": "markdown",
   "id": "52457a75",
   "metadata": {},
   "source": [
    "# 7. Bivariate analysis"
   ]
  },
  {
   "cell_type": "code",
   "execution_count": null,
   "id": "35a8486a",
   "metadata": {},
   "outputs": [],
   "source": [
    "##7. Bivariate analysis: \n",
    "#Let’s look at how the available predictors relate to the variable of interest, i.e., our target variable rating.\n",
    "#Make scatter plots (for numeric features) and box plots (for character features) to assess the relations between rating and the other features."
   ]
  },
  {
   "cell_type": "code",
   "execution_count": 145,
   "id": "b91e4447",
   "metadata": {},
   "outputs": [
    {
     "data": {
      "text/html": [
       "<div>\n",
       "<style scoped>\n",
       "    .dataframe tbody tr th:only-of-type {\n",
       "        vertical-align: middle;\n",
       "    }\n",
       "\n",
       "    .dataframe tbody tr th {\n",
       "        vertical-align: top;\n",
       "    }\n",
       "\n",
       "    .dataframe thead th {\n",
       "        text-align: right;\n",
       "    }\n",
       "</style>\n",
       "<table border=\"1\" class=\"dataframe\">\n",
       "  <thead>\n",
       "    <tr style=\"text-align: right;\">\n",
       "      <th></th>\n",
       "      <th>App</th>\n",
       "      <th>Category</th>\n",
       "      <th>Rating</th>\n",
       "      <th>Reviews</th>\n",
       "      <th>Size</th>\n",
       "      <th>Installs</th>\n",
       "      <th>Type</th>\n",
       "      <th>Price</th>\n",
       "      <th>Content Rating</th>\n",
       "      <th>Genres</th>\n",
       "      <th>Last Updated</th>\n",
       "      <th>Current Ver</th>\n",
       "      <th>Android Ver</th>\n",
       "    </tr>\n",
       "  </thead>\n",
       "  <tbody>\n",
       "    <tr>\n",
       "      <th>0</th>\n",
       "      <td>Photo Editor &amp; Candy Camera &amp; Grid &amp; ScrapBook</td>\n",
       "      <td>ART_AND_DESIGN</td>\n",
       "      <td>4.1</td>\n",
       "      <td>159</td>\n",
       "      <td>19000.0</td>\n",
       "      <td>10000</td>\n",
       "      <td>Free</td>\n",
       "      <td>0.0</td>\n",
       "      <td>Everyone</td>\n",
       "      <td>Art &amp; Design</td>\n",
       "      <td>January 7, 2018</td>\n",
       "      <td>1.0.0</td>\n",
       "      <td>4.0.3 and up</td>\n",
       "    </tr>\n",
       "    <tr>\n",
       "      <th>1</th>\n",
       "      <td>Coloring book moana</td>\n",
       "      <td>ART_AND_DESIGN</td>\n",
       "      <td>3.9</td>\n",
       "      <td>967</td>\n",
       "      <td>14000.0</td>\n",
       "      <td>500000</td>\n",
       "      <td>Free</td>\n",
       "      <td>0.0</td>\n",
       "      <td>Everyone</td>\n",
       "      <td>Art &amp; Design;Pretend Play</td>\n",
       "      <td>January 15, 2018</td>\n",
       "      <td>2.0.0</td>\n",
       "      <td>4.0.3 and up</td>\n",
       "    </tr>\n",
       "    <tr>\n",
       "      <th>2</th>\n",
       "      <td>U Launcher Lite – FREE Live Cool Themes, Hide ...</td>\n",
       "      <td>ART_AND_DESIGN</td>\n",
       "      <td>4.7</td>\n",
       "      <td>87510</td>\n",
       "      <td>8.7</td>\n",
       "      <td>5000000</td>\n",
       "      <td>Free</td>\n",
       "      <td>0.0</td>\n",
       "      <td>Everyone</td>\n",
       "      <td>Art &amp; Design</td>\n",
       "      <td>August 1, 2018</td>\n",
       "      <td>1.2.4</td>\n",
       "      <td>4.0.3 and up</td>\n",
       "    </tr>\n",
       "    <tr>\n",
       "      <th>4</th>\n",
       "      <td>Pixel Draw - Number Art Coloring Book</td>\n",
       "      <td>ART_AND_DESIGN</td>\n",
       "      <td>4.3</td>\n",
       "      <td>967</td>\n",
       "      <td>2.8</td>\n",
       "      <td>100000</td>\n",
       "      <td>Free</td>\n",
       "      <td>0.0</td>\n",
       "      <td>Everyone</td>\n",
       "      <td>Art &amp; Design;Creativity</td>\n",
       "      <td>June 20, 2018</td>\n",
       "      <td>1.1</td>\n",
       "      <td>4.4 and up</td>\n",
       "    </tr>\n",
       "    <tr>\n",
       "      <th>5</th>\n",
       "      <td>Paper flowers instructions</td>\n",
       "      <td>ART_AND_DESIGN</td>\n",
       "      <td>4.4</td>\n",
       "      <td>167</td>\n",
       "      <td>5.6</td>\n",
       "      <td>50000</td>\n",
       "      <td>Free</td>\n",
       "      <td>0.0</td>\n",
       "      <td>Everyone</td>\n",
       "      <td>Art &amp; Design</td>\n",
       "      <td>March 26, 2017</td>\n",
       "      <td>1.0</td>\n",
       "      <td>2.3 and up</td>\n",
       "    </tr>\n",
       "  </tbody>\n",
       "</table>\n",
       "</div>"
      ],
      "text/plain": [
       "                                                 App        Category  Rating  \\\n",
       "0     Photo Editor & Candy Camera & Grid & ScrapBook  ART_AND_DESIGN     4.1   \n",
       "1                                Coloring book moana  ART_AND_DESIGN     3.9   \n",
       "2  U Launcher Lite – FREE Live Cool Themes, Hide ...  ART_AND_DESIGN     4.7   \n",
       "4              Pixel Draw - Number Art Coloring Book  ART_AND_DESIGN     4.3   \n",
       "5                         Paper flowers instructions  ART_AND_DESIGN     4.4   \n",
       "\n",
       "   Reviews     Size  Installs  Type  Price Content Rating  \\\n",
       "0      159  19000.0     10000  Free    0.0       Everyone   \n",
       "1      967  14000.0    500000  Free    0.0       Everyone   \n",
       "2    87510      8.7   5000000  Free    0.0       Everyone   \n",
       "4      967      2.8    100000  Free    0.0       Everyone   \n",
       "5      167      5.6     50000  Free    0.0       Everyone   \n",
       "\n",
       "                      Genres      Last Updated Current Ver   Android Ver  \n",
       "0               Art & Design   January 7, 2018       1.0.0  4.0.3 and up  \n",
       "1  Art & Design;Pretend Play  January 15, 2018       2.0.0  4.0.3 and up  \n",
       "2               Art & Design    August 1, 2018       1.2.4  4.0.3 and up  \n",
       "4    Art & Design;Creativity     June 20, 2018         1.1    4.4 and up  \n",
       "5               Art & Design    March 26, 2017         1.0    2.3 and up  "
      ]
     },
     "execution_count": 145,
     "metadata": {},
     "output_type": "execute_result"
    }
   ],
   "source": [
    "## Making a copy of dataframe \"df\" as \"df1\" for future use...\n",
    "df1 = pd.DataFrame()\n",
    "df1 = df\n",
    "df1.head()"
   ]
  },
  {
   "cell_type": "code",
   "execution_count": 146,
   "id": "f86a50a0",
   "metadata": {},
   "outputs": [],
   "source": [
    "## filtering the numeric columns as a new dataframe  \"dfn\"\n",
    "dfnum = df1.select_dtypes(include = 'number')"
   ]
  },
  {
   "cell_type": "code",
   "execution_count": 147,
   "id": "2aa0343e",
   "metadata": {},
   "outputs": [
    {
     "data": {
      "text/html": [
       "<div>\n",
       "<style scoped>\n",
       "    .dataframe tbody tr th:only-of-type {\n",
       "        vertical-align: middle;\n",
       "    }\n",
       "\n",
       "    .dataframe tbody tr th {\n",
       "        vertical-align: top;\n",
       "    }\n",
       "\n",
       "    .dataframe thead th {\n",
       "        text-align: right;\n",
       "    }\n",
       "</style>\n",
       "<table border=\"1\" class=\"dataframe\">\n",
       "  <thead>\n",
       "    <tr style=\"text-align: right;\">\n",
       "      <th></th>\n",
       "      <th>Rating</th>\n",
       "      <th>Reviews</th>\n",
       "      <th>Size</th>\n",
       "      <th>Installs</th>\n",
       "      <th>Price</th>\n",
       "    </tr>\n",
       "  </thead>\n",
       "  <tbody>\n",
       "    <tr>\n",
       "      <th>0</th>\n",
       "      <td>4.1</td>\n",
       "      <td>159</td>\n",
       "      <td>19000.0</td>\n",
       "      <td>10000</td>\n",
       "      <td>0.0</td>\n",
       "    </tr>\n",
       "    <tr>\n",
       "      <th>1</th>\n",
       "      <td>3.9</td>\n",
       "      <td>967</td>\n",
       "      <td>14000.0</td>\n",
       "      <td>500000</td>\n",
       "      <td>0.0</td>\n",
       "    </tr>\n",
       "    <tr>\n",
       "      <th>2</th>\n",
       "      <td>4.7</td>\n",
       "      <td>87510</td>\n",
       "      <td>8.7</td>\n",
       "      <td>5000000</td>\n",
       "      <td>0.0</td>\n",
       "    </tr>\n",
       "    <tr>\n",
       "      <th>4</th>\n",
       "      <td>4.3</td>\n",
       "      <td>967</td>\n",
       "      <td>2.8</td>\n",
       "      <td>100000</td>\n",
       "      <td>0.0</td>\n",
       "    </tr>\n",
       "    <tr>\n",
       "      <th>5</th>\n",
       "      <td>4.4</td>\n",
       "      <td>167</td>\n",
       "      <td>5.6</td>\n",
       "      <td>50000</td>\n",
       "      <td>0.0</td>\n",
       "    </tr>\n",
       "  </tbody>\n",
       "</table>\n",
       "</div>"
      ],
      "text/plain": [
       "   Rating  Reviews     Size  Installs  Price\n",
       "0     4.1      159  19000.0     10000    0.0\n",
       "1     3.9      967  14000.0    500000    0.0\n",
       "2     4.7    87510      8.7   5000000    0.0\n",
       "4     4.3      967      2.8    100000    0.0\n",
       "5     4.4      167      5.6     50000    0.0"
      ]
     },
     "execution_count": 147,
     "metadata": {},
     "output_type": "execute_result"
    }
   ],
   "source": [
    "dfnum.head()"
   ]
  },
  {
   "cell_type": "markdown",
   "id": "994fc4fa",
   "metadata": {},
   "source": [
    "# 7.1 Price vs Rating Scatter plot"
   ]
  },
  {
   "cell_type": "code",
   "execution_count": 148,
   "id": "b9673300",
   "metadata": {},
   "outputs": [],
   "source": [
    "## Assigning numeric columns to variables x , y , y1 and y2... for ease of operation.\n",
    "x  =  dfnum['Rating']\n",
    "y  =  dfnum['Reviews']\n",
    "y1 =  dfnum['Installs']\n",
    "y2 =  dfnum['Price'] \n",
    "y3 =  dfnum['Size']"
   ]
  },
  {
   "cell_type": "code",
   "execution_count": null,
   "id": "06db39cb",
   "metadata": {},
   "outputs": [],
   "source": [
    "## 7.1 Make scatter plot/joinplot for Rating vs. Price\n",
    "\n",
    "# What pattern do you observe? Does rating increase with price?"
   ]
  },
  {
   "cell_type": "code",
   "execution_count": 149,
   "id": "9c9572d7",
   "metadata": {},
   "outputs": [
    {
     "data": {
      "image/png": "[encoded data removed]",
      "text/plain": [
       "<Figure size 720x576 with 1 Axes>"
      ]
     },
     "metadata": {
      "needs_background": "light"
     },
     "output_type": "display_data"
    }
   ],
   "source": [
    "plt.subplots(figsize=(10,8))\n",
    "sns.scatterplot(x,y2,data = dfnum)\n",
    "plt.title('Price vs Rating')\n",
    "plt.grid(linestyle='-')\n",
    "plt.show()"
   ]
  },
  {
   "cell_type": "code",
   "execution_count": null,
   "id": "d7e2869f",
   "metadata": {},
   "outputs": [],
   "source": [
    "#No, 'Rating' does not seem to increase with 'Price'"
   ]
  },
  {
   "cell_type": "markdown",
   "id": "ff2391e6",
   "metadata": {},
   "source": [
    "# 7.2 Rating vs Size Scatter plot"
   ]
  },
  {
   "cell_type": "code",
   "execution_count": null,
   "id": "f9870ed3",
   "metadata": {},
   "outputs": [],
   "source": [
    "## 7.2 Make scatter plot/joinplot for Rating vs. Size\n",
    "\n",
    "#Are heavier apps rated better?"
   ]
  },
  {
   "cell_type": "code",
   "execution_count": 150,
   "id": "4de1c99e",
   "metadata": {},
   "outputs": [
    {
     "data": {
      "image/png": "[encoded data removed]",
      "text/plain": [
       "<Figure size 720x576 with 1 Axes>"
      ]
     },
     "metadata": {
      "needs_background": "light"
     },
     "output_type": "display_data"
    }
   ],
   "source": [
    "## scatter plot for 'Rating' and 'Size'\n",
    "\n",
    "plt.subplots(figsize=(10,8))\n",
    "sns.scatterplot(x,y3, data = dfnum)\n",
    "plt.title('Size vs Rating')\n",
    "plt.grid(linestyle='-')\n",
    "plt.show()"
   ]
  },
  {
   "cell_type": "code",
   "execution_count": null,
   "id": "5676f533",
   "metadata": {},
   "outputs": [],
   "source": [
    "#It can be concluded from the plot that heavier Apps have more \"Rating\""
   ]
  },
  {
   "cell_type": "markdown",
   "id": "2ffe7c5a",
   "metadata": {},
   "source": [
    "# 7.3 Rating vs Reviews scatter plot"
   ]
  },
  {
   "cell_type": "code",
   "execution_count": null,
   "id": "851f95e6",
   "metadata": {},
   "outputs": [],
   "source": [
    "##7.3  Make scatter plot/joinplot for Rating vs. Reviews\n",
    "\n",
    "# Does more review mean a better rating always?"
   ]
  },
  {
   "cell_type": "code",
   "execution_count": 151,
   "id": "4ae86227",
   "metadata": {},
   "outputs": [
    {
     "data": {
      "image/png": "[encoded data removed]",
      "text/plain": [
       "<Figure size 720x576 with 1 Axes>"
      ]
     },
     "metadata": {
      "needs_background": "light"
     },
     "output_type": "display_data"
    }
   ],
   "source": [
    "## scatter plot for \"Rating\" and 'Reviews'\n",
    "plt.subplots(figsize=(10,8))\n",
    "sns.scatterplot(x,y, data = dfnum)\n",
    "plt.title('Reviews vs Rating')\n",
    "plt.grid(linestyle='-')\n",
    "plt.show()"
   ]
  },
  {
   "cell_type": "code",
   "execution_count": null,
   "id": "571306e6",
   "metadata": {},
   "outputs": [],
   "source": [
    "#yes, more Reviews show increment in Rating, but these can also be outliers."
   ]
  },
  {
   "cell_type": "code",
   "execution_count": 152,
   "id": "978ad019",
   "metadata": {},
   "outputs": [],
   "source": [
    "## fitering all the object type columns as a new dataframe \"dfobj\"\n",
    "dfobj = df1.select_dtypes(include = 'object')"
   ]
  },
  {
   "cell_type": "code",
   "execution_count": 153,
   "id": "f338151b",
   "metadata": {},
   "outputs": [
    {
     "data": {
      "text/html": [
       "<div>\n",
       "<style scoped>\n",
       "    .dataframe tbody tr th:only-of-type {\n",
       "        vertical-align: middle;\n",
       "    }\n",
       "\n",
       "    .dataframe tbody tr th {\n",
       "        vertical-align: top;\n",
       "    }\n",
       "\n",
       "    .dataframe thead th {\n",
       "        text-align: right;\n",
       "    }\n",
       "</style>\n",
       "<table border=\"1\" class=\"dataframe\">\n",
       "  <thead>\n",
       "    <tr style=\"text-align: right;\">\n",
       "      <th></th>\n",
       "      <th>App</th>\n",
       "      <th>Category</th>\n",
       "      <th>Type</th>\n",
       "      <th>Content Rating</th>\n",
       "      <th>Genres</th>\n",
       "      <th>Last Updated</th>\n",
       "      <th>Current Ver</th>\n",
       "      <th>Android Ver</th>\n",
       "    </tr>\n",
       "  </thead>\n",
       "  <tbody>\n",
       "    <tr>\n",
       "      <th>0</th>\n",
       "      <td>Photo Editor &amp; Candy Camera &amp; Grid &amp; ScrapBook</td>\n",
       "      <td>ART_AND_DESIGN</td>\n",
       "      <td>Free</td>\n",
       "      <td>Everyone</td>\n",
       "      <td>Art &amp; Design</td>\n",
       "      <td>January 7, 2018</td>\n",
       "      <td>1.0.0</td>\n",
       "      <td>4.0.3 and up</td>\n",
       "    </tr>\n",
       "    <tr>\n",
       "      <th>1</th>\n",
       "      <td>Coloring book moana</td>\n",
       "      <td>ART_AND_DESIGN</td>\n",
       "      <td>Free</td>\n",
       "      <td>Everyone</td>\n",
       "      <td>Art &amp; Design;Pretend Play</td>\n",
       "      <td>January 15, 2018</td>\n",
       "      <td>2.0.0</td>\n",
       "      <td>4.0.3 and up</td>\n",
       "    </tr>\n",
       "    <tr>\n",
       "      <th>2</th>\n",
       "      <td>U Launcher Lite – FREE Live Cool Themes, Hide ...</td>\n",
       "      <td>ART_AND_DESIGN</td>\n",
       "      <td>Free</td>\n",
       "      <td>Everyone</td>\n",
       "      <td>Art &amp; Design</td>\n",
       "      <td>August 1, 2018</td>\n",
       "      <td>1.2.4</td>\n",
       "      <td>4.0.3 and up</td>\n",
       "    </tr>\n",
       "    <tr>\n",
       "      <th>4</th>\n",
       "      <td>Pixel Draw - Number Art Coloring Book</td>\n",
       "      <td>ART_AND_DESIGN</td>\n",
       "      <td>Free</td>\n",
       "      <td>Everyone</td>\n",
       "      <td>Art &amp; Design;Creativity</td>\n",
       "      <td>June 20, 2018</td>\n",
       "      <td>1.1</td>\n",
       "      <td>4.4 and up</td>\n",
       "    </tr>\n",
       "    <tr>\n",
       "      <th>5</th>\n",
       "      <td>Paper flowers instructions</td>\n",
       "      <td>ART_AND_DESIGN</td>\n",
       "      <td>Free</td>\n",
       "      <td>Everyone</td>\n",
       "      <td>Art &amp; Design</td>\n",
       "      <td>March 26, 2017</td>\n",
       "      <td>1.0</td>\n",
       "      <td>2.3 and up</td>\n",
       "    </tr>\n",
       "  </tbody>\n",
       "</table>\n",
       "</div>"
      ],
      "text/plain": [
       "                                                 App        Category  Type  \\\n",
       "0     Photo Editor & Candy Camera & Grid & ScrapBook  ART_AND_DESIGN  Free   \n",
       "1                                Coloring book moana  ART_AND_DESIGN  Free   \n",
       "2  U Launcher Lite – FREE Live Cool Themes, Hide ...  ART_AND_DESIGN  Free   \n",
       "4              Pixel Draw - Number Art Coloring Book  ART_AND_DESIGN  Free   \n",
       "5                         Paper flowers instructions  ART_AND_DESIGN  Free   \n",
       "\n",
       "  Content Rating                     Genres      Last Updated Current Ver  \\\n",
       "0       Everyone               Art & Design   January 7, 2018       1.0.0   \n",
       "1       Everyone  Art & Design;Pretend Play  January 15, 2018       2.0.0   \n",
       "2       Everyone               Art & Design    August 1, 2018       1.2.4   \n",
       "4       Everyone    Art & Design;Creativity     June 20, 2018         1.1   \n",
       "5       Everyone               Art & Design    March 26, 2017         1.0   \n",
       "\n",
       "    Android Ver  \n",
       "0  4.0.3 and up  \n",
       "1  4.0.3 and up  \n",
       "2  4.0.3 and up  \n",
       "4    4.4 and up  \n",
       "5    2.3 and up  "
      ]
     },
     "execution_count": 153,
     "metadata": {},
     "output_type": "execute_result"
    }
   ],
   "source": [
    "dfobj.head()"
   ]
  },
  {
   "cell_type": "markdown",
   "id": "c625edf1",
   "metadata": {},
   "source": [
    "# 7.4 Rating vs Content Rating Boxplot"
   ]
  },
  {
   "cell_type": "code",
   "execution_count": null,
   "id": "38999708",
   "metadata": {},
   "outputs": [],
   "source": [
    "## 7.4 Make boxplot for Rating vs. Content Rating\n",
    "\n",
    "# Is there any difference in the ratings? Are some types liked better?"
   ]
  },
  {
   "cell_type": "code",
   "execution_count": 154,
   "id": "662707d5",
   "metadata": {},
   "outputs": [],
   "source": [
    "## Assigning numeric & object  columns to variables x , y and z... for ease of operation.\n",
    "x  =  dfnum['Rating']\n",
    "y  =  dfobj['Content Rating']\n",
    "z  =  dfobj['Category']"
   ]
  },
  {
   "cell_type": "code",
   "execution_count": 52,
   "id": "634bd001",
   "metadata": {},
   "outputs": [
    {
     "data": {
      "image/png": "[encoded data removed]",
      "text/plain": [
       "<Figure size 720x576 with 1 Axes>"
      ]
     },
     "metadata": {
      "needs_background": "light"
     },
     "output_type": "display_data"
    }
   ],
   "source": [
    "## plotting a boxplot for \"Rating & Content Rating\"\n",
    "plt.subplots(figsize=(10,8))\n",
    "sns.boxplot(x,y)\n",
    "plt.title('Rating vs Content Rating ')\n",
    "plt.grid(linestyle='-')\n",
    "plt.show()"
   ]
  },
  {
   "cell_type": "code",
   "execution_count": null,
   "id": "cdf97ac6",
   "metadata": {},
   "outputs": [],
   "source": [
    "#Not much conclusion could be drawn as the plot is almost same for Content Ratings, except Adults only 18+ & Unrated"
   ]
  },
  {
   "cell_type": "markdown",
   "id": "c8f58a68",
   "metadata": {},
   "source": [
    "# 7.5 Rating vs Category boxplot"
   ]
  },
  {
   "cell_type": "code",
   "execution_count": null,
   "id": "ad1f0808",
   "metadata": {},
   "outputs": [],
   "source": [
    "## 7.5 Make boxplot for Ratings vs. Category\n",
    "\n",
    "# Which genre has the best ratings?"
   ]
  },
  {
   "cell_type": "code",
   "execution_count": 53,
   "id": "9d2ad498",
   "metadata": {},
   "outputs": [
    {
     "data": {
      "image/png": "[encoded data removed]",
      "text/plain": [
       "<Figure size 720x576 with 1 Axes>"
      ]
     },
     "metadata": {
      "needs_background": "light"
     },
     "output_type": "display_data"
    }
   ],
   "source": [
    "## plotting a boxplot for \"Rating & Category\"\n",
    "plt.subplots(figsize=(10,8))\n",
    "sns.boxplot(x,z)\n",
    "plt.title('Rating vs Category ')\n",
    "plt.grid(linestyle='-')\n",
    "plt.show()"
   ]
  },
  {
   "cell_type": "code",
   "execution_count": null,
   "id": "edc1279d",
   "metadata": {},
   "outputs": [],
   "source": [
    "\"ART_AND_DESIGN and EVENT\" genre has best \"Rating\""
   ]
  },
  {
   "cell_type": "markdown",
   "id": "6f2e58f9",
   "metadata": {},
   "source": [
    "# 8. Data preprocessing"
   ]
  },
  {
   "cell_type": "code",
   "execution_count": null,
   "id": "9354c796",
   "metadata": {},
   "outputs": [],
   "source": [
    "## 8. Data preprocessing\n",
    "#For the steps below, create a copy of the dataframe to make all the edits. Name it inp1."
   ]
  },
  {
   "cell_type": "code",
   "execution_count": 155,
   "id": "30c8de95",
   "metadata": {},
   "outputs": [
    {
     "data": {
      "text/html": [
       "<div>\n",
       "<style scoped>\n",
       "    .dataframe tbody tr th:only-of-type {\n",
       "        vertical-align: middle;\n",
       "    }\n",
       "\n",
       "    .dataframe tbody tr th {\n",
       "        vertical-align: top;\n",
       "    }\n",
       "\n",
       "    .dataframe thead th {\n",
       "        text-align: right;\n",
       "    }\n",
       "</style>\n",
       "<table border=\"1\" class=\"dataframe\">\n",
       "  <thead>\n",
       "    <tr style=\"text-align: right;\">\n",
       "      <th></th>\n",
       "      <th>App</th>\n",
       "      <th>Category</th>\n",
       "      <th>Rating</th>\n",
       "      <th>Reviews</th>\n",
       "      <th>Size</th>\n",
       "      <th>Installs</th>\n",
       "      <th>Type</th>\n",
       "      <th>Price</th>\n",
       "      <th>Content Rating</th>\n",
       "      <th>Genres</th>\n",
       "      <th>Last Updated</th>\n",
       "      <th>Current Ver</th>\n",
       "      <th>Android Ver</th>\n",
       "    </tr>\n",
       "  </thead>\n",
       "  <tbody>\n",
       "    <tr>\n",
       "      <th>0</th>\n",
       "      <td>Photo Editor &amp; Candy Camera &amp; Grid &amp; ScrapBook</td>\n",
       "      <td>ART_AND_DESIGN</td>\n",
       "      <td>4.1</td>\n",
       "      <td>159</td>\n",
       "      <td>19000.0</td>\n",
       "      <td>10000</td>\n",
       "      <td>Free</td>\n",
       "      <td>0.0</td>\n",
       "      <td>Everyone</td>\n",
       "      <td>Art &amp; Design</td>\n",
       "      <td>January 7, 2018</td>\n",
       "      <td>1.0.0</td>\n",
       "      <td>4.0.3 and up</td>\n",
       "    </tr>\n",
       "    <tr>\n",
       "      <th>1</th>\n",
       "      <td>Coloring book moana</td>\n",
       "      <td>ART_AND_DESIGN</td>\n",
       "      <td>3.9</td>\n",
       "      <td>967</td>\n",
       "      <td>14000.0</td>\n",
       "      <td>500000</td>\n",
       "      <td>Free</td>\n",
       "      <td>0.0</td>\n",
       "      <td>Everyone</td>\n",
       "      <td>Art &amp; Design;Pretend Play</td>\n",
       "      <td>January 15, 2018</td>\n",
       "      <td>2.0.0</td>\n",
       "      <td>4.0.3 and up</td>\n",
       "    </tr>\n",
       "    <tr>\n",
       "      <th>2</th>\n",
       "      <td>U Launcher Lite – FREE Live Cool Themes, Hide ...</td>\n",
       "      <td>ART_AND_DESIGN</td>\n",
       "      <td>4.7</td>\n",
       "      <td>87510</td>\n",
       "      <td>8.7</td>\n",
       "      <td>5000000</td>\n",
       "      <td>Free</td>\n",
       "      <td>0.0</td>\n",
       "      <td>Everyone</td>\n",
       "      <td>Art &amp; Design</td>\n",
       "      <td>August 1, 2018</td>\n",
       "      <td>1.2.4</td>\n",
       "      <td>4.0.3 and up</td>\n",
       "    </tr>\n",
       "    <tr>\n",
       "      <th>3</th>\n",
       "      <td>Pixel Draw - Number Art Coloring Book</td>\n",
       "      <td>ART_AND_DESIGN</td>\n",
       "      <td>4.3</td>\n",
       "      <td>967</td>\n",
       "      <td>2.8</td>\n",
       "      <td>100000</td>\n",
       "      <td>Free</td>\n",
       "      <td>0.0</td>\n",
       "      <td>Everyone</td>\n",
       "      <td>Art &amp; Design;Creativity</td>\n",
       "      <td>June 20, 2018</td>\n",
       "      <td>1.1</td>\n",
       "      <td>4.4 and up</td>\n",
       "    </tr>\n",
       "    <tr>\n",
       "      <th>4</th>\n",
       "      <td>Paper flowers instructions</td>\n",
       "      <td>ART_AND_DESIGN</td>\n",
       "      <td>4.4</td>\n",
       "      <td>167</td>\n",
       "      <td>5.6</td>\n",
       "      <td>50000</td>\n",
       "      <td>Free</td>\n",
       "      <td>0.0</td>\n",
       "      <td>Everyone</td>\n",
       "      <td>Art &amp; Design</td>\n",
       "      <td>March 26, 2017</td>\n",
       "      <td>1.0</td>\n",
       "      <td>2.3 and up</td>\n",
       "    </tr>\n",
       "  </tbody>\n",
       "</table>\n",
       "</div>"
      ],
      "text/plain": [
       "                                                 App        Category  Rating  \\\n",
       "0     Photo Editor & Candy Camera & Grid & ScrapBook  ART_AND_DESIGN     4.1   \n",
       "1                                Coloring book moana  ART_AND_DESIGN     3.9   \n",
       "2  U Launcher Lite – FREE Live Cool Themes, Hide ...  ART_AND_DESIGN     4.7   \n",
       "3              Pixel Draw - Number Art Coloring Book  ART_AND_DESIGN     4.3   \n",
       "4                         Paper flowers instructions  ART_AND_DESIGN     4.4   \n",
       "\n",
       "   Reviews     Size  Installs  Type  Price Content Rating  \\\n",
       "0      159  19000.0     10000  Free    0.0       Everyone   \n",
       "1      967  14000.0    500000  Free    0.0       Everyone   \n",
       "2    87510      8.7   5000000  Free    0.0       Everyone   \n",
       "3      967      2.8    100000  Free    0.0       Everyone   \n",
       "4      167      5.6     50000  Free    0.0       Everyone   \n",
       "\n",
       "                      Genres      Last Updated Current Ver   Android Ver  \n",
       "0               Art & Design   January 7, 2018       1.0.0  4.0.3 and up  \n",
       "1  Art & Design;Pretend Play  January 15, 2018       2.0.0  4.0.3 and up  \n",
       "2               Art & Design    August 1, 2018       1.2.4  4.0.3 and up  \n",
       "3    Art & Design;Creativity     June 20, 2018         1.1    4.4 and up  \n",
       "4               Art & Design    March 26, 2017         1.0    2.3 and up  "
      ]
     },
     "execution_count": 155,
     "metadata": {},
     "output_type": "execute_result"
    }
   ],
   "source": [
    "## making a copy of df as inp1\n",
    "inp1= df\n",
    "inp1.reset_index(drop=True,inplace=True)\n",
    "inp1.head()"
   ]
  },
  {
   "cell_type": "code",
   "execution_count": null,
   "id": "0d7b360b",
   "metadata": {},
   "outputs": [],
   "source": [
    "## 8.1 Reviews and Install have some values that are still relatively very high. Before building a linear regression model,"
   ]
  },
  {
   "cell_type": "code",
   "execution_count": 156,
   "id": "f67971e8",
   "metadata": {},
   "outputs": [
    {
     "data": {
      "text/html": [
       "<div>\n",
       "<style scoped>\n",
       "    .dataframe tbody tr th:only-of-type {\n",
       "        vertical-align: middle;\n",
       "    }\n",
       "\n",
       "    .dataframe tbody tr th {\n",
       "        vertical-align: top;\n",
       "    }\n",
       "\n",
       "    .dataframe thead th {\n",
       "        text-align: right;\n",
       "    }\n",
       "</style>\n",
       "<table border=\"1\" class=\"dataframe\">\n",
       "  <thead>\n",
       "    <tr style=\"text-align: right;\">\n",
       "      <th></th>\n",
       "      <th>App</th>\n",
       "      <th>Category</th>\n",
       "      <th>Rating</th>\n",
       "      <th>Reviews</th>\n",
       "      <th>Size</th>\n",
       "      <th>Installs</th>\n",
       "      <th>Type</th>\n",
       "      <th>Price</th>\n",
       "      <th>Content Rating</th>\n",
       "      <th>Genres</th>\n",
       "      <th>Last Updated</th>\n",
       "      <th>Current Ver</th>\n",
       "      <th>Android Ver</th>\n",
       "    </tr>\n",
       "  </thead>\n",
       "  <tbody>\n",
       "    <tr>\n",
       "      <th>0</th>\n",
       "      <td>Photo Editor &amp; Candy Camera &amp; Grid &amp; ScrapBook</td>\n",
       "      <td>ART_AND_DESIGN</td>\n",
       "      <td>4.1</td>\n",
       "      <td>5.075174</td>\n",
       "      <td>19000.0</td>\n",
       "      <td>9.210440</td>\n",
       "      <td>Free</td>\n",
       "      <td>0.0</td>\n",
       "      <td>Everyone</td>\n",
       "      <td>Art &amp; Design</td>\n",
       "      <td>January 7, 2018</td>\n",
       "      <td>1.0.0</td>\n",
       "      <td>4.0.3 and up</td>\n",
       "    </tr>\n",
       "    <tr>\n",
       "      <th>1</th>\n",
       "      <td>Coloring book moana</td>\n",
       "      <td>ART_AND_DESIGN</td>\n",
       "      <td>3.9</td>\n",
       "      <td>6.875232</td>\n",
       "      <td>14000.0</td>\n",
       "      <td>13.122365</td>\n",
       "      <td>Free</td>\n",
       "      <td>0.0</td>\n",
       "      <td>Everyone</td>\n",
       "      <td>Art &amp; Design;Pretend Play</td>\n",
       "      <td>January 15, 2018</td>\n",
       "      <td>2.0.0</td>\n",
       "      <td>4.0.3 and up</td>\n",
       "    </tr>\n",
       "    <tr>\n",
       "      <th>2</th>\n",
       "      <td>U Launcher Lite – FREE Live Cool Themes, Hide ...</td>\n",
       "      <td>ART_AND_DESIGN</td>\n",
       "      <td>4.7</td>\n",
       "      <td>11.379520</td>\n",
       "      <td>8.7</td>\n",
       "      <td>15.424949</td>\n",
       "      <td>Free</td>\n",
       "      <td>0.0</td>\n",
       "      <td>Everyone</td>\n",
       "      <td>Art &amp; Design</td>\n",
       "      <td>August 1, 2018</td>\n",
       "      <td>1.2.4</td>\n",
       "      <td>4.0.3 and up</td>\n",
       "    </tr>\n",
       "    <tr>\n",
       "      <th>3</th>\n",
       "      <td>Pixel Draw - Number Art Coloring Book</td>\n",
       "      <td>ART_AND_DESIGN</td>\n",
       "      <td>4.3</td>\n",
       "      <td>6.875232</td>\n",
       "      <td>2.8</td>\n",
       "      <td>11.512935</td>\n",
       "      <td>Free</td>\n",
       "      <td>0.0</td>\n",
       "      <td>Everyone</td>\n",
       "      <td>Art &amp; Design;Creativity</td>\n",
       "      <td>June 20, 2018</td>\n",
       "      <td>1.1</td>\n",
       "      <td>4.4 and up</td>\n",
       "    </tr>\n",
       "    <tr>\n",
       "      <th>4</th>\n",
       "      <td>Paper flowers instructions</td>\n",
       "      <td>ART_AND_DESIGN</td>\n",
       "      <td>4.4</td>\n",
       "      <td>5.123964</td>\n",
       "      <td>5.6</td>\n",
       "      <td>10.819798</td>\n",
       "      <td>Free</td>\n",
       "      <td>0.0</td>\n",
       "      <td>Everyone</td>\n",
       "      <td>Art &amp; Design</td>\n",
       "      <td>March 26, 2017</td>\n",
       "      <td>1.0</td>\n",
       "      <td>2.3 and up</td>\n",
       "    </tr>\n",
       "  </tbody>\n",
       "</table>\n",
       "</div>"
      ],
      "text/plain": [
       "                                                 App        Category  Rating  \\\n",
       "0     Photo Editor & Candy Camera & Grid & ScrapBook  ART_AND_DESIGN     4.1   \n",
       "1                                Coloring book moana  ART_AND_DESIGN     3.9   \n",
       "2  U Launcher Lite – FREE Live Cool Themes, Hide ...  ART_AND_DESIGN     4.7   \n",
       "3              Pixel Draw - Number Art Coloring Book  ART_AND_DESIGN     4.3   \n",
       "4                         Paper flowers instructions  ART_AND_DESIGN     4.4   \n",
       "\n",
       "     Reviews     Size   Installs  Type  Price Content Rating  \\\n",
       "0   5.075174  19000.0   9.210440  Free    0.0       Everyone   \n",
       "1   6.875232  14000.0  13.122365  Free    0.0       Everyone   \n",
       "2  11.379520      8.7  15.424949  Free    0.0       Everyone   \n",
       "3   6.875232      2.8  11.512935  Free    0.0       Everyone   \n",
       "4   5.123964      5.6  10.819798  Free    0.0       Everyone   \n",
       "\n",
       "                      Genres      Last Updated Current Ver   Android Ver  \n",
       "0               Art & Design   January 7, 2018       1.0.0  4.0.3 and up  \n",
       "1  Art & Design;Pretend Play  January 15, 2018       2.0.0  4.0.3 and up  \n",
       "2               Art & Design    August 1, 2018       1.2.4  4.0.3 and up  \n",
       "3    Art & Design;Creativity     June 20, 2018         1.1    4.4 and up  \n",
       "4               Art & Design    March 26, 2017         1.0    2.3 and up  "
      ]
     },
     "execution_count": 156,
     "metadata": {},
     "output_type": "execute_result"
    }
   ],
   "source": [
    "#you need to reduce the skew. Apply log transformation (np.log1p) to Reviews and Installs.\n",
    "\n",
    "inp1['Installs'] = np.log1p(inp1['Installs'])\n",
    "inp1['Reviews']  = np.log1p(inp1['Reviews'])\n",
    "\n",
    "inp1.head()"
   ]
  },
  {
   "cell_type": "code",
   "execution_count": null,
   "id": "ea410bf5",
   "metadata": {},
   "outputs": [],
   "source": [
    "## 8.2 Drop columns App, Last Updated, Current Ver, and Android Ver. These variables are not useful for our task."
   ]
  },
  {
   "cell_type": "code",
   "execution_count": 157,
   "id": "3a2b998e",
   "metadata": {},
   "outputs": [],
   "source": [
    "inp1.drop([\"App\", \"Last Updated\", \"Current Ver\", \"Android Ver\"], axis = 1,inplace = True)"
   ]
  },
  {
   "cell_type": "code",
   "execution_count": 158,
   "id": "91aa40da",
   "metadata": {},
   "outputs": [
    {
     "data": {
      "text/html": [
       "<div>\n",
       "<style scoped>\n",
       "    .dataframe tbody tr th:only-of-type {\n",
       "        vertical-align: middle;\n",
       "    }\n",
       "\n",
       "    .dataframe tbody tr th {\n",
       "        vertical-align: top;\n",
       "    }\n",
       "\n",
       "    .dataframe thead th {\n",
       "        text-align: right;\n",
       "    }\n",
       "</style>\n",
       "<table border=\"1\" class=\"dataframe\">\n",
       "  <thead>\n",
       "    <tr style=\"text-align: right;\">\n",
       "      <th></th>\n",
       "      <th>Category</th>\n",
       "      <th>Rating</th>\n",
       "      <th>Reviews</th>\n",
       "      <th>Size</th>\n",
       "      <th>Installs</th>\n",
       "      <th>Type</th>\n",
       "      <th>Price</th>\n",
       "      <th>Content Rating</th>\n",
       "      <th>Genres</th>\n",
       "    </tr>\n",
       "  </thead>\n",
       "  <tbody>\n",
       "    <tr>\n",
       "      <th>0</th>\n",
       "      <td>ART_AND_DESIGN</td>\n",
       "      <td>4.1</td>\n",
       "      <td>5.075174</td>\n",
       "      <td>19000.0</td>\n",
       "      <td>9.210440</td>\n",
       "      <td>Free</td>\n",
       "      <td>0.0</td>\n",
       "      <td>Everyone</td>\n",
       "      <td>Art &amp; Design</td>\n",
       "    </tr>\n",
       "    <tr>\n",
       "      <th>1</th>\n",
       "      <td>ART_AND_DESIGN</td>\n",
       "      <td>3.9</td>\n",
       "      <td>6.875232</td>\n",
       "      <td>14000.0</td>\n",
       "      <td>13.122365</td>\n",
       "      <td>Free</td>\n",
       "      <td>0.0</td>\n",
       "      <td>Everyone</td>\n",
       "      <td>Art &amp; Design;Pretend Play</td>\n",
       "    </tr>\n",
       "    <tr>\n",
       "      <th>2</th>\n",
       "      <td>ART_AND_DESIGN</td>\n",
       "      <td>4.7</td>\n",
       "      <td>11.379520</td>\n",
       "      <td>8.7</td>\n",
       "      <td>15.424949</td>\n",
       "      <td>Free</td>\n",
       "      <td>0.0</td>\n",
       "      <td>Everyone</td>\n",
       "      <td>Art &amp; Design</td>\n",
       "    </tr>\n",
       "    <tr>\n",
       "      <th>3</th>\n",
       "      <td>ART_AND_DESIGN</td>\n",
       "      <td>4.3</td>\n",
       "      <td>6.875232</td>\n",
       "      <td>2.8</td>\n",
       "      <td>11.512935</td>\n",
       "      <td>Free</td>\n",
       "      <td>0.0</td>\n",
       "      <td>Everyone</td>\n",
       "      <td>Art &amp; Design;Creativity</td>\n",
       "    </tr>\n",
       "    <tr>\n",
       "      <th>4</th>\n",
       "      <td>ART_AND_DESIGN</td>\n",
       "      <td>4.4</td>\n",
       "      <td>5.123964</td>\n",
       "      <td>5.6</td>\n",
       "      <td>10.819798</td>\n",
       "      <td>Free</td>\n",
       "      <td>0.0</td>\n",
       "      <td>Everyone</td>\n",
       "      <td>Art &amp; Design</td>\n",
       "    </tr>\n",
       "  </tbody>\n",
       "</table>\n",
       "</div>"
      ],
      "text/plain": [
       "         Category  Rating    Reviews     Size   Installs  Type  Price  \\\n",
       "0  ART_AND_DESIGN     4.1   5.075174  19000.0   9.210440  Free    0.0   \n",
       "1  ART_AND_DESIGN     3.9   6.875232  14000.0  13.122365  Free    0.0   \n",
       "2  ART_AND_DESIGN     4.7  11.379520      8.7  15.424949  Free    0.0   \n",
       "3  ART_AND_DESIGN     4.3   6.875232      2.8  11.512935  Free    0.0   \n",
       "4  ART_AND_DESIGN     4.4   5.123964      5.6  10.819798  Free    0.0   \n",
       "\n",
       "  Content Rating                     Genres  \n",
       "0       Everyone               Art & Design  \n",
       "1       Everyone  Art & Design;Pretend Play  \n",
       "2       Everyone               Art & Design  \n",
       "3       Everyone    Art & Design;Creativity  \n",
       "4       Everyone               Art & Design  "
      ]
     },
     "execution_count": 158,
     "metadata": {},
     "output_type": "execute_result"
    }
   ],
   "source": [
    "inp1.head()"
   ]
  },
  {
   "cell_type": "code",
   "execution_count": null,
   "id": "bb1d9332",
   "metadata": {},
   "outputs": [],
   "source": [
    "## 8.3 Get dummy columns for Category, Genres, and Content Rating. \n",
    "#This needs to be done as the models do not understand categorical data, and all data should be numeric. \n",
    "#Dummy encoding is one way to convert character fields to numeric. Name of dataframe should be inp2."
   ]
  },
  {
   "cell_type": "code",
   "execution_count": 160,
   "id": "0431a9a3",
   "metadata": {},
   "outputs": [
    {
     "data": {
      "text/plain": [
       "Index(['Rating', 'Reviews', 'Size', 'Installs', 'Price',\n",
       "       'Category_AUTO_AND_VEHICLES', 'Category_BEAUTY',\n",
       "       'Category_BOOKS_AND_REFERENCE', 'Category_BUSINESS', 'Category_COMICS',\n",
       "       ...\n",
       "       'Genres_Video Players & Editors;Creativity',\n",
       "       'Genres_Video Players & Editors;Music & Video', 'Genres_Weather',\n",
       "       'Genres_Word', 'Content Rating_Everyone', 'Content Rating_Everyone 10+',\n",
       "       'Content Rating_Mature 17+', 'Content Rating_Teen',\n",
       "       'Content Rating_Unrated', 'Type_Paid'],\n",
       "      dtype='object', length=152)"
      ]
     },
     "execution_count": 160,
     "metadata": {},
     "output_type": "execute_result"
    }
   ],
   "source": [
    "inp2 = pd.get_dummies(inp1,columns=['Category', 'Genres', 'Content Rating','Type'],drop_first=True)\n",
    "inp2.columns"
   ]
  },
  {
   "cell_type": "code",
   "execution_count": 161,
   "id": "39120e33",
   "metadata": {},
   "outputs": [
    {
     "data": {
      "text/html": [
       "<div>\n",
       "<style scoped>\n",
       "    .dataframe tbody tr th:only-of-type {\n",
       "        vertical-align: middle;\n",
       "    }\n",
       "\n",
       "    .dataframe tbody tr th {\n",
       "        vertical-align: top;\n",
       "    }\n",
       "\n",
       "    .dataframe thead th {\n",
       "        text-align: right;\n",
       "    }\n",
       "</style>\n",
       "<table border=\"1\" class=\"dataframe\">\n",
       "  <thead>\n",
       "    <tr style=\"text-align: right;\">\n",
       "      <th></th>\n",
       "      <th>Rating</th>\n",
       "      <th>Reviews</th>\n",
       "      <th>Size</th>\n",
       "      <th>Installs</th>\n",
       "      <th>Price</th>\n",
       "    </tr>\n",
       "  </thead>\n",
       "  <tbody>\n",
       "    <tr>\n",
       "      <th>0</th>\n",
       "      <td>4.1</td>\n",
       "      <td>5.075174</td>\n",
       "      <td>19000.0</td>\n",
       "      <td>9.210440</td>\n",
       "      <td>0.0</td>\n",
       "    </tr>\n",
       "    <tr>\n",
       "      <th>1</th>\n",
       "      <td>3.9</td>\n",
       "      <td>6.875232</td>\n",
       "      <td>14000.0</td>\n",
       "      <td>13.122365</td>\n",
       "      <td>0.0</td>\n",
       "    </tr>\n",
       "    <tr>\n",
       "      <th>2</th>\n",
       "      <td>4.7</td>\n",
       "      <td>11.379520</td>\n",
       "      <td>8.7</td>\n",
       "      <td>15.424949</td>\n",
       "      <td>0.0</td>\n",
       "    </tr>\n",
       "    <tr>\n",
       "      <th>3</th>\n",
       "      <td>4.3</td>\n",
       "      <td>6.875232</td>\n",
       "      <td>2.8</td>\n",
       "      <td>11.512935</td>\n",
       "      <td>0.0</td>\n",
       "    </tr>\n",
       "    <tr>\n",
       "      <th>4</th>\n",
       "      <td>4.4</td>\n",
       "      <td>5.123964</td>\n",
       "      <td>5.6</td>\n",
       "      <td>10.819798</td>\n",
       "      <td>0.0</td>\n",
       "    </tr>\n",
       "  </tbody>\n",
       "</table>\n",
       "</div>"
      ],
      "text/plain": [
       "   Rating    Reviews     Size   Installs  Price\n",
       "0     4.1   5.075174  19000.0   9.210440    0.0\n",
       "1     3.9   6.875232  14000.0  13.122365    0.0\n",
       "2     4.7  11.379520      8.7  15.424949    0.0\n",
       "3     4.3   6.875232      2.8  11.512935    0.0\n",
       "4     4.4   5.123964      5.6  10.819798    0.0"
      ]
     },
     "execution_count": 161,
     "metadata": {},
     "output_type": "execute_result"
    }
   ],
   "source": [
    "inp1.drop(['Category','Genres','Content Rating','Type'],axis = 1 ,inplace = True)\n",
    "inp1.head()"
   ]
  },
  {
   "cell_type": "code",
   "execution_count": 164,
   "id": "dc6400b3",
   "metadata": {},
   "outputs": [],
   "source": [
    "## joining the two dataframes inp1 and inp2 by .... \"pd.concat()\" method\n",
    "\n",
    "frames = [inp1,inp2]\n",
    "df = pd.concat(frames)\n"
   ]
  },
  {
   "cell_type": "markdown",
   "id": "301acab1",
   "metadata": {},
   "source": [
    "# 9. Train_ test_ split"
   ]
  },
  {
   "cell_type": "code",
   "execution_count": 8,
   "id": "0054321f",
   "metadata": {},
   "outputs": [],
   "source": [
    "## 9. Train test split  and apply 70-30 split. Name the new dataframes df_train and df_test."
   ]
  },
  {
   "cell_type": "code",
   "execution_count": 170,
   "id": "b71b66cd",
   "metadata": {},
   "outputs": [],
   "source": [
    "# importing modelselection \"train_test_split\" from \"sklearn\"\n",
    "\n",
    "from sklearn.model_selection import train_test_split\n",
    "\n",
    "#Naming the new dataframes df_train and df_test.\n",
    "\n",
    "df_train, df_test = train_test_split(df,test_size = 0.3,random_state = 100)"
   ]
  },
  {
   "cell_type": "markdown",
   "id": "c45781e8",
   "metadata": {},
   "source": [
    "# 10. Separate the dataframes into X_train, y_train, X_test, and y_test."
   ]
  },
  {
   "cell_type": "code",
   "execution_count": 171,
   "id": "94e5a641",
   "metadata": {},
   "outputs": [],
   "source": [
    "## 10. Separating the dataframes into X_train, y_train, X_test, and y_test.\n",
    "\n",
    "X_train = df_train\n",
    "Y_train = df_train.pop('Rating')\n",
    "\n",
    "X_test = df_test\n",
    "Y_test = df_test.pop('Rating')"
   ]
  },
  {
   "cell_type": "markdown",
   "id": "0e575d9d",
   "metadata": {},
   "source": [
    "# 11 . Model building"
   ]
  },
  {
   "cell_type": "code",
   "execution_count": 172,
   "id": "db79bfc5",
   "metadata": {},
   "outputs": [
    {
     "data": {
      "text/plain": [
       "LinearRegression()"
      ]
     },
     "execution_count": 172,
     "metadata": {},
     "output_type": "execute_result"
    }
   ],
   "source": [
    "## 11.1 Using linear regression as the technique\n",
    "# importing \"Linear Regression\" model from \"sklearn\"\n",
    "\n",
    "from sklearn.linear_model import LinearRegression\n",
    "\n",
    "lin = LinearRegression()\n",
    "lin.fit(X_train, Y_train)"
   ]
  },
  {
   "cell_type": "code",
   "execution_count": 173,
   "id": "a3ae8496",
   "metadata": {},
   "outputs": [
    {
     "data": {
      "text/plain": [
       "0.020774834290193223"
      ]
     },
     "execution_count": 173,
     "metadata": {},
     "output_type": "execute_result"
    }
   ],
   "source": [
    "from sklearn.metrics import r2_score\n",
    "\n",
    "Y_train_predict = lin.predict(X_train)\n",
    "r2_score(Y_train, Y_train_predict)"
   ]
  },
  {
   "cell_type": "markdown",
   "id": "1e4cacb5",
   "metadata": {},
   "source": [
    "# 12. Make predictions on test set and report R2."
   ]
  },
  {
   "cell_type": "code",
   "execution_count": 174,
   "id": "f682b6b7",
   "metadata": {},
   "outputs": [
    {
     "data": {
      "text/plain": [
       "0.01595648625119994"
      ]
     },
     "execution_count": 174,
     "metadata": {},
     "output_type": "execute_result"
    }
   ],
   "source": [
    "## 12. Making predictions on test set and report R2.\n",
    "\n",
    "X_test_precdict =lin.predict(X_test)\n",
    "r2_score(Y_test,X_test_precdict)"
   ]
  },
  {
   "cell_type": "code",
   "execution_count": null,
   "id": "330d1210",
   "metadata": {},
   "outputs": [],
   "source": []
  },
  {
   "cell_type": "code",
   "execution_count": null,
   "id": "eb9553d7",
   "metadata": {},
   "outputs": [],
   "source": []
  },
  {
   "cell_type": "code",
   "execution_count": null,
   "id": "e3efc196",
   "metadata": {},
   "outputs": [],
   "source": []
  },
  {
   "cell_type": "code",
   "execution_count": null,
   "id": "fd271276",
   "metadata": {},
   "outputs": [],
   "source": []
  },
  {
   "cell_type": "code",
   "execution_count": null,
   "id": "a5638e95",
   "metadata": {},
   "outputs": [],
   "source": []
  },
  {
   "cell_type": "code",
   "execution_count": null,
   "id": "905b0975",
   "metadata": {},
   "outputs": [],
   "source": []
  }
 ],
 "metadata": {
  "kernelspec": {
   "display_name": "Python 3",
   "language": "python",
   "name": "python3"
  },
  "language_info": {
   "codemirror_mode": {
    "name": "ipython",
    "version": 3
   },
   "file_extension": ".py",
   "mimetype": "text/x-python",
   "name": "python",
   "nbconvert_exporter": "python",
   "pygments_lexer": "ipython3",
   "version": "3.8.8"
  }
 },
 "nbformat": 4,
 "nbformat_minor": 5
}
