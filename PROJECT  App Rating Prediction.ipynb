{
 "cells": [
  {
   "cell_type": "markdown",
   "id": "4c103775",
   "metadata": {},
   "source": [
    "# Google play store - App Rating Prediction Analysis"
   ]
  },
  {
   "cell_type": "markdown",
   "id": "0e8a44b6",
   "metadata": {},
   "source": [
    "Google Play Store team is about to launch a new feature wherein, certain apps that are promising, are boosted in visibility. The boost will manifest in multiple ways including higher priority in recommendations sections (“Similar apps”, “You might also like”, “New and updated games”). These will also get a boost in search results visibility.  This feature will help bring more attention to newer apps that have the potential."
   ]
  },
  {
   "cell_type": "markdown",
   "id": "c914d35f",
   "metadata": {},
   "source": [
    "# Domain: General"
   ]
  },
  {
   "cell_type": "markdown",
   "id": "eadd91c6",
   "metadata": {},
   "source": [
    "Analysis to be done: \n",
    "The problem is to identify the apps that are going to be good for Google to promote. App ratings, which are provided by the customers, is always a great indicator of the goodness of the app. The problem reduces to: predict which apps will have high ratings."
   ]
  },
  {
   "cell_type": "markdown",
   "id": "7dced2cd",
   "metadata": {},
   "source": [
    "# Dataset: Google Play Store data (“googleplaystore.csv”)"
   ]
  },
  {
   "cell_type": "code",
   "execution_count": 1,
   "id": "72d7fce3",
   "metadata": {},
   "outputs": [],
   "source": [
    "### Avoid Warnings :\n",
    "\n",
    "import warnings\n",
    "warnings.filterwarnings('ignore')"
   ]
  },
  {
   "cell_type": "markdown",
   "id": "cec0e162",
   "metadata": {},
   "source": [
    "# 1. Importing libraries and loading data"
   ]
  },
  {
   "cell_type": "code",
   "execution_count": 2,
   "id": "b4ab3835",
   "metadata": {},
   "outputs": [],
   "source": [
    "## Importing pandas and numpy. \n",
    "#They is usually imported with an alias \"pd\" (shorthand for pandas) &\"np\" (shorthand for numpy) for ease of operation.\n",
    "\n",
    "import pandas as pd \n",
    "import numpy as np"
   ]
  },
  {
   "cell_type": "code",
   "execution_count": 3,
   "id": "ba289eff",
   "metadata": {},
   "outputs": [
    {
     "name": "stdout",
     "output_type": "stream",
     "text": [
      "Dimension: (10841, 13)\n"
     ]
    },
    {
     "data": {
      "text/html": [
       "<div>\n",
       "<style scoped>\n",
       "    .dataframe tbody tr th:only-of-type {\n",
       "        vertical-align: middle;\n",
       "    }\n",
       "\n",
       "    .dataframe tbody tr th {\n",
       "        vertical-align: top;\n",
       "    }\n",
       "\n",
       "    .dataframe thead th {\n",
       "        text-align: right;\n",
       "    }\n",
       "</style>\n",
       "<table border=\"1\" class=\"dataframe\">\n",
       "  <thead>\n",
       "    <tr style=\"text-align: right;\">\n",
       "      <th></th>\n",
       "      <th>App</th>\n",
       "      <th>Category</th>\n",
       "      <th>Rating</th>\n",
       "      <th>Reviews</th>\n",
       "      <th>Size</th>\n",
       "      <th>Installs</th>\n",
       "      <th>Type</th>\n",
       "      <th>Price</th>\n",
       "      <th>Content Rating</th>\n",
       "      <th>Genres</th>\n",
       "      <th>Last Updated</th>\n",
       "      <th>Current Ver</th>\n",
       "      <th>Android Ver</th>\n",
       "    </tr>\n",
       "  </thead>\n",
       "  <tbody>\n",
       "    <tr>\n",
       "      <th>0</th>\n",
       "      <td>Photo Editor &amp; Candy Camera &amp; Grid &amp; ScrapBook</td>\n",
       "      <td>ART_AND_DESIGN</td>\n",
       "      <td>4.1</td>\n",
       "      <td>159</td>\n",
       "      <td>19M</td>\n",
       "      <td>10,000+</td>\n",
       "      <td>Free</td>\n",
       "      <td>0</td>\n",
       "      <td>Everyone</td>\n",
       "      <td>Art &amp; Design</td>\n",
       "      <td>January 7, 2018</td>\n",
       "      <td>1.0.0</td>\n",
       "      <td>4.0.3 and up</td>\n",
       "    </tr>\n",
       "    <tr>\n",
       "      <th>1</th>\n",
       "      <td>Coloring book moana</td>\n",
       "      <td>ART_AND_DESIGN</td>\n",
       "      <td>3.9</td>\n",
       "      <td>967</td>\n",
       "      <td>14M</td>\n",
       "      <td>500,000+</td>\n",
       "      <td>Free</td>\n",
       "      <td>0</td>\n",
       "      <td>Everyone</td>\n",
       "      <td>Art &amp; Design;Pretend Play</td>\n",
       "      <td>January 15, 2018</td>\n",
       "      <td>2.0.0</td>\n",
       "      <td>4.0.3 and up</td>\n",
       "    </tr>\n",
       "    <tr>\n",
       "      <th>2</th>\n",
       "      <td>U Launcher Lite – FREE Live Cool Themes, Hide ...</td>\n",
       "      <td>ART_AND_DESIGN</td>\n",
       "      <td>4.7</td>\n",
       "      <td>87510</td>\n",
       "      <td>8.7M</td>\n",
       "      <td>5,000,000+</td>\n",
       "      <td>Free</td>\n",
       "      <td>0</td>\n",
       "      <td>Everyone</td>\n",
       "      <td>Art &amp; Design</td>\n",
       "      <td>August 1, 2018</td>\n",
       "      <td>1.2.4</td>\n",
       "      <td>4.0.3 and up</td>\n",
       "    </tr>\n",
       "    <tr>\n",
       "      <th>3</th>\n",
       "      <td>Sketch - Draw &amp; Paint</td>\n",
       "      <td>ART_AND_DESIGN</td>\n",
       "      <td>4.5</td>\n",
       "      <td>215644</td>\n",
       "      <td>25M</td>\n",
       "      <td>50,000,000+</td>\n",
       "      <td>Free</td>\n",
       "      <td>0</td>\n",
       "      <td>Teen</td>\n",
       "      <td>Art &amp; Design</td>\n",
       "      <td>June 8, 2018</td>\n",
       "      <td>Varies with device</td>\n",
       "      <td>4.2 and up</td>\n",
       "    </tr>\n",
       "    <tr>\n",
       "      <th>4</th>\n",
       "      <td>Pixel Draw - Number Art Coloring Book</td>\n",
       "      <td>ART_AND_DESIGN</td>\n",
       "      <td>4.3</td>\n",
       "      <td>967</td>\n",
       "      <td>2.8M</td>\n",
       "      <td>100,000+</td>\n",
       "      <td>Free</td>\n",
       "      <td>0</td>\n",
       "      <td>Everyone</td>\n",
       "      <td>Art &amp; Design;Creativity</td>\n",
       "      <td>June 20, 2018</td>\n",
       "      <td>1.1</td>\n",
       "      <td>4.4 and up</td>\n",
       "    </tr>\n",
       "  </tbody>\n",
       "</table>\n",
       "</div>"
      ],
      "text/plain": [
       "                                                 App        Category  Rating  \\\n",
       "0     Photo Editor & Candy Camera & Grid & ScrapBook  ART_AND_DESIGN     4.1   \n",
       "1                                Coloring book moana  ART_AND_DESIGN     3.9   \n",
       "2  U Launcher Lite – FREE Live Cool Themes, Hide ...  ART_AND_DESIGN     4.7   \n",
       "3                              Sketch - Draw & Paint  ART_AND_DESIGN     4.5   \n",
       "4              Pixel Draw - Number Art Coloring Book  ART_AND_DESIGN     4.3   \n",
       "\n",
       "  Reviews  Size     Installs  Type Price Content Rating  \\\n",
       "0     159   19M      10,000+  Free     0       Everyone   \n",
       "1     967   14M     500,000+  Free     0       Everyone   \n",
       "2   87510  8.7M   5,000,000+  Free     0       Everyone   \n",
       "3  215644   25M  50,000,000+  Free     0           Teen   \n",
       "4     967  2.8M     100,000+  Free     0       Everyone   \n",
       "\n",
       "                      Genres      Last Updated         Current Ver  \\\n",
       "0               Art & Design   January 7, 2018               1.0.0   \n",
       "1  Art & Design;Pretend Play  January 15, 2018               2.0.0   \n",
       "2               Art & Design    August 1, 2018               1.2.4   \n",
       "3               Art & Design      June 8, 2018  Varies with device   \n",
       "4    Art & Design;Creativity     June 20, 2018                 1.1   \n",
       "\n",
       "    Android Ver  \n",
       "0  4.0.3 and up  \n",
       "1  4.0.3 and up  \n",
       "2  4.0.3 and up  \n",
       "3    4.2 and up  \n",
       "4    4.4 and up  "
      ]
     },
     "execution_count": 3,
     "metadata": {},
     "output_type": "execute_result"
    }
   ],
   "source": [
    "## loading data (present in the current working directory using data \"file name\").....\n",
    "# 1. loading the data file using pandas \"pd.read_csv\" method , assigning it to adataframe \"df\"....\n",
    "\n",
    "df = pd.read_csv('googleplaystore.csv')\n",
    "print(\"Dimension:\",df.shape)\n",
    "df.head()"
   ]
  },
  {
   "cell_type": "code",
   "execution_count": 4,
   "id": "00e68075",
   "metadata": {
    "scrolled": true
   },
   "outputs": [
    {
     "data": {
      "text/plain": [
       "Index(['App', 'Category', 'Rating', 'Reviews', 'Size', 'Installs', 'Type',\n",
       "       'Price', 'Content Rating', 'Genres', 'Last Updated', 'Current Ver',\n",
       "       'Android Ver'],\n",
       "      dtype='object')"
      ]
     },
     "execution_count": 4,
     "metadata": {},
     "output_type": "execute_result"
    }
   ],
   "source": [
    "## looking at the columns present in the data by ...  \"df.columns\"  method....\n",
    "df.columns"
   ]
  },
  {
   "cell_type": "markdown",
   "id": "06005fda",
   "metadata": {},
   "source": [
    "# 2. checking  Null values"
   ]
  },
  {
   "cell_type": "code",
   "execution_count": 5,
   "id": "be3b0729",
   "metadata": {},
   "outputs": [
    {
     "name": "stdout",
     "output_type": "stream",
     "text": [
      "Rating            1474\n",
      "Type                 1\n",
      "Content Rating       1\n",
      "Current Ver          8\n",
      "Android Ver          3\n",
      "dtype: int64\n"
     ]
    }
   ],
   "source": [
    "# 2.Checking for null values in the data. Getting the number of null values for each column by....  \"df.isna().sum()\" method.\n",
    "\n",
    "Null = df.isna().sum()\n",
    "print(Null[Null>0])"
   ]
  },
  {
   "cell_type": "markdown",
   "id": "18422237",
   "metadata": {},
   "source": [
    "A total of 1487 null values are detected."
   ]
  },
  {
   "cell_type": "markdown",
   "id": "d60f947b",
   "metadata": {},
   "source": [
    "# 3.Dropping Null values"
   ]
  },
  {
   "cell_type": "code",
   "execution_count": 6,
   "id": "e38f84e8",
   "metadata": {},
   "outputs": [
    {
     "name": "stdout",
     "output_type": "stream",
     "text": [
      "Actual number of rows before dropping null values is  10841\n",
      "Number of rows after dropping null values is  9360\n"
     ]
    }
   ],
   "source": [
    "# 3.Dropping the records with nulls in any of the columns by ....  \"df.dropna()\" method\n",
    "\n",
    "print ('Actual number of rows before dropping null values is ',df.shape[0])\n",
    "\n",
    "df = df.dropna()\n",
    "df = df.reset_index(drop = True)\n",
    "\n",
    "print ('Number of rows after dropping null values is ',df.shape[0] )"
   ]
  },
  {
   "cell_type": "markdown",
   "id": "a48d80b5",
   "metadata": {},
   "source": [
    "Thus the null values are successfully deleted."
   ]
  },
  {
   "cell_type": "markdown",
   "id": "b47693c9",
   "metadata": {},
   "source": [
    "# 4. Formatting the incorrect and inconsistent variables..."
   ]
  },
  {
   "cell_type": "code",
   "execution_count": 7,
   "id": "daa855e7",
   "metadata": {},
   "outputs": [
    {
     "name": "stdout",
     "output_type": "stream",
     "text": [
      "<class 'pandas.core.frame.DataFrame'>\n",
      "RangeIndex: 9360 entries, 0 to 9359\n",
      "Data columns (total 13 columns):\n",
      " #   Column          Non-Null Count  Dtype  \n",
      "---  ------          --------------  -----  \n",
      " 0   App             9360 non-null   object \n",
      " 1   Category        9360 non-null   object \n",
      " 2   Rating          9360 non-null   float64\n",
      " 3   Reviews         9360 non-null   object \n",
      " 4   Size            9360 non-null   object \n",
      " 5   Installs        9360 non-null   object \n",
      " 6   Type            9360 non-null   object \n",
      " 7   Price           9360 non-null   object \n",
      " 8   Content Rating  9360 non-null   object \n",
      " 9   Genres          9360 non-null   object \n",
      " 10  Last Updated    9360 non-null   object \n",
      " 11  Current Ver     9360 non-null   object \n",
      " 12  Android Ver     9360 non-null   object \n",
      "dtypes: float64(1), object(12)\n",
      "memory usage: 950.8+ KB\n"
     ]
    }
   ],
   "source": [
    "## Checking the dataype of all the columns by.......   \"df.dtypes\" method..\n",
    "df.info()"
   ]
  },
  {
   "cell_type": "markdown",
   "id": "0ce85d6f",
   "metadata": {},
   "source": [
    "# 4.1  Size"
   ]
  },
  {
   "cell_type": "markdown",
   "id": "ee0cf4fa",
   "metadata": {},
   "source": [
    "4.1. Size column has sizes in Kb as well as Mb. To analyze, we’ll need to convert these to numeric.\n",
    "Extracting the numeric value from the column....."
   ]
  },
  {
   "cell_type": "code",
   "execution_count": 8,
   "id": "f408a065",
   "metadata": {},
   "outputs": [],
   "source": [
    "## Replacing 'M','k'(for mb,kb) with \"000\"&'' respectively in\"Size\" column by ... \" df.col.str.replace()\" method\n",
    "\n",
    "df['Size'] = df.Size.str.replace(\"M\",\"000\") # All size values became the kilobyte type.\n",
    "df['Size'] = df.Size.str.replace(\"k\",\"\")\n",
    "\n",
    "\n",
    "## Replacing ''1000+'' with \"1000\" in\"Size\" column by ... \" df.col.replace()\" method.\n",
    "\n",
    "df['Size'] = df.Size.replace('1000+',1000)"
   ]
  },
  {
   "cell_type": "code",
   "execution_count": 9,
   "id": "43da90a3",
   "metadata": {},
   "outputs": [
    {
     "data": {
      "text/plain": [
       "dtype('float64')"
      ]
     },
     "execution_count": 9,
     "metadata": {},
     "output_type": "execute_result"
    }
   ],
   "source": [
    "## changing the datatype of \"Size\" column to \"float\" by .....\" df.astype()\" method.\n",
    "df['Size'] =  pd.to_numeric(df['Size'], errors='coerce')\n",
    "df['Size'] = df['Size'].fillna(0)\n",
    "\n",
    "## Crosschecking the change in datatype...... it...s a \"float\" now...\n",
    "df['Size'].dtype"
   ]
  },
  {
   "cell_type": "markdown",
   "id": "cd82924a",
   "metadata": {},
   "source": [
    "# 4.2 Reviews"
   ]
  },
  {
   "cell_type": "markdown",
   "id": "4021580a",
   "metadata": {},
   "source": [
    "4.2. 'Reviews' is a numeric field, loaded \"object\" datatype. Converting it to numeric \"int\"by.... \"df.astype(int)\" method .."
   ]
  },
  {
   "cell_type": "code",
   "execution_count": 10,
   "id": "e40cb2b0",
   "metadata": {},
   "outputs": [
    {
     "data": {
      "text/plain": [
       "dtype('O')"
      ]
     },
     "execution_count": 10,
     "metadata": {},
     "output_type": "execute_result"
    }
   ],
   "source": [
    "## checking the datatype of \"Reviews\" column...\n",
    "df['Reviews'].dtype"
   ]
  },
  {
   "cell_type": "code",
   "execution_count": 11,
   "id": "417dfd73",
   "metadata": {},
   "outputs": [],
   "source": [
    "## changing the datatype of \"Reviews\" column to \"float\" by .....\" df.astype()\" method.\n",
    "\n",
    "df['Reviews'] = df['Reviews'].astype('int')"
   ]
  },
  {
   "cell_type": "code",
   "execution_count": 12,
   "id": "a57f2537",
   "metadata": {},
   "outputs": [
    {
     "data": {
      "text/plain": [
       "dtype('int32')"
      ]
     },
     "execution_count": 12,
     "metadata": {},
     "output_type": "execute_result"
    }
   ],
   "source": [
    "## cross checking the change in datatype..\n",
    "df['Reviews'].dtype"
   ]
  },
  {
   "cell_type": "markdown",
   "id": "f9bc3107",
   "metadata": {},
   "source": [
    "# 4.3 Installs"
   ]
  },
  {
   "cell_type": "markdown",
   "id": "f4db9d74",
   "metadata": {},
   "source": [
    "4.3. Installs field is currently stored as string and has values like 1,000,000+ ,Treat 1,000,000+ as 1,000,000\n",
    "remove ‘+’, ‘,’ from the field,by.... \"df.\" convert it to integer by"
   ]
  },
  {
   "cell_type": "code",
   "execution_count": 13,
   "id": "6b3b0c04",
   "metadata": {},
   "outputs": [
    {
     "data": {
      "text/plain": [
       "array(['10,000+', '500,000+', '5,000,000+', '50,000,000+', '100,000+',\n",
       "       '50,000+', '1,000,000+', '10,000,000+', '5,000+', '100,000,000+',\n",
       "       '1,000,000,000+', '1,000+', '500,000,000+', '100+', '500+', '10+',\n",
       "       '5+', '50+', '1+'], dtype=object)"
      ]
     },
     "execution_count": 13,
     "metadata": {},
     "output_type": "execute_result"
    }
   ],
   "source": [
    "## checking all the unique values present in column \"Installs\"\n",
    "\n",
    "df['Installs'].unique()"
   ]
  },
  {
   "cell_type": "code",
   "execution_count": 14,
   "id": "51adb7a1",
   "metadata": {},
   "outputs": [],
   "source": [
    "## Removing '+',',' from \"Installs\"... thereafter removing th white space... \n",
    "\n",
    "df['Installs'] = df['Installs'].str.replace('+','')\n",
    "df['Installs'] = df['Installs'].str.replace(',','')\n",
    "df['Installs'] = df['Installs'].str.replace(' ','')"
   ]
  },
  {
   "cell_type": "code",
   "execution_count": 15,
   "id": "aeb9078e",
   "metadata": {},
   "outputs": [],
   "source": [
    "## Changing the datatype of \"Installs\" to \"int\" by...... \"df.astype()\"...\n",
    "df['Installs'] = df['Installs'].astype('int')"
   ]
  },
  {
   "cell_type": "code",
   "execution_count": 16,
   "id": "c949f9b0",
   "metadata": {},
   "outputs": [
    {
     "data": {
      "text/plain": [
       "dtype('int32')"
      ]
     },
     "execution_count": 16,
     "metadata": {},
     "output_type": "execute_result"
    }
   ],
   "source": [
    "## Crosschecking....\n",
    "df['Installs'].dtype"
   ]
  },
  {
   "cell_type": "markdown",
   "id": "04417606",
   "metadata": {},
   "source": [
    "# 4.4 Price"
   ]
  },
  {
   "cell_type": "markdown",
   "id": "7ee8aff2",
   "metadata": {},
   "source": [
    "4.4. Price field is a string and has $ symbol. Remove ‘$’ sign, and convert it to numeric."
   ]
  },
  {
   "cell_type": "code",
   "execution_count": 17,
   "id": "e1688a44",
   "metadata": {},
   "outputs": [],
   "source": [
    "# Removing $ sign from \"Price\" column ...\n",
    "\n",
    "df['Price'] = df['Price'].str.replace('$','')\n",
    "\n",
    "# changing data type to \"float\"\n",
    "\n",
    "df['Price'] = df['Price'].astype('float')"
   ]
  },
  {
   "cell_type": "code",
   "execution_count": 18,
   "id": "97428b76",
   "metadata": {},
   "outputs": [
    {
     "data": {
      "text/plain": [
       "dtype('float64')"
      ]
     },
     "execution_count": 18,
     "metadata": {},
     "output_type": "execute_result"
    }
   ],
   "source": [
    "## Crosschecking...\n",
    "df['Price'].dtype"
   ]
  },
  {
   "cell_type": "markdown",
   "id": "0941ad21",
   "metadata": {},
   "source": [
    "# 4.5  Sanity checks:"
   ]
  },
  {
   "cell_type": "markdown",
   "id": "39268969",
   "metadata": {},
   "source": [
    "# (a) Rating"
   ]
  },
  {
   "cell_type": "markdown",
   "id": "8c3a93e9",
   "metadata": {},
   "source": [
    "(a) Average rating should be between 1 and 5 as only these values are allowed on the play store. \n",
    "Drop the rows that have a value outside this range."
   ]
  },
  {
   "cell_type": "code",
   "execution_count": 19,
   "id": "133e7d4d",
   "metadata": {},
   "outputs": [
    {
     "data": {
      "text/html": [
       "<div>\n",
       "<style scoped>\n",
       "    .dataframe tbody tr th:only-of-type {\n",
       "        vertical-align: middle;\n",
       "    }\n",
       "\n",
       "    .dataframe tbody tr th {\n",
       "        vertical-align: top;\n",
       "    }\n",
       "\n",
       "    .dataframe thead th {\n",
       "        text-align: right;\n",
       "    }\n",
       "</style>\n",
       "<table border=\"1\" class=\"dataframe\">\n",
       "  <thead>\n",
       "    <tr style=\"text-align: right;\">\n",
       "      <th></th>\n",
       "      <th>App</th>\n",
       "      <th>Category</th>\n",
       "      <th>Rating</th>\n",
       "      <th>Reviews</th>\n",
       "      <th>Size</th>\n",
       "      <th>Installs</th>\n",
       "      <th>Type</th>\n",
       "      <th>Price</th>\n",
       "      <th>Content Rating</th>\n",
       "      <th>Genres</th>\n",
       "      <th>Last Updated</th>\n",
       "      <th>Current Ver</th>\n",
       "      <th>Android Ver</th>\n",
       "    </tr>\n",
       "  </thead>\n",
       "  <tbody>\n",
       "  </tbody>\n",
       "</table>\n",
       "</div>"
      ],
      "text/plain": [
       "Empty DataFrame\n",
       "Columns: [App, Category, Rating, Reviews, Size, Installs, Type, Price, Content Rating, Genres, Last Updated, Current Ver, Android Ver]\n",
       "Index: []"
      ]
     },
     "execution_count": 19,
     "metadata": {},
     "output_type": "execute_result"
    }
   ],
   "source": [
    "## Checking if any \"Rating\" value is above the max range \"5\"..\n",
    "df.loc[ (df['Rating'] > 5)]\n",
    "df.loc[ (df['Rating'] < 1)]"
   ]
  },
  {
   "cell_type": "markdown",
   "id": "7bd65325",
   "metadata": {},
   "source": [
    "Conversely we can also check by printing all the values available for \"Rating\" column"
   ]
  },
  {
   "cell_type": "code",
   "execution_count": 20,
   "id": "fb1902ee",
   "metadata": {},
   "outputs": [
    {
     "data": {
      "text/plain": [
       "array([4.1, 3.9, 4.7, 4.5, 4.3, 4.4, 3.8, 4.2, 4.6, 4. , 4.8, 4.9, 3.6,\n",
       "       3.7, 3.2, 3.3, 3.4, 3.5, 3.1, 5. , 2.6, 3. , 1.9, 2.5, 2.8, 2.7,\n",
       "       1. , 2.9, 2.3, 2.2, 1.7, 2. , 1.8, 2.4, 1.6, 2.1, 1.4, 1.5, 1.2])"
      ]
     },
     "execution_count": 20,
     "metadata": {},
     "output_type": "execute_result"
    }
   ],
   "source": [
    "## checking all the unique values present in column \"Rating\"\n",
    "\n",
    "df['Rating'].unique()"
   ]
  },
  {
   "cell_type": "markdown",
   "id": "7f071592",
   "metadata": {},
   "source": [
    "Thus we conclude: \n",
    "1. All the values in th column \"Rating\"  are within the range \"1\" and \"5\".\n",
    "2. No need to drop any rows on this pretext."
   ]
  },
  {
   "cell_type": "markdown",
   "id": "e734854d",
   "metadata": {},
   "source": [
    "# (b) Reviews"
   ]
  },
  {
   "cell_type": "markdown",
   "id": "f4eb7d63",
   "metadata": {},
   "source": [
    "(b)Reviews should not be more than installs as only those who installed can review the app. \n",
    "If there are any such records, drop them."
   ]
  },
  {
   "cell_type": "code",
   "execution_count": 21,
   "id": "16d71ae9",
   "metadata": {},
   "outputs": [
    {
     "name": "stdout",
     "output_type": "stream",
     "text": [
      "The number of rows before fitering is  9360\n",
      "The number of rows after filtering and dropping entries of reviews greater than Installs is  9353\n"
     ]
    }
   ],
   "source": [
    "## filtering and dropping any rows where entries are present for \"Reviews\" but not for \"Installs\" \n",
    "\n",
    "print('The number of rows before fitering is ',df.shape[0])\n",
    "\n",
    "rows = df[df.Installs < df.Reviews].index\n",
    "df.drop(rows, axis = 0, inplace = True)\n",
    "\n",
    "print('The number of rows after filtering and dropping entries of reviews greater than Installs is ',df.shape[0])"
   ]
  },
  {
   "cell_type": "markdown",
   "id": "f5edaeaf",
   "metadata": {},
   "source": [
    "Decrement of rows indicates filtering of rows, thus data successfully fitered."
   ]
  },
  {
   "cell_type": "markdown",
   "id": "2e485338",
   "metadata": {},
   "source": [
    "# (c) Type"
   ]
  },
  {
   "cell_type": "markdown",
   "id": "3f64980a",
   "metadata": {},
   "source": [
    "(c) For free apps (type = “Free”), the price should not be >0. Drop any such rows."
   ]
  },
  {
   "cell_type": "code",
   "execution_count": 22,
   "id": "e1efdcf1",
   "metadata": {},
   "outputs": [
    {
     "data": {
      "text/html": [
       "<div>\n",
       "<style scoped>\n",
       "    .dataframe tbody tr th:only-of-type {\n",
       "        vertical-align: middle;\n",
       "    }\n",
       "\n",
       "    .dataframe tbody tr th {\n",
       "        vertical-align: top;\n",
       "    }\n",
       "\n",
       "    .dataframe thead th {\n",
       "        text-align: right;\n",
       "    }\n",
       "</style>\n",
       "<table border=\"1\" class=\"dataframe\">\n",
       "  <thead>\n",
       "    <tr style=\"text-align: right;\">\n",
       "      <th></th>\n",
       "      <th>App</th>\n",
       "      <th>Category</th>\n",
       "      <th>Rating</th>\n",
       "      <th>Reviews</th>\n",
       "      <th>Size</th>\n",
       "      <th>Installs</th>\n",
       "      <th>Type</th>\n",
       "      <th>Price</th>\n",
       "      <th>Content Rating</th>\n",
       "      <th>Genres</th>\n",
       "      <th>Last Updated</th>\n",
       "      <th>Current Ver</th>\n",
       "      <th>Android Ver</th>\n",
       "    </tr>\n",
       "  </thead>\n",
       "  <tbody>\n",
       "  </tbody>\n",
       "</table>\n",
       "</div>"
      ],
      "text/plain": [
       "Empty DataFrame\n",
       "Columns: [App, Category, Rating, Reviews, Size, Installs, Type, Price, Content Rating, Genres, Last Updated, Current Ver, Android Ver]\n",
       "Index: []"
      ]
     },
     "execution_count": 22,
     "metadata": {},
     "output_type": "execute_result"
    }
   ],
   "source": [
    "# checking if for any free apps ( \"Type\" =  \"free\"), \"Price\" is greater than \"0\".. \n",
    "\n",
    "df.loc[ (df['Type'] == 'free') & (df['Price'] != '0')]"
   ]
  },
  {
   "cell_type": "code",
   "execution_count": 23,
   "id": "7da2b972",
   "metadata": {},
   "outputs": [
    {
     "data": {
      "text/plain": [
       "False    9353\n",
       "dtype: int64"
      ]
     },
     "execution_count": 23,
     "metadata": {},
     "output_type": "execute_result"
    }
   ],
   "source": [
    "## conversing we can also Crosscheck by assingnig codition to variable \"b\" and generating a boolean output... \n",
    "b = (df['Type'] == 'free') & (df['Price'] != '0')\n",
    "\n",
    "b.value_counts()"
   ]
  },
  {
   "cell_type": "markdown",
   "id": "0b9dabdd",
   "metadata": {},
   "source": [
    "No such entries found where price is greater than 0 for free apps( type = free)"
   ]
  },
  {
   "cell_type": "markdown",
   "id": "16c251d5",
   "metadata": {},
   "source": [
    "# 5. Performing Univariate analysis"
   ]
  },
  {
   "cell_type": "markdown",
   "id": "35f629a7",
   "metadata": {},
   "source": [
    "# 5.1 Boxplot for Price."
   ]
  },
  {
   "cell_type": "markdown",
   "id": "7dfdddd3",
   "metadata": {},
   "source": [
    "5.1 Boxplot for Price..Are there any outliers? Think about the price of usual apps on Play Store."
   ]
  },
  {
   "cell_type": "code",
   "execution_count": 24,
   "id": "eed54d99",
   "metadata": {},
   "outputs": [],
   "source": [
    "import matplotlib.pyplot as plt\n",
    "%matplotlib inline\n",
    "import seaborn as sns"
   ]
  },
  {
   "cell_type": "code",
   "execution_count": 25,
   "id": "884383dd",
   "metadata": {},
   "outputs": [
    {
     "data": {
      "image/png": "[encoded data removed]",
      "text/plain": [
       "<Figure size 720x576 with 1 Axes>"
      ]
     },
     "metadata": {
      "needs_background": "light"
     },
     "output_type": "display_data"
    }
   ],
   "source": [
    "## plotting a boxplot for \"price\"\n",
    "\n",
    "plt.subplots(figsize=(10,8))\n",
    "sns.boxplot(df.Price)\n",
    "plt.xlabel('Unit Price')\n",
    "plt.title('Unit Price')\n",
    "plt.grid(linestyle='-')\n",
    "plt.show()"
   ]
  },
  {
   "cell_type": "markdown",
   "id": "f5c0dd31",
   "metadata": {},
   "source": [
    "Yes, there are few apps with price more than 200 which need to be handled"
   ]
  },
  {
   "cell_type": "markdown",
   "id": "3ca3b2dd",
   "metadata": {},
   "source": [
    "#  5.2. Boxplot for Reviews."
   ]
  },
  {
   "cell_type": "markdown",
   "id": "5df5154a",
   "metadata": {},
   "source": [
    "5.2. Boxplot for Reviews\n",
    "\n",
    "Are there any apps with very high number of reviews? Do the values seem right?\n",
    "\n"
   ]
  },
  {
   "cell_type": "code",
   "execution_count": 26,
   "id": "bdb0dece",
   "metadata": {},
   "outputs": [
    {
     "data": {
      "image/png": "[encoded data removed]",
      "text/plain": [
       "<Figure size 720x576 with 1 Axes>"
      ]
     },
     "metadata": {
      "needs_background": "light"
     },
     "output_type": "display_data"
    }
   ],
   "source": [
    "## plotting a boxplot for \"Reviews\"\n",
    "plt.subplots(figsize=(10,8))\n",
    "sns.boxplot(df.Reviews)\n",
    "plt.xlabel('Reviews')\n",
    "plt.title('Reviews')\n",
    "plt.grid(linestyle='-')\n",
    "plt.show()"
   ]
  },
  {
   "cell_type": "markdown",
   "id": "9a458b5a",
   "metadata": {},
   "source": [
    "Yes, some apps have exorbitant number of \"Reviews\" , which need to be handled."
   ]
  },
  {
   "cell_type": "markdown",
   "id": "f964ccfc",
   "metadata": {},
   "source": [
    "# 5.3 Histogram for Rating"
   ]
  },
  {
   "cell_type": "markdown",
   "id": "82262cc9",
   "metadata": {},
   "source": [
    "5.3 Histogram for Rating\n",
    "How are the ratings distributed? Is it more toward higher ratings?"
   ]
  },
  {
   "cell_type": "code",
   "execution_count": 27,
   "id": "6b6be037",
   "metadata": {},
   "outputs": [
    {
     "data": {
      "image/png": "[encoded data removed]",
      "text/plain": [
       "<Figure size 432x288 with 1 Axes>"
      ]
     },
     "metadata": {
      "needs_background": "light"
     },
     "output_type": "display_data"
    }
   ],
   "source": [
    "sns.distplot(df['Rating'])\n",
    "plt.show()"
   ]
  },
  {
   "cell_type": "markdown",
   "id": "ab7ce09e",
   "metadata": {},
   "source": [
    "The distribution is found to be \"Left skewed\" or \"-ve'ly skewed\", however no ratings above \"5\" detected."
   ]
  },
  {
   "cell_type": "markdown",
   "id": "2afea13a",
   "metadata": {},
   "source": [
    "# 5.4. Histogram for Size"
   ]
  },
  {
   "cell_type": "markdown",
   "id": "b1c2d9ef",
   "metadata": {},
   "source": [
    "5.4. Histogram for Size\n",
    "Note down your observations for the plots made above. Which of these seem to have outliers?"
   ]
  },
  {
   "cell_type": "code",
   "execution_count": 28,
   "id": "2f8a708d",
   "metadata": {},
   "outputs": [
    {
     "data": {
      "text/plain": [
       "<AxesSubplot:xlabel='Size', ylabel='Density'>"
      ]
     },
     "execution_count": 28,
     "metadata": {},
     "output_type": "execute_result"
    },
    {
     "data": {
      "image/png": "[encoded data removed]",
      "text/plain": [
       "<Figure size 432x288 with 1 Axes>"
      ]
     },
     "metadata": {
      "needs_background": "light"
     },
     "output_type": "display_data"
    }
   ],
   "source": [
    "## plotting a histogram for size\n",
    "sns.distplot(df['Size'])\n"
   ]
  },
  {
   "cell_type": "markdown",
   "id": "eeca0b5d",
   "metadata": {},
   "source": [
    "The distribution  is found to be  \"Right skewed\" or \"+ve'ly skewed\""
   ]
  },
  {
   "cell_type": "markdown",
   "id": "0b7a8f59",
   "metadata": {},
   "source": [
    "# 6. Outliers treatment."
   ]
  },
  {
   "cell_type": "markdown",
   "id": "bb20c669",
   "metadata": {},
   "source": [
    "# 6.1 Price"
   ]
  },
  {
   "cell_type": "markdown",
   "id": "136518a3",
   "metadata": {},
   "source": [
    "6.1. Price: From the box plot, it seems like there are some apps with very high price. \n",
    "A price of $200 for an application on the Play Store is very high and suspicious!\n",
    "Check out the records with very high price\n",
    "Is 200 indeed a high price?"
   ]
  },
  {
   "cell_type": "code",
   "execution_count": 29,
   "id": "3352de1d",
   "metadata": {},
   "outputs": [
    {
     "data": {
      "text/plain": [
       "array([  0.  ,   4.99,   3.99,   6.99,   7.99,   5.99,   2.99,   3.49,\n",
       "         1.99,   9.99,   7.49,   0.99,   9.  ,   5.49,  10.  ,  24.99,\n",
       "        11.99,  79.99,  16.99,  14.99,  29.99,  12.99,   2.49,  10.99,\n",
       "         1.5 ,  19.99,  15.99,  33.99,  39.99,   3.95,   4.49,   1.7 ,\n",
       "         8.99,   1.49,   3.88, 399.99,  17.99, 400.  ,   3.02,   1.76,\n",
       "         4.84,   4.77,   1.61,   2.5 ,   1.59,   6.49,   1.29, 299.99,\n",
       "       379.99,  37.99,  18.99, 389.99,   8.49,   1.75,  14.  ,   2.  ,\n",
       "         3.08,   2.59,  19.4 ,   3.9 ,   4.59,  15.46,   3.04,  13.99,\n",
       "         4.29,   3.28,   4.6 ,   1.  ,   2.95,   2.9 ,   1.97,   2.56,\n",
       "         1.2 ])"
      ]
     },
     "execution_count": 29,
     "metadata": {},
     "output_type": "execute_result"
    }
   ],
   "source": [
    "#checking for distinct values of 'price'\n",
    "df['Price'].unique()"
   ]
  },
  {
   "cell_type": "markdown",
   "id": "82f4745e",
   "metadata": {},
   "source": [
    "yes,there seem to be prices more than 200 which are very high lets drop them..."
   ]
  },
  {
   "cell_type": "code",
   "execution_count": 30,
   "id": "d9b0818c",
   "metadata": {},
   "outputs": [
    {
     "name": "stdout",
     "output_type": "stream",
     "text": [
      "The number of rows before filtering is 9353\n",
      "The number of rows after filtering \"price\"above 200 dollars is 9338\n"
     ]
    }
   ],
   "source": [
    "## filtering (dropping) the rows with 'price' above 200 dollars\n",
    "print('The number of rows before filtering is',df.shape[0])\n",
    "\n",
    "df = df[(df['Price'] < 200)]\n",
    "\n",
    "print('The number of rows after filtering \"price\"above 200 dollars is',df.shape[0])"
   ]
  },
  {
   "cell_type": "markdown",
   "id": "c2e85ead",
   "metadata": {},
   "source": [
    "The decrease in no of rows indicates fitering of records with \"Price\" above 200 dollars."
   ]
  },
  {
   "cell_type": "markdown",
   "id": "f2f01378",
   "metadata": {},
   "source": [
    "# 6.2 Reviews"
   ]
  },
  {
   "cell_type": "markdown",
   "id": "eaddaf2b",
   "metadata": {},
   "source": [
    "6.2 Reviews: Very few apps have very high number of reviews. These are all star apps that don’t help with the analysis and,\n",
    "in fact, will skew it. Drop records having more than 2 million reviews. "
   ]
  },
  {
   "cell_type": "code",
   "execution_count": 31,
   "id": "99c9a786",
   "metadata": {},
   "outputs": [
    {
     "data": {
      "text/plain": [
       "array([   159,    967,  87510, ...,    603,   1195, 398307])"
      ]
     },
     "execution_count": 31,
     "metadata": {},
     "output_type": "execute_result"
    }
   ],
   "source": [
    "## Checking for any outliers in unique values of 'Reviews'\n",
    "df['Reviews'].unique()"
   ]
  },
  {
   "cell_type": "markdown",
   "id": "9982a707",
   "metadata": {},
   "source": [
    "Yes , there seem to be few rows with more than 2 million 'Reviews' lets drop them"
   ]
  },
  {
   "cell_type": "code",
   "execution_count": 32,
   "id": "01e7dc11",
   "metadata": {},
   "outputs": [
    {
     "name": "stdout",
     "output_type": "stream",
     "text": [
      "The number of rows before filtering is 9338\n",
      "The number of rows after filtering \"Reviews\" above 2 million is 8885\n"
     ]
    }
   ],
   "source": [
    "## filtering (dropping) the rows with more than 2 million 'Reviews'\n",
    "print('The number of rows before filtering is',df.shape[0])\n",
    "\n",
    "df = df[(df['Reviews'] < 2000000)]\n",
    "\n",
    "print('The number of rows after filtering \"Reviews\" above 2 million is',df.shape[0])"
   ]
  },
  {
   "cell_type": "markdown",
   "id": "c5777e51",
   "metadata": {},
   "source": [
    "# 6.3 Installs"
   ]
  },
  {
   "cell_type": "markdown",
   "id": "e52edab3",
   "metadata": {},
   "source": [
    "6.3 Installs:  There seems to be some outliers in this field too. \n",
    "    Apps having very high number of installs should be dropped from the analysis."
   ]
  },
  {
   "cell_type": "markdown",
   "id": "777edb05",
   "metadata": {},
   "source": [
    "Find out the different percentiles – 10, 25, 50, 70, 90, 95, 99\n",
    "\n",
    "Decide a threshold as cutoff for outlier and drop records having values more than that"
   ]
  },
  {
   "cell_type": "code",
   "execution_count": 33,
   "id": "c16ed92a",
   "metadata": {},
   "outputs": [
    {
     "data": {
      "text/plain": [
       "0.10         1000.0\n",
       "0.25        10000.0\n",
       "0.50       500000.0\n",
       "0.70      1000000.0\n",
       "0.90     10000000.0\n",
       "0.95     10000000.0\n",
       "0.99    100000000.0\n",
       "Name: Installs, dtype: float64"
      ]
     },
     "execution_count": 33,
     "metadata": {},
     "output_type": "execute_result"
    }
   ],
   "source": [
    "## Creating different percentiles – 10, 25, 50, 70, 90, 95, 99\n",
    "\n",
    "df.Installs.quantile([0.1, 0.25, 0.5, 0.7, 0.9, 0.95, 0.99])\n"
   ]
  },
  {
   "cell_type": "code",
   "execution_count": 34,
   "id": "0d2d16bd",
   "metadata": {},
   "outputs": [
    {
     "name": "stdout",
     "output_type": "stream",
     "text": [
      "The number of rows before setting a threshold cutoff at 95th percentile is  8885\n",
      "The number of rows after setting a threshold cutoff at 95th percentile is 7258\n"
     ]
    }
   ],
   "source": [
    "#Drop records having a value more than the 95th percentile\n",
    "\n",
    "print('The number of rows before setting a threshold cutoff at 95th percentile is ',df.shape[0])\n",
    "\n",
    "df = df[df.Installs < 10000000]\n",
    "\n",
    "print('The number of rows after setting a threshold cutoff at 95th percentile is',df.shape[0])"
   ]
  },
  {
   "cell_type": "markdown",
   "id": "52457a75",
   "metadata": {},
   "source": [
    "# 7. Bivariate analysis"
   ]
  },
  {
   "cell_type": "markdown",
   "id": "41ce1f05",
   "metadata": {},
   "source": [
    "7. Bivariate analysis: \n",
    "Let’s look at how the available predictors relate to the variable of interest, i.e., our target variable rating.\n",
    "Make scatter plots (for numeric features) and box plots (for character features) to assess the relations between rating and the other features."
   ]
  },
  {
   "cell_type": "code",
   "execution_count": 35,
   "id": "b91e4447",
   "metadata": {},
   "outputs": [
    {
     "data": {
      "text/html": [
       "<div>\n",
       "<style scoped>\n",
       "    .dataframe tbody tr th:only-of-type {\n",
       "        vertical-align: middle;\n",
       "    }\n",
       "\n",
       "    .dataframe tbody tr th {\n",
       "        vertical-align: top;\n",
       "    }\n",
       "\n",
       "    .dataframe thead th {\n",
       "        text-align: right;\n",
       "    }\n",
       "</style>\n",
       "<table border=\"1\" class=\"dataframe\">\n",
       "  <thead>\n",
       "    <tr style=\"text-align: right;\">\n",
       "      <th></th>\n",
       "      <th>App</th>\n",
       "      <th>Category</th>\n",
       "      <th>Rating</th>\n",
       "      <th>Reviews</th>\n",
       "      <th>Size</th>\n",
       "      <th>Installs</th>\n",
       "      <th>Type</th>\n",
       "      <th>Price</th>\n",
       "      <th>Content Rating</th>\n",
       "      <th>Genres</th>\n",
       "      <th>Last Updated</th>\n",
       "      <th>Current Ver</th>\n",
       "      <th>Android Ver</th>\n",
       "    </tr>\n",
       "  </thead>\n",
       "  <tbody>\n",
       "    <tr>\n",
       "      <th>0</th>\n",
       "      <td>Photo Editor &amp; Candy Camera &amp; Grid &amp; ScrapBook</td>\n",
       "      <td>ART_AND_DESIGN</td>\n",
       "      <td>4.1</td>\n",
       "      <td>159</td>\n",
       "      <td>19000.0</td>\n",
       "      <td>10000</td>\n",
       "      <td>Free</td>\n",
       "      <td>0.0</td>\n",
       "      <td>Everyone</td>\n",
       "      <td>Art &amp; Design</td>\n",
       "      <td>January 7, 2018</td>\n",
       "      <td>1.0.0</td>\n",
       "      <td>4.0.3 and up</td>\n",
       "    </tr>\n",
       "    <tr>\n",
       "      <th>1</th>\n",
       "      <td>Coloring book moana</td>\n",
       "      <td>ART_AND_DESIGN</td>\n",
       "      <td>3.9</td>\n",
       "      <td>967</td>\n",
       "      <td>14000.0</td>\n",
       "      <td>500000</td>\n",
       "      <td>Free</td>\n",
       "      <td>0.0</td>\n",
       "      <td>Everyone</td>\n",
       "      <td>Art &amp; Design;Pretend Play</td>\n",
       "      <td>January 15, 2018</td>\n",
       "      <td>2.0.0</td>\n",
       "      <td>4.0.3 and up</td>\n",
       "    </tr>\n",
       "    <tr>\n",
       "      <th>2</th>\n",
       "      <td>U Launcher Lite – FREE Live Cool Themes, Hide ...</td>\n",
       "      <td>ART_AND_DESIGN</td>\n",
       "      <td>4.7</td>\n",
       "      <td>87510</td>\n",
       "      <td>8.7</td>\n",
       "      <td>5000000</td>\n",
       "      <td>Free</td>\n",
       "      <td>0.0</td>\n",
       "      <td>Everyone</td>\n",
       "      <td>Art &amp; Design</td>\n",
       "      <td>August 1, 2018</td>\n",
       "      <td>1.2.4</td>\n",
       "      <td>4.0.3 and up</td>\n",
       "    </tr>\n",
       "    <tr>\n",
       "      <th>4</th>\n",
       "      <td>Pixel Draw - Number Art Coloring Book</td>\n",
       "      <td>ART_AND_DESIGN</td>\n",
       "      <td>4.3</td>\n",
       "      <td>967</td>\n",
       "      <td>2.8</td>\n",
       "      <td>100000</td>\n",
       "      <td>Free</td>\n",
       "      <td>0.0</td>\n",
       "      <td>Everyone</td>\n",
       "      <td>Art &amp; Design;Creativity</td>\n",
       "      <td>June 20, 2018</td>\n",
       "      <td>1.1</td>\n",
       "      <td>4.4 and up</td>\n",
       "    </tr>\n",
       "    <tr>\n",
       "      <th>5</th>\n",
       "      <td>Paper flowers instructions</td>\n",
       "      <td>ART_AND_DESIGN</td>\n",
       "      <td>4.4</td>\n",
       "      <td>167</td>\n",
       "      <td>5.6</td>\n",
       "      <td>50000</td>\n",
       "      <td>Free</td>\n",
       "      <td>0.0</td>\n",
       "      <td>Everyone</td>\n",
       "      <td>Art &amp; Design</td>\n",
       "      <td>March 26, 2017</td>\n",
       "      <td>1.0</td>\n",
       "      <td>2.3 and up</td>\n",
       "    </tr>\n",
       "  </tbody>\n",
       "</table>\n",
       "</div>"
      ],
      "text/plain": [
       "                                                 App        Category  Rating  \\\n",
       "0     Photo Editor & Candy Camera & Grid & ScrapBook  ART_AND_DESIGN     4.1   \n",
       "1                                Coloring book moana  ART_AND_DESIGN     3.9   \n",
       "2  U Launcher Lite – FREE Live Cool Themes, Hide ...  ART_AND_DESIGN     4.7   \n",
       "4              Pixel Draw - Number Art Coloring Book  ART_AND_DESIGN     4.3   \n",
       "5                         Paper flowers instructions  ART_AND_DESIGN     4.4   \n",
       "\n",
       "   Reviews     Size  Installs  Type  Price Content Rating  \\\n",
       "0      159  19000.0     10000  Free    0.0       Everyone   \n",
       "1      967  14000.0    500000  Free    0.0       Everyone   \n",
       "2    87510      8.7   5000000  Free    0.0       Everyone   \n",
       "4      967      2.8    100000  Free    0.0       Everyone   \n",
       "5      167      5.6     50000  Free    0.0       Everyone   \n",
       "\n",
       "                      Genres      Last Updated Current Ver   Android Ver  \n",
       "0               Art & Design   January 7, 2018       1.0.0  4.0.3 and up  \n",
       "1  Art & Design;Pretend Play  January 15, 2018       2.0.0  4.0.3 and up  \n",
       "2               Art & Design    August 1, 2018       1.2.4  4.0.3 and up  \n",
       "4    Art & Design;Creativity     June 20, 2018         1.1    4.4 and up  \n",
       "5               Art & Design    March 26, 2017         1.0    2.3 and up  "
      ]
     },
     "execution_count": 35,
     "metadata": {},
     "output_type": "execute_result"
    }
   ],
   "source": [
    "## Making a copy of dataframe \"df\" as \"df1\" for future use...\n",
    "df1 = pd.DataFrame()\n",
    "df1 = df\n",
    "df1.head()"
   ]
  },
  {
   "cell_type": "code",
   "execution_count": 36,
   "id": "f86a50a0",
   "metadata": {},
   "outputs": [],
   "source": [
    "## filtering the numeric columns as a new dataframe  \"dfn\"\n",
    "df_numeric = df1.select_dtypes(include = 'number')"
   ]
  },
  {
   "cell_type": "code",
   "execution_count": 37,
   "id": "2aa0343e",
   "metadata": {},
   "outputs": [
    {
     "data": {
      "text/html": [
       "<div>\n",
       "<style scoped>\n",
       "    .dataframe tbody tr th:only-of-type {\n",
       "        vertical-align: middle;\n",
       "    }\n",
       "\n",
       "    .dataframe tbody tr th {\n",
       "        vertical-align: top;\n",
       "    }\n",
       "\n",
       "    .dataframe thead th {\n",
       "        text-align: right;\n",
       "    }\n",
       "</style>\n",
       "<table border=\"1\" class=\"dataframe\">\n",
       "  <thead>\n",
       "    <tr style=\"text-align: right;\">\n",
       "      <th></th>\n",
       "      <th>Rating</th>\n",
       "      <th>Reviews</th>\n",
       "      <th>Size</th>\n",
       "      <th>Installs</th>\n",
       "      <th>Price</th>\n",
       "    </tr>\n",
       "  </thead>\n",
       "  <tbody>\n",
       "    <tr>\n",
       "      <th>0</th>\n",
       "      <td>4.1</td>\n",
       "      <td>159</td>\n",
       "      <td>19000.0</td>\n",
       "      <td>10000</td>\n",
       "      <td>0.0</td>\n",
       "    </tr>\n",
       "    <tr>\n",
       "      <th>1</th>\n",
       "      <td>3.9</td>\n",
       "      <td>967</td>\n",
       "      <td>14000.0</td>\n",
       "      <td>500000</td>\n",
       "      <td>0.0</td>\n",
       "    </tr>\n",
       "    <tr>\n",
       "      <th>2</th>\n",
       "      <td>4.7</td>\n",
       "      <td>87510</td>\n",
       "      <td>8.7</td>\n",
       "      <td>5000000</td>\n",
       "      <td>0.0</td>\n",
       "    </tr>\n",
       "    <tr>\n",
       "      <th>4</th>\n",
       "      <td>4.3</td>\n",
       "      <td>967</td>\n",
       "      <td>2.8</td>\n",
       "      <td>100000</td>\n",
       "      <td>0.0</td>\n",
       "    </tr>\n",
       "    <tr>\n",
       "      <th>5</th>\n",
       "      <td>4.4</td>\n",
       "      <td>167</td>\n",
       "      <td>5.6</td>\n",
       "      <td>50000</td>\n",
       "      <td>0.0</td>\n",
       "    </tr>\n",
       "  </tbody>\n",
       "</table>\n",
       "</div>"
      ],
      "text/plain": [
       "   Rating  Reviews     Size  Installs  Price\n",
       "0     4.1      159  19000.0     10000    0.0\n",
       "1     3.9      967  14000.0    500000    0.0\n",
       "2     4.7    87510      8.7   5000000    0.0\n",
       "4     4.3      967      2.8    100000    0.0\n",
       "5     4.4      167      5.6     50000    0.0"
      ]
     },
     "execution_count": 37,
     "metadata": {},
     "output_type": "execute_result"
    }
   ],
   "source": [
    "df_numeric.head()"
   ]
  },
  {
   "cell_type": "markdown",
   "id": "994fc4fa",
   "metadata": {},
   "source": [
    "# 7.1 Price vs Rating Scatter plot"
   ]
  },
  {
   "cell_type": "code",
   "execution_count": 38,
   "id": "b9673300",
   "metadata": {},
   "outputs": [],
   "source": [
    "## Assigning numeric columns to variables x , x1 , x2 , x3 and y... for ease of operation.\n",
    "\n",
    "x  =  df_numeric['Reviews']\n",
    "x1 =  df_numeric['Installs']\n",
    "x2 =  df_numeric['Price'] \n",
    "x3 =  df_numeric['Size']\n",
    "\n",
    "y =  df_numeric['Rating']"
   ]
  },
  {
   "cell_type": "markdown",
   "id": "a6e3b42f",
   "metadata": {},
   "source": [
    "7.1 Make scatter plot/joinplot for Rating vs. Price\n",
    "\n",
    "What pattern do you observe? Does rating increase with price?"
   ]
  },
  {
   "cell_type": "code",
   "execution_count": 39,
   "id": "9c9572d7",
   "metadata": {},
   "outputs": [
    {
     "data": {
      "image/png": "[encoded data removed]",
      "text/plain": [
       "<Figure size 720x576 with 1 Axes>"
      ]
     },
     "metadata": {
      "needs_background": "light"
     },
     "output_type": "display_data"
    }
   ],
   "source": [
    "plt.subplots(figsize=(10,8))\n",
    "sns.scatterplot(y,x2,data = df_numeric)\n",
    "plt.title('Price vs Rating')\n",
    "plt.grid(linestyle='-')\n",
    "plt.show()"
   ]
  },
  {
   "cell_type": "markdown",
   "id": "b1c3cbc0",
   "metadata": {},
   "source": [
    "No, 'Rating' does not seem to increase with 'Price'"
   ]
  },
  {
   "cell_type": "markdown",
   "id": "ff2391e6",
   "metadata": {},
   "source": [
    "# 7.2 Rating vs Size Scatter plot"
   ]
  },
  {
   "cell_type": "markdown",
   "id": "8d94e40a",
   "metadata": {},
   "source": [
    "7.2 Make scatter plot/joinplot for Rating vs. Size\n",
    "\n",
    "Are heavier apps rated better?"
   ]
  },
  {
   "cell_type": "code",
   "execution_count": 40,
   "id": "4de1c99e",
   "metadata": {},
   "outputs": [
    {
     "data": {
      "image/png": "[encoded data removed]",
      "text/plain": [
       "<Figure size 720x576 with 1 Axes>"
      ]
     },
     "metadata": {
      "needs_background": "light"
     },
     "output_type": "display_data"
    }
   ],
   "source": [
    "## scatter plot for 'Rating' and 'Size'\n",
    "\n",
    "plt.subplots(figsize=(10,8))\n",
    "sns.scatterplot(y,x3,data = df_numeric)\n",
    "plt.title('Size vs Rating')\n",
    "plt.grid(linestyle='-')\n",
    "plt.show()"
   ]
  },
  {
   "cell_type": "markdown",
   "id": "be8e60b9",
   "metadata": {},
   "source": [
    "It can be concluded from the plot that heavier Apps have more \"Rating\""
   ]
  },
  {
   "cell_type": "markdown",
   "id": "2ffe7c5a",
   "metadata": {},
   "source": [
    "# 7.3 Rating vs Reviews scatter plot"
   ]
  },
  {
   "cell_type": "markdown",
   "id": "2d893e3f",
   "metadata": {},
   "source": [
    "7.3  Make scatter plot/joinplot for Rating vs. Reviews\n",
    "\n",
    "Does more review mean a better rating always?"
   ]
  },
  {
   "cell_type": "code",
   "execution_count": 41,
   "id": "4ae86227",
   "metadata": {},
   "outputs": [
    {
     "data": {
      "image/png": "[encoded data removed]",
      "text/plain": [
       "<Figure size 720x576 with 1 Axes>"
      ]
     },
     "metadata": {
      "needs_background": "light"
     },
     "output_type": "display_data"
    }
   ],
   "source": [
    "## scatter plot for \"Rating\" and 'Reviews'\n",
    "plt.subplots(figsize=(10,8))\n",
    "sns.scatterplot(y,x,data = df_numeric)\n",
    "plt.title('Reviews vs Rating')\n",
    "plt.grid(linestyle='-')\n",
    "plt.show()"
   ]
  },
  {
   "cell_type": "markdown",
   "id": "63c1f03d",
   "metadata": {},
   "source": [
    "yes, more Reviews show increment in Rating, but these can also be outliers."
   ]
  },
  {
   "cell_type": "code",
   "execution_count": 42,
   "id": "978ad019",
   "metadata": {},
   "outputs": [],
   "source": [
    "## fitering all the object type columns as a new dataframe \"dfobj\"\n",
    "\n",
    "df_object = df1.select_dtypes(include = 'object')"
   ]
  },
  {
   "cell_type": "code",
   "execution_count": 43,
   "id": "f338151b",
   "metadata": {},
   "outputs": [
    {
     "data": {
      "text/html": [
       "<div>\n",
       "<style scoped>\n",
       "    .dataframe tbody tr th:only-of-type {\n",
       "        vertical-align: middle;\n",
       "    }\n",
       "\n",
       "    .dataframe tbody tr th {\n",
       "        vertical-align: top;\n",
       "    }\n",
       "\n",
       "    .dataframe thead th {\n",
       "        text-align: right;\n",
       "    }\n",
       "</style>\n",
       "<table border=\"1\" class=\"dataframe\">\n",
       "  <thead>\n",
       "    <tr style=\"text-align: right;\">\n",
       "      <th></th>\n",
       "      <th>App</th>\n",
       "      <th>Category</th>\n",
       "      <th>Type</th>\n",
       "      <th>Content Rating</th>\n",
       "      <th>Genres</th>\n",
       "      <th>Last Updated</th>\n",
       "      <th>Current Ver</th>\n",
       "      <th>Android Ver</th>\n",
       "    </tr>\n",
       "  </thead>\n",
       "  <tbody>\n",
       "    <tr>\n",
       "      <th>0</th>\n",
       "      <td>Photo Editor &amp; Candy Camera &amp; Grid &amp; ScrapBook</td>\n",
       "      <td>ART_AND_DESIGN</td>\n",
       "      <td>Free</td>\n",
       "      <td>Everyone</td>\n",
       "      <td>Art &amp; Design</td>\n",
       "      <td>January 7, 2018</td>\n",
       "      <td>1.0.0</td>\n",
       "      <td>4.0.3 and up</td>\n",
       "    </tr>\n",
       "    <tr>\n",
       "      <th>1</th>\n",
       "      <td>Coloring book moana</td>\n",
       "      <td>ART_AND_DESIGN</td>\n",
       "      <td>Free</td>\n",
       "      <td>Everyone</td>\n",
       "      <td>Art &amp; Design;Pretend Play</td>\n",
       "      <td>January 15, 2018</td>\n",
       "      <td>2.0.0</td>\n",
       "      <td>4.0.3 and up</td>\n",
       "    </tr>\n",
       "    <tr>\n",
       "      <th>2</th>\n",
       "      <td>U Launcher Lite – FREE Live Cool Themes, Hide ...</td>\n",
       "      <td>ART_AND_DESIGN</td>\n",
       "      <td>Free</td>\n",
       "      <td>Everyone</td>\n",
       "      <td>Art &amp; Design</td>\n",
       "      <td>August 1, 2018</td>\n",
       "      <td>1.2.4</td>\n",
       "      <td>4.0.3 and up</td>\n",
       "    </tr>\n",
       "    <tr>\n",
       "      <th>4</th>\n",
       "      <td>Pixel Draw - Number Art Coloring Book</td>\n",
       "      <td>ART_AND_DESIGN</td>\n",
       "      <td>Free</td>\n",
       "      <td>Everyone</td>\n",
       "      <td>Art &amp; Design;Creativity</td>\n",
       "      <td>June 20, 2018</td>\n",
       "      <td>1.1</td>\n",
       "      <td>4.4 and up</td>\n",
       "    </tr>\n",
       "    <tr>\n",
       "      <th>5</th>\n",
       "      <td>Paper flowers instructions</td>\n",
       "      <td>ART_AND_DESIGN</td>\n",
       "      <td>Free</td>\n",
       "      <td>Everyone</td>\n",
       "      <td>Art &amp; Design</td>\n",
       "      <td>March 26, 2017</td>\n",
       "      <td>1.0</td>\n",
       "      <td>2.3 and up</td>\n",
       "    </tr>\n",
       "  </tbody>\n",
       "</table>\n",
       "</div>"
      ],
      "text/plain": [
       "                                                 App        Category  Type  \\\n",
       "0     Photo Editor & Candy Camera & Grid & ScrapBook  ART_AND_DESIGN  Free   \n",
       "1                                Coloring book moana  ART_AND_DESIGN  Free   \n",
       "2  U Launcher Lite – FREE Live Cool Themes, Hide ...  ART_AND_DESIGN  Free   \n",
       "4              Pixel Draw - Number Art Coloring Book  ART_AND_DESIGN  Free   \n",
       "5                         Paper flowers instructions  ART_AND_DESIGN  Free   \n",
       "\n",
       "  Content Rating                     Genres      Last Updated Current Ver  \\\n",
       "0       Everyone               Art & Design   January 7, 2018       1.0.0   \n",
       "1       Everyone  Art & Design;Pretend Play  January 15, 2018       2.0.0   \n",
       "2       Everyone               Art & Design    August 1, 2018       1.2.4   \n",
       "4       Everyone    Art & Design;Creativity     June 20, 2018         1.1   \n",
       "5       Everyone               Art & Design    March 26, 2017         1.0   \n",
       "\n",
       "    Android Ver  \n",
       "0  4.0.3 and up  \n",
       "1  4.0.3 and up  \n",
       "2  4.0.3 and up  \n",
       "4    4.4 and up  \n",
       "5    2.3 and up  "
      ]
     },
     "execution_count": 43,
     "metadata": {},
     "output_type": "execute_result"
    }
   ],
   "source": [
    "df_object.head()"
   ]
  },
  {
   "cell_type": "markdown",
   "id": "c625edf1",
   "metadata": {},
   "source": [
    "# 7.4 Rating vs Content Rating Boxplot"
   ]
  },
  {
   "cell_type": "markdown",
   "id": "6628eb48",
   "metadata": {},
   "source": [
    "7.4 Make boxplot for Rating vs. Content Rating\n",
    "\n",
    "Is there any difference in the ratings? Are some types liked better?"
   ]
  },
  {
   "cell_type": "code",
   "execution_count": 44,
   "id": "662707d5",
   "metadata": {},
   "outputs": [],
   "source": [
    "## Assigning numeric & object  columns to variables x , y and z... for ease of operation.\n",
    "\n",
    "\n",
    "x4  =  df_object['Content Rating']\n",
    "x5 =  df_object['Category']\n",
    "y  =  df_numeric['Rating']"
   ]
  },
  {
   "cell_type": "code",
   "execution_count": 45,
   "id": "634bd001",
   "metadata": {},
   "outputs": [
    {
     "data": {
      "image/png": "[encoded data removed]",
      "text/plain": [
       "<Figure size 720x576 with 1 Axes>"
      ]
     },
     "metadata": {
      "needs_background": "light"
     },
     "output_type": "display_data"
    }
   ],
   "source": [
    "## plotting a boxplot for \"Rating & Content Rating\"\n",
    "plt.subplots(figsize=(10,8))\n",
    "sns.boxplot(y,x4)\n",
    "plt.title('Rating vs Content Rating ')\n",
    "plt.grid(linestyle='-')\n",
    "plt.show()"
   ]
  },
  {
   "cell_type": "markdown",
   "id": "4509d4a6",
   "metadata": {},
   "source": [
    "Not much conclusion could be drawn as the plot is almost same for Content Ratings, except Adults only 18+ & Unrated"
   ]
  },
  {
   "cell_type": "markdown",
   "id": "c8f58a68",
   "metadata": {},
   "source": [
    "# 7.5 Rating vs Category boxplot"
   ]
  },
  {
   "cell_type": "markdown",
   "id": "82aa18ad",
   "metadata": {},
   "source": [
    " 7.5 Make boxplot for Ratings vs. Category\n",
    "\n",
    " Which genre has the best ratings?"
   ]
  },
  {
   "cell_type": "code",
   "execution_count": 46,
   "id": "9d2ad498",
   "metadata": {},
   "outputs": [
    {
     "data": {
      "image/png": "[encoded data removed]",
      "text/plain": [
       "<Figure size 720x576 with 1 Axes>"
      ]
     },
     "metadata": {
      "needs_background": "light"
     },
     "output_type": "display_data"
    }
   ],
   "source": [
    "## plotting a boxplot for \"Rating & Category\"\n",
    "plt.subplots(figsize=(10,8))\n",
    "sns.boxplot(y,x5)\n",
    "plt.title('Rating vs Category ')\n",
    "plt.grid(linestyle='-')\n",
    "plt.show()"
   ]
  },
  {
   "cell_type": "markdown",
   "id": "b83e7611",
   "metadata": {},
   "source": [
    "\"ART_AND_DESIGN and EVENT\" genre has best \"Rating\""
   ]
  },
  {
   "cell_type": "markdown",
   "id": "6f2e58f9",
   "metadata": {},
   "source": [
    "# 8. Data preprocessing"
   ]
  },
  {
   "cell_type": "markdown",
   "id": "9f4a177e",
   "metadata": {},
   "source": [
    "8. Data preprocessing For the steps below, create a copy of the dataframe to make all the edits. Name it inp1."
   ]
  },
  {
   "cell_type": "code",
   "execution_count": 47,
   "id": "30c8de95",
   "metadata": {},
   "outputs": [
    {
     "data": {
      "text/html": [
       "<div>\n",
       "<style scoped>\n",
       "    .dataframe tbody tr th:only-of-type {\n",
       "        vertical-align: middle;\n",
       "    }\n",
       "\n",
       "    .dataframe tbody tr th {\n",
       "        vertical-align: top;\n",
       "    }\n",
       "\n",
       "    .dataframe thead th {\n",
       "        text-align: right;\n",
       "    }\n",
       "</style>\n",
       "<table border=\"1\" class=\"dataframe\">\n",
       "  <thead>\n",
       "    <tr style=\"text-align: right;\">\n",
       "      <th></th>\n",
       "      <th>App</th>\n",
       "      <th>Category</th>\n",
       "      <th>Rating</th>\n",
       "      <th>Reviews</th>\n",
       "      <th>Size</th>\n",
       "      <th>Installs</th>\n",
       "      <th>Type</th>\n",
       "      <th>Price</th>\n",
       "      <th>Content Rating</th>\n",
       "      <th>Genres</th>\n",
       "      <th>Last Updated</th>\n",
       "      <th>Current Ver</th>\n",
       "      <th>Android Ver</th>\n",
       "    </tr>\n",
       "  </thead>\n",
       "  <tbody>\n",
       "    <tr>\n",
       "      <th>0</th>\n",
       "      <td>Photo Editor &amp; Candy Camera &amp; Grid &amp; ScrapBook</td>\n",
       "      <td>ART_AND_DESIGN</td>\n",
       "      <td>4.1</td>\n",
       "      <td>159</td>\n",
       "      <td>19000.0</td>\n",
       "      <td>10000</td>\n",
       "      <td>Free</td>\n",
       "      <td>0.0</td>\n",
       "      <td>Everyone</td>\n",
       "      <td>Art &amp; Design</td>\n",
       "      <td>January 7, 2018</td>\n",
       "      <td>1.0.0</td>\n",
       "      <td>4.0.3 and up</td>\n",
       "    </tr>\n",
       "    <tr>\n",
       "      <th>1</th>\n",
       "      <td>Coloring book moana</td>\n",
       "      <td>ART_AND_DESIGN</td>\n",
       "      <td>3.9</td>\n",
       "      <td>967</td>\n",
       "      <td>14000.0</td>\n",
       "      <td>500000</td>\n",
       "      <td>Free</td>\n",
       "      <td>0.0</td>\n",
       "      <td>Everyone</td>\n",
       "      <td>Art &amp; Design;Pretend Play</td>\n",
       "      <td>January 15, 2018</td>\n",
       "      <td>2.0.0</td>\n",
       "      <td>4.0.3 and up</td>\n",
       "    </tr>\n",
       "    <tr>\n",
       "      <th>2</th>\n",
       "      <td>U Launcher Lite – FREE Live Cool Themes, Hide ...</td>\n",
       "      <td>ART_AND_DESIGN</td>\n",
       "      <td>4.7</td>\n",
       "      <td>87510</td>\n",
       "      <td>8.7</td>\n",
       "      <td>5000000</td>\n",
       "      <td>Free</td>\n",
       "      <td>0.0</td>\n",
       "      <td>Everyone</td>\n",
       "      <td>Art &amp; Design</td>\n",
       "      <td>August 1, 2018</td>\n",
       "      <td>1.2.4</td>\n",
       "      <td>4.0.3 and up</td>\n",
       "    </tr>\n",
       "    <tr>\n",
       "      <th>3</th>\n",
       "      <td>Pixel Draw - Number Art Coloring Book</td>\n",
       "      <td>ART_AND_DESIGN</td>\n",
       "      <td>4.3</td>\n",
       "      <td>967</td>\n",
       "      <td>2.8</td>\n",
       "      <td>100000</td>\n",
       "      <td>Free</td>\n",
       "      <td>0.0</td>\n",
       "      <td>Everyone</td>\n",
       "      <td>Art &amp; Design;Creativity</td>\n",
       "      <td>June 20, 2018</td>\n",
       "      <td>1.1</td>\n",
       "      <td>4.4 and up</td>\n",
       "    </tr>\n",
       "    <tr>\n",
       "      <th>4</th>\n",
       "      <td>Paper flowers instructions</td>\n",
       "      <td>ART_AND_DESIGN</td>\n",
       "      <td>4.4</td>\n",
       "      <td>167</td>\n",
       "      <td>5.6</td>\n",
       "      <td>50000</td>\n",
       "      <td>Free</td>\n",
       "      <td>0.0</td>\n",
       "      <td>Everyone</td>\n",
       "      <td>Art &amp; Design</td>\n",
       "      <td>March 26, 2017</td>\n",
       "      <td>1.0</td>\n",
       "      <td>2.3 and up</td>\n",
       "    </tr>\n",
       "  </tbody>\n",
       "</table>\n",
       "</div>"
      ],
      "text/plain": [
       "                                                 App        Category  Rating  \\\n",
       "0     Photo Editor & Candy Camera & Grid & ScrapBook  ART_AND_DESIGN     4.1   \n",
       "1                                Coloring book moana  ART_AND_DESIGN     3.9   \n",
       "2  U Launcher Lite – FREE Live Cool Themes, Hide ...  ART_AND_DESIGN     4.7   \n",
       "3              Pixel Draw - Number Art Coloring Book  ART_AND_DESIGN     4.3   \n",
       "4                         Paper flowers instructions  ART_AND_DESIGN     4.4   \n",
       "\n",
       "   Reviews     Size  Installs  Type  Price Content Rating  \\\n",
       "0      159  19000.0     10000  Free    0.0       Everyone   \n",
       "1      967  14000.0    500000  Free    0.0       Everyone   \n",
       "2    87510      8.7   5000000  Free    0.0       Everyone   \n",
       "3      967      2.8    100000  Free    0.0       Everyone   \n",
       "4      167      5.6     50000  Free    0.0       Everyone   \n",
       "\n",
       "                      Genres      Last Updated Current Ver   Android Ver  \n",
       "0               Art & Design   January 7, 2018       1.0.0  4.0.3 and up  \n",
       "1  Art & Design;Pretend Play  January 15, 2018       2.0.0  4.0.3 and up  \n",
       "2               Art & Design    August 1, 2018       1.2.4  4.0.3 and up  \n",
       "3    Art & Design;Creativity     June 20, 2018         1.1    4.4 and up  \n",
       "4               Art & Design    March 26, 2017         1.0    2.3 and up  "
      ]
     },
     "execution_count": 47,
     "metadata": {},
     "output_type": "execute_result"
    }
   ],
   "source": [
    "## making a copy of df as inp1\n",
    "inp1 = pd.DataFrame()\n",
    "inp1 = df\n",
    "inp1.reset_index(drop = True, inplace=True)\n",
    "inp1.head()"
   ]
  },
  {
   "cell_type": "markdown",
   "id": "49f130d8",
   "metadata": {},
   "source": [
    " 8.1 Reviews and Install have some values that are still relatively very high. Before building a linear regression model,"
   ]
  },
  {
   "cell_type": "code",
   "execution_count": 48,
   "id": "f67971e8",
   "metadata": {},
   "outputs": [
    {
     "data": {
      "text/html": [
       "<div>\n",
       "<style scoped>\n",
       "    .dataframe tbody tr th:only-of-type {\n",
       "        vertical-align: middle;\n",
       "    }\n",
       "\n",
       "    .dataframe tbody tr th {\n",
       "        vertical-align: top;\n",
       "    }\n",
       "\n",
       "    .dataframe thead th {\n",
       "        text-align: right;\n",
       "    }\n",
       "</style>\n",
       "<table border=\"1\" class=\"dataframe\">\n",
       "  <thead>\n",
       "    <tr style=\"text-align: right;\">\n",
       "      <th></th>\n",
       "      <th>App</th>\n",
       "      <th>Category</th>\n",
       "      <th>Rating</th>\n",
       "      <th>Reviews</th>\n",
       "      <th>Size</th>\n",
       "      <th>Installs</th>\n",
       "      <th>Type</th>\n",
       "      <th>Price</th>\n",
       "      <th>Content Rating</th>\n",
       "      <th>Genres</th>\n",
       "      <th>Last Updated</th>\n",
       "      <th>Current Ver</th>\n",
       "      <th>Android Ver</th>\n",
       "    </tr>\n",
       "  </thead>\n",
       "  <tbody>\n",
       "    <tr>\n",
       "      <th>0</th>\n",
       "      <td>Photo Editor &amp; Candy Camera &amp; Grid &amp; ScrapBook</td>\n",
       "      <td>ART_AND_DESIGN</td>\n",
       "      <td>4.1</td>\n",
       "      <td>5.075174</td>\n",
       "      <td>19000.0</td>\n",
       "      <td>9.210440</td>\n",
       "      <td>Free</td>\n",
       "      <td>0.0</td>\n",
       "      <td>Everyone</td>\n",
       "      <td>Art &amp; Design</td>\n",
       "      <td>January 7, 2018</td>\n",
       "      <td>1.0.0</td>\n",
       "      <td>4.0.3 and up</td>\n",
       "    </tr>\n",
       "    <tr>\n",
       "      <th>1</th>\n",
       "      <td>Coloring book moana</td>\n",
       "      <td>ART_AND_DESIGN</td>\n",
       "      <td>3.9</td>\n",
       "      <td>6.875232</td>\n",
       "      <td>14000.0</td>\n",
       "      <td>13.122365</td>\n",
       "      <td>Free</td>\n",
       "      <td>0.0</td>\n",
       "      <td>Everyone</td>\n",
       "      <td>Art &amp; Design;Pretend Play</td>\n",
       "      <td>January 15, 2018</td>\n",
       "      <td>2.0.0</td>\n",
       "      <td>4.0.3 and up</td>\n",
       "    </tr>\n",
       "    <tr>\n",
       "      <th>2</th>\n",
       "      <td>U Launcher Lite – FREE Live Cool Themes, Hide ...</td>\n",
       "      <td>ART_AND_DESIGN</td>\n",
       "      <td>4.7</td>\n",
       "      <td>11.379520</td>\n",
       "      <td>8.7</td>\n",
       "      <td>15.424949</td>\n",
       "      <td>Free</td>\n",
       "      <td>0.0</td>\n",
       "      <td>Everyone</td>\n",
       "      <td>Art &amp; Design</td>\n",
       "      <td>August 1, 2018</td>\n",
       "      <td>1.2.4</td>\n",
       "      <td>4.0.3 and up</td>\n",
       "    </tr>\n",
       "    <tr>\n",
       "      <th>3</th>\n",
       "      <td>Pixel Draw - Number Art Coloring Book</td>\n",
       "      <td>ART_AND_DESIGN</td>\n",
       "      <td>4.3</td>\n",
       "      <td>6.875232</td>\n",
       "      <td>2.8</td>\n",
       "      <td>11.512935</td>\n",
       "      <td>Free</td>\n",
       "      <td>0.0</td>\n",
       "      <td>Everyone</td>\n",
       "      <td>Art &amp; Design;Creativity</td>\n",
       "      <td>June 20, 2018</td>\n",
       "      <td>1.1</td>\n",
       "      <td>4.4 and up</td>\n",
       "    </tr>\n",
       "    <tr>\n",
       "      <th>4</th>\n",
       "      <td>Paper flowers instructions</td>\n",
       "      <td>ART_AND_DESIGN</td>\n",
       "      <td>4.4</td>\n",
       "      <td>5.123964</td>\n",
       "      <td>5.6</td>\n",
       "      <td>10.819798</td>\n",
       "      <td>Free</td>\n",
       "      <td>0.0</td>\n",
       "      <td>Everyone</td>\n",
       "      <td>Art &amp; Design</td>\n",
       "      <td>March 26, 2017</td>\n",
       "      <td>1.0</td>\n",
       "      <td>2.3 and up</td>\n",
       "    </tr>\n",
       "  </tbody>\n",
       "</table>\n",
       "</div>"
      ],
      "text/plain": [
       "                                                 App        Category  Rating  \\\n",
       "0     Photo Editor & Candy Camera & Grid & ScrapBook  ART_AND_DESIGN     4.1   \n",
       "1                                Coloring book moana  ART_AND_DESIGN     3.9   \n",
       "2  U Launcher Lite – FREE Live Cool Themes, Hide ...  ART_AND_DESIGN     4.7   \n",
       "3              Pixel Draw - Number Art Coloring Book  ART_AND_DESIGN     4.3   \n",
       "4                         Paper flowers instructions  ART_AND_DESIGN     4.4   \n",
       "\n",
       "     Reviews     Size   Installs  Type  Price Content Rating  \\\n",
       "0   5.075174  19000.0   9.210440  Free    0.0       Everyone   \n",
       "1   6.875232  14000.0  13.122365  Free    0.0       Everyone   \n",
       "2  11.379520      8.7  15.424949  Free    0.0       Everyone   \n",
       "3   6.875232      2.8  11.512935  Free    0.0       Everyone   \n",
       "4   5.123964      5.6  10.819798  Free    0.0       Everyone   \n",
       "\n",
       "                      Genres      Last Updated Current Ver   Android Ver  \n",
       "0               Art & Design   January 7, 2018       1.0.0  4.0.3 and up  \n",
       "1  Art & Design;Pretend Play  January 15, 2018       2.0.0  4.0.3 and up  \n",
       "2               Art & Design    August 1, 2018       1.2.4  4.0.3 and up  \n",
       "3    Art & Design;Creativity     June 20, 2018         1.1    4.4 and up  \n",
       "4               Art & Design    March 26, 2017         1.0    2.3 and up  "
      ]
     },
     "execution_count": 48,
     "metadata": {},
     "output_type": "execute_result"
    }
   ],
   "source": [
    "#you need to reduce the skew. Apply log transformation (np.log1p) to Reviews and Installs.\n",
    "\n",
    "inp1['Installs'] = np.log1p(inp1['Installs'])\n",
    "inp1['Reviews']  = np.log1p(inp1['Reviews'])\n",
    "\n",
    "inp1.head()"
   ]
  },
  {
   "cell_type": "markdown",
   "id": "5218dad4",
   "metadata": {},
   "source": [
    "# Statistical Analysis"
   ]
  },
  {
   "cell_type": "code",
   "execution_count": 49,
   "id": "3d33a295",
   "metadata": {},
   "outputs": [
    {
     "data": {
      "text/html": [
       "<div>\n",
       "<style scoped>\n",
       "    .dataframe tbody tr th:only-of-type {\n",
       "        vertical-align: middle;\n",
       "    }\n",
       "\n",
       "    .dataframe tbody tr th {\n",
       "        vertical-align: top;\n",
       "    }\n",
       "\n",
       "    .dataframe thead th {\n",
       "        text-align: right;\n",
       "    }\n",
       "</style>\n",
       "<table border=\"1\" class=\"dataframe\">\n",
       "  <thead>\n",
       "    <tr style=\"text-align: right;\">\n",
       "      <th></th>\n",
       "      <th>Rating</th>\n",
       "      <th>Reviews</th>\n",
       "      <th>Size</th>\n",
       "      <th>Installs</th>\n",
       "      <th>Price</th>\n",
       "    </tr>\n",
       "  </thead>\n",
       "  <tbody>\n",
       "    <tr>\n",
       "      <th>count</th>\n",
       "      <td>7258.000000</td>\n",
       "      <td>7258.000000</td>\n",
       "      <td>7258.000000</td>\n",
       "      <td>7258.000000</td>\n",
       "      <td>7258.000000</td>\n",
       "    </tr>\n",
       "    <tr>\n",
       "      <th>mean</th>\n",
       "      <td>4.149959</td>\n",
       "      <td>6.997926</td>\n",
       "      <td>16305.536002</td>\n",
       "      <td>10.956210</td>\n",
       "      <td>0.428185</td>\n",
       "    </tr>\n",
       "    <tr>\n",
       "      <th>std</th>\n",
       "      <td>0.561853</td>\n",
       "      <td>3.092849</td>\n",
       "      <td>22443.077304</td>\n",
       "      <td>3.176614</td>\n",
       "      <td>2.451258</td>\n",
       "    </tr>\n",
       "    <tr>\n",
       "      <th>min</th>\n",
       "      <td>1.000000</td>\n",
       "      <td>0.693147</td>\n",
       "      <td>0.000000</td>\n",
       "      <td>1.791759</td>\n",
       "      <td>0.000000</td>\n",
       "    </tr>\n",
       "    <tr>\n",
       "      <th>25%</th>\n",
       "      <td>3.900000</td>\n",
       "      <td>4.454347</td>\n",
       "      <td>3.800000</td>\n",
       "      <td>9.210440</td>\n",
       "      <td>0.000000</td>\n",
       "    </tr>\n",
       "    <tr>\n",
       "      <th>50%</th>\n",
       "      <td>4.300000</td>\n",
       "      <td>7.230563</td>\n",
       "      <td>604.000000</td>\n",
       "      <td>11.512935</td>\n",
       "      <td>0.000000</td>\n",
       "    </tr>\n",
       "    <tr>\n",
       "      <th>75%</th>\n",
       "      <td>4.500000</td>\n",
       "      <td>9.704259</td>\n",
       "      <td>26000.000000</td>\n",
       "      <td>13.815512</td>\n",
       "      <td>0.000000</td>\n",
       "    </tr>\n",
       "    <tr>\n",
       "      <th>max</th>\n",
       "      <td>5.000000</td>\n",
       "      <td>13.705828</td>\n",
       "      <td>100000.000000</td>\n",
       "      <td>15.424949</td>\n",
       "      <td>79.990000</td>\n",
       "    </tr>\n",
       "  </tbody>\n",
       "</table>\n",
       "</div>"
      ],
      "text/plain": [
       "            Rating      Reviews           Size     Installs        Price\n",
       "count  7258.000000  7258.000000    7258.000000  7258.000000  7258.000000\n",
       "mean      4.149959     6.997926   16305.536002    10.956210     0.428185\n",
       "std       0.561853     3.092849   22443.077304     3.176614     2.451258\n",
       "min       1.000000     0.693147       0.000000     1.791759     0.000000\n",
       "25%       3.900000     4.454347       3.800000     9.210440     0.000000\n",
       "50%       4.300000     7.230563     604.000000    11.512935     0.000000\n",
       "75%       4.500000     9.704259   26000.000000    13.815512     0.000000\n",
       "max       5.000000    13.705828  100000.000000    15.424949    79.990000"
      ]
     },
     "execution_count": 49,
     "metadata": {},
     "output_type": "execute_result"
    }
   ],
   "source": [
    "### Statistical summary:\n",
    "inp1.describe()"
   ]
  },
  {
   "cell_type": "code",
   "execution_count": 53,
   "id": "a227834f",
   "metadata": {},
   "outputs": [
    {
     "data": {
      "text/html": [
       "<div>\n",
       "<style scoped>\n",
       "    .dataframe tbody tr th:only-of-type {\n",
       "        vertical-align: middle;\n",
       "    }\n",
       "\n",
       "    .dataframe tbody tr th {\n",
       "        vertical-align: top;\n",
       "    }\n",
       "\n",
       "    .dataframe thead th {\n",
       "        text-align: right;\n",
       "    }\n",
       "</style>\n",
       "<table border=\"1\" class=\"dataframe\">\n",
       "  <thead>\n",
       "    <tr style=\"text-align: right;\">\n",
       "      <th></th>\n",
       "      <th>Rating</th>\n",
       "      <th>Reviews</th>\n",
       "      <th>Size</th>\n",
       "      <th>Installs</th>\n",
       "      <th>Price</th>\n",
       "    </tr>\n",
       "  </thead>\n",
       "  <tbody>\n",
       "    <tr>\n",
       "      <th>0</th>\n",
       "      <td>4.1</td>\n",
       "      <td>5.075174</td>\n",
       "      <td>19000.0</td>\n",
       "      <td>9.210440</td>\n",
       "      <td>0.0</td>\n",
       "    </tr>\n",
       "    <tr>\n",
       "      <th>1</th>\n",
       "      <td>3.9</td>\n",
       "      <td>6.875232</td>\n",
       "      <td>14000.0</td>\n",
       "      <td>13.122365</td>\n",
       "      <td>0.0</td>\n",
       "    </tr>\n",
       "    <tr>\n",
       "      <th>2</th>\n",
       "      <td>4.7</td>\n",
       "      <td>11.379520</td>\n",
       "      <td>8.7</td>\n",
       "      <td>15.424949</td>\n",
       "      <td>0.0</td>\n",
       "    </tr>\n",
       "    <tr>\n",
       "      <th>3</th>\n",
       "      <td>4.3</td>\n",
       "      <td>6.875232</td>\n",
       "      <td>2.8</td>\n",
       "      <td>11.512935</td>\n",
       "      <td>0.0</td>\n",
       "    </tr>\n",
       "    <tr>\n",
       "      <th>4</th>\n",
       "      <td>4.4</td>\n",
       "      <td>5.123964</td>\n",
       "      <td>5.6</td>\n",
       "      <td>10.819798</td>\n",
       "      <td>0.0</td>\n",
       "    </tr>\n",
       "  </tbody>\n",
       "</table>\n",
       "</div>"
      ],
      "text/plain": [
       "   Rating    Reviews     Size   Installs  Price\n",
       "0     4.1   5.075174  19000.0   9.210440    0.0\n",
       "1     3.9   6.875232  14000.0  13.122365    0.0\n",
       "2     4.7  11.379520      8.7  15.424949    0.0\n",
       "3     4.3   6.875232      2.8  11.512935    0.0\n",
       "4     4.4   5.123964      5.6  10.819798    0.0"
      ]
     },
     "execution_count": 53,
     "metadata": {},
     "output_type": "execute_result"
    }
   ],
   "source": [
    "##seggregating the Continous columns :\n",
    "\n",
    "Continous = inp1.describe().columns\n",
    "inp1[Continous].head()"
   ]
  },
  {
   "cell_type": "code",
   "execution_count": 54,
   "id": "f5681d44",
   "metadata": {},
   "outputs": [
    {
     "data": {
      "text/html": [
       "<div>\n",
       "<style scoped>\n",
       "    .dataframe tbody tr th:only-of-type {\n",
       "        vertical-align: middle;\n",
       "    }\n",
       "\n",
       "    .dataframe tbody tr th {\n",
       "        vertical-align: top;\n",
       "    }\n",
       "\n",
       "    .dataframe thead th {\n",
       "        text-align: right;\n",
       "    }\n",
       "</style>\n",
       "<table border=\"1\" class=\"dataframe\">\n",
       "  <thead>\n",
       "    <tr style=\"text-align: right;\">\n",
       "      <th></th>\n",
       "      <th>Rating</th>\n",
       "      <th>Reviews</th>\n",
       "      <th>Size</th>\n",
       "      <th>Installs</th>\n",
       "      <th>Price</th>\n",
       "    </tr>\n",
       "  </thead>\n",
       "  <tbody>\n",
       "    <tr>\n",
       "      <th>0</th>\n",
       "      <td>4.1</td>\n",
       "      <td>5.075174</td>\n",
       "      <td>19000.0</td>\n",
       "      <td>9.210440</td>\n",
       "      <td>0.0</td>\n",
       "    </tr>\n",
       "    <tr>\n",
       "      <th>1</th>\n",
       "      <td>3.9</td>\n",
       "      <td>6.875232</td>\n",
       "      <td>14000.0</td>\n",
       "      <td>13.122365</td>\n",
       "      <td>0.0</td>\n",
       "    </tr>\n",
       "    <tr>\n",
       "      <th>2</th>\n",
       "      <td>4.7</td>\n",
       "      <td>11.379520</td>\n",
       "      <td>8.7</td>\n",
       "      <td>15.424949</td>\n",
       "      <td>0.0</td>\n",
       "    </tr>\n",
       "    <tr>\n",
       "      <th>3</th>\n",
       "      <td>4.3</td>\n",
       "      <td>6.875232</td>\n",
       "      <td>2.8</td>\n",
       "      <td>11.512935</td>\n",
       "      <td>0.0</td>\n",
       "    </tr>\n",
       "    <tr>\n",
       "      <th>4</th>\n",
       "      <td>4.4</td>\n",
       "      <td>5.123964</td>\n",
       "      <td>5.6</td>\n",
       "      <td>10.819798</td>\n",
       "      <td>0.0</td>\n",
       "    </tr>\n",
       "  </tbody>\n",
       "</table>\n",
       "</div>"
      ],
      "text/plain": [
       "   Rating    Reviews     Size   Installs  Price\n",
       "0     4.1   5.075174  19000.0   9.210440    0.0\n",
       "1     3.9   6.875232  14000.0  13.122365    0.0\n",
       "2     4.7  11.379520      8.7  15.424949    0.0\n",
       "3     4.3   6.875232      2.8  11.512935    0.0\n",
       "4     4.4   5.123964      5.6  10.819798    0.0"
      ]
     },
     "execution_count": 54,
     "metadata": {},
     "output_type": "execute_result"
    }
   ],
   "source": [
    "### Importing \"Z score \" from scipy.stats\n",
    "from scipy.stats import zscore\n",
    "inp1[Continous].head()"
   ]
  },
  {
   "cell_type": "code",
   "execution_count": 55,
   "id": "f57cce6d",
   "metadata": {},
   "outputs": [
    {
     "data": {
      "text/html": [
       "<div>\n",
       "<style scoped>\n",
       "    .dataframe tbody tr th:only-of-type {\n",
       "        vertical-align: middle;\n",
       "    }\n",
       "\n",
       "    .dataframe tbody tr th {\n",
       "        vertical-align: top;\n",
       "    }\n",
       "\n",
       "    .dataframe thead th {\n",
       "        text-align: right;\n",
       "    }\n",
       "</style>\n",
       "<table border=\"1\" class=\"dataframe\">\n",
       "  <thead>\n",
       "    <tr style=\"text-align: right;\">\n",
       "      <th></th>\n",
       "      <th>Rating</th>\n",
       "      <th>Reviews</th>\n",
       "      <th>Size</th>\n",
       "      <th>Installs</th>\n",
       "      <th>Price</th>\n",
       "    </tr>\n",
       "  </thead>\n",
       "  <tbody>\n",
       "    <tr>\n",
       "      <th>0</th>\n",
       "      <td>-0.088924</td>\n",
       "      <td>-0.621719</td>\n",
       "      <td>0.120066</td>\n",
       "      <td>-0.549607</td>\n",
       "      <td>-0.174692</td>\n",
       "    </tr>\n",
       "    <tr>\n",
       "      <th>1</th>\n",
       "      <td>-0.444913</td>\n",
       "      <td>-0.039673</td>\n",
       "      <td>-0.102735</td>\n",
       "      <td>0.681954</td>\n",
       "      <td>-0.174692</td>\n",
       "    </tr>\n",
       "    <tr>\n",
       "      <th>2</th>\n",
       "      <td>0.979044</td>\n",
       "      <td>1.416783</td>\n",
       "      <td>-0.726191</td>\n",
       "      <td>1.406858</td>\n",
       "      <td>-0.174692</td>\n",
       "    </tr>\n",
       "    <tr>\n",
       "      <th>3</th>\n",
       "      <td>0.267065</td>\n",
       "      <td>-0.039673</td>\n",
       "      <td>-0.726454</td>\n",
       "      <td>0.175270</td>\n",
       "      <td>-0.174692</td>\n",
       "    </tr>\n",
       "    <tr>\n",
       "      <th>4</th>\n",
       "      <td>0.445060</td>\n",
       "      <td>-0.605943</td>\n",
       "      <td>-0.726329</td>\n",
       "      <td>-0.042945</td>\n",
       "      <td>-0.174692</td>\n",
       "    </tr>\n",
       "  </tbody>\n",
       "</table>\n",
       "</div>"
      ],
      "text/plain": [
       "     Rating   Reviews      Size  Installs     Price\n",
       "0 -0.088924 -0.621719  0.120066 -0.549607 -0.174692\n",
       "1 -0.444913 -0.039673 -0.102735  0.681954 -0.174692\n",
       "2  0.979044  1.416783 -0.726191  1.406858 -0.174692\n",
       "3  0.267065 -0.039673 -0.726454  0.175270 -0.174692\n",
       "4  0.445060 -0.605943 -0.726329 -0.042945 -0.174692"
      ]
     },
     "execution_count": 55,
     "metadata": {},
     "output_type": "execute_result"
    }
   ],
   "source": [
    "# Applying zscore to df[continous]\n",
    "inp1[Continous].apply(zscore).head()"
   ]
  },
  {
   "cell_type": "code",
   "execution_count": 56,
   "id": "52f712f5",
   "metadata": {},
   "outputs": [
    {
     "data": {
      "text/html": [
       "<div>\n",
       "<style scoped>\n",
       "    .dataframe tbody tr th:only-of-type {\n",
       "        vertical-align: middle;\n",
       "    }\n",
       "\n",
       "    .dataframe tbody tr th {\n",
       "        vertical-align: top;\n",
       "    }\n",
       "\n",
       "    .dataframe thead th {\n",
       "        text-align: right;\n",
       "    }\n",
       "</style>\n",
       "<table border=\"1\" class=\"dataframe\">\n",
       "  <thead>\n",
       "    <tr style=\"text-align: right;\">\n",
       "      <th></th>\n",
       "      <th>Rating</th>\n",
       "      <th>Reviews</th>\n",
       "      <th>Size</th>\n",
       "      <th>Installs</th>\n",
       "      <th>Price</th>\n",
       "    </tr>\n",
       "  </thead>\n",
       "  <tbody>\n",
       "    <tr>\n",
       "      <th>count</th>\n",
       "      <td>7258.0</td>\n",
       "      <td>7258.0</td>\n",
       "      <td>7258.0</td>\n",
       "      <td>7258.0</td>\n",
       "      <td>7258.0</td>\n",
       "    </tr>\n",
       "    <tr>\n",
       "      <th>mean</th>\n",
       "      <td>0.0</td>\n",
       "      <td>-0.0</td>\n",
       "      <td>0.0</td>\n",
       "      <td>0.0</td>\n",
       "      <td>0.0</td>\n",
       "    </tr>\n",
       "    <tr>\n",
       "      <th>std</th>\n",
       "      <td>1.0</td>\n",
       "      <td>1.0</td>\n",
       "      <td>1.0</td>\n",
       "      <td>1.0</td>\n",
       "      <td>1.0</td>\n",
       "    </tr>\n",
       "    <tr>\n",
       "      <th>min</th>\n",
       "      <td>-6.0</td>\n",
       "      <td>-2.0</td>\n",
       "      <td>-1.0</td>\n",
       "      <td>-3.0</td>\n",
       "      <td>-0.0</td>\n",
       "    </tr>\n",
       "    <tr>\n",
       "      <th>25%</th>\n",
       "      <td>-0.0</td>\n",
       "      <td>-1.0</td>\n",
       "      <td>-1.0</td>\n",
       "      <td>-1.0</td>\n",
       "      <td>-0.0</td>\n",
       "    </tr>\n",
       "    <tr>\n",
       "      <th>50%</th>\n",
       "      <td>0.0</td>\n",
       "      <td>0.0</td>\n",
       "      <td>-1.0</td>\n",
       "      <td>0.0</td>\n",
       "      <td>-0.0</td>\n",
       "    </tr>\n",
       "    <tr>\n",
       "      <th>75%</th>\n",
       "      <td>1.0</td>\n",
       "      <td>1.0</td>\n",
       "      <td>0.0</td>\n",
       "      <td>1.0</td>\n",
       "      <td>-0.0</td>\n",
       "    </tr>\n",
       "    <tr>\n",
       "      <th>max</th>\n",
       "      <td>2.0</td>\n",
       "      <td>2.0</td>\n",
       "      <td>4.0</td>\n",
       "      <td>1.0</td>\n",
       "      <td>32.0</td>\n",
       "    </tr>\n",
       "  </tbody>\n",
       "</table>\n",
       "</div>"
      ],
      "text/plain": [
       "       Rating  Reviews    Size  Installs   Price\n",
       "count  7258.0   7258.0  7258.0    7258.0  7258.0\n",
       "mean      0.0     -0.0     0.0       0.0     0.0\n",
       "std       1.0      1.0     1.0       1.0     1.0\n",
       "min      -6.0     -2.0    -1.0      -3.0    -0.0\n",
       "25%      -0.0     -1.0    -1.0      -1.0    -0.0\n",
       "50%       0.0      0.0    -1.0       0.0    -0.0\n",
       "75%       1.0      1.0     0.0       1.0    -0.0\n",
       "max       2.0      2.0     4.0       1.0    32.0"
      ]
     },
     "execution_count": 56,
     "metadata": {},
     "output_type": "execute_result"
    }
   ],
   "source": [
    "### Rounding up  we get means = 0 ,std = 1 i.e  (N~(0,1))\n",
    "inp1[Continous].apply(zscore).describe().round()"
   ]
  },
  {
   "cell_type": "markdown",
   "id": "1195c9eb",
   "metadata": {},
   "source": [
    "Post Normalisation the \"Mean\" of all numeric Variables is \"0\" and the \"Std\" is \"1\" ie,\n",
    "\n",
    "All continous variable are assuming \"Normal Distribution\" (N~(0,1))"
   ]
  },
  {
   "cell_type": "markdown",
   "id": "b91a8495",
   "metadata": {},
   "source": [
    "# 8.2 Drop columns App, Last Updated, Current Ver, and Android Ver. These variables do not seem useful for our task."
   ]
  },
  {
   "cell_type": "code",
   "execution_count": 57,
   "id": "e14d7536",
   "metadata": {},
   "outputs": [],
   "source": [
    "inp1.drop([\"App\", \"Last Updated\", \"Current Ver\", \"Android Ver\"], axis = 1,inplace = True)"
   ]
  },
  {
   "cell_type": "markdown",
   "id": "9258da79",
   "metadata": {},
   "source": [
    "8.3 Get Indicator columns for Category, Genres, and Content Rating. \n",
    "This needs to be done as the models do not understand categorical data, and all data should be numeric. \n",
    "Label encoding is one way to convert character fields to numeric."
   ]
  },
  {
   "cell_type": "code",
   "execution_count": 58,
   "id": "9b1ddd40",
   "metadata": {},
   "outputs": [],
   "source": [
    "### Encoding the Categorical variables using LabelEncoder()..\n",
    "from sklearn.preprocessing import LabelEncoder\n",
    "encode = LabelEncoder()"
   ]
  },
  {
   "cell_type": "code",
   "execution_count": 59,
   "id": "da1281fd",
   "metadata": {},
   "outputs": [
    {
     "data": {
      "text/html": [
       "<div>\n",
       "<style scoped>\n",
       "    .dataframe tbody tr th:only-of-type {\n",
       "        vertical-align: middle;\n",
       "    }\n",
       "\n",
       "    .dataframe tbody tr th {\n",
       "        vertical-align: top;\n",
       "    }\n",
       "\n",
       "    .dataframe thead th {\n",
       "        text-align: right;\n",
       "    }\n",
       "</style>\n",
       "<table border=\"1\" class=\"dataframe\">\n",
       "  <thead>\n",
       "    <tr style=\"text-align: right;\">\n",
       "      <th></th>\n",
       "      <th>Category</th>\n",
       "      <th>Rating</th>\n",
       "      <th>Reviews</th>\n",
       "      <th>Size</th>\n",
       "      <th>Installs</th>\n",
       "      <th>Type</th>\n",
       "      <th>Price</th>\n",
       "      <th>Content Rating</th>\n",
       "      <th>Genres</th>\n",
       "    </tr>\n",
       "  </thead>\n",
       "  <tbody>\n",
       "    <tr>\n",
       "      <th>0</th>\n",
       "      <td>0</td>\n",
       "      <td>4.1</td>\n",
       "      <td>5.075174</td>\n",
       "      <td>19000.0</td>\n",
       "      <td>9.210440</td>\n",
       "      <td>0</td>\n",
       "      <td>0.0</td>\n",
       "      <td>1</td>\n",
       "      <td>8</td>\n",
       "    </tr>\n",
       "    <tr>\n",
       "      <th>1</th>\n",
       "      <td>0</td>\n",
       "      <td>3.9</td>\n",
       "      <td>6.875232</td>\n",
       "      <td>14000.0</td>\n",
       "      <td>13.122365</td>\n",
       "      <td>0</td>\n",
       "      <td>0.0</td>\n",
       "      <td>1</td>\n",
       "      <td>10</td>\n",
       "    </tr>\n",
       "    <tr>\n",
       "      <th>2</th>\n",
       "      <td>0</td>\n",
       "      <td>4.7</td>\n",
       "      <td>11.379520</td>\n",
       "      <td>8.7</td>\n",
       "      <td>15.424949</td>\n",
       "      <td>0</td>\n",
       "      <td>0.0</td>\n",
       "      <td>1</td>\n",
       "      <td>8</td>\n",
       "    </tr>\n",
       "    <tr>\n",
       "      <th>3</th>\n",
       "      <td>0</td>\n",
       "      <td>4.3</td>\n",
       "      <td>6.875232</td>\n",
       "      <td>2.8</td>\n",
       "      <td>11.512935</td>\n",
       "      <td>0</td>\n",
       "      <td>0.0</td>\n",
       "      <td>1</td>\n",
       "      <td>9</td>\n",
       "    </tr>\n",
       "    <tr>\n",
       "      <th>4</th>\n",
       "      <td>0</td>\n",
       "      <td>4.4</td>\n",
       "      <td>5.123964</td>\n",
       "      <td>5.6</td>\n",
       "      <td>10.819798</td>\n",
       "      <td>0</td>\n",
       "      <td>0.0</td>\n",
       "      <td>1</td>\n",
       "      <td>8</td>\n",
       "    </tr>\n",
       "  </tbody>\n",
       "</table>\n",
       "</div>"
      ],
      "text/plain": [
       "   Category  Rating    Reviews     Size   Installs  Type  Price  \\\n",
       "0         0     4.1   5.075174  19000.0   9.210440     0    0.0   \n",
       "1         0     3.9   6.875232  14000.0  13.122365     0    0.0   \n",
       "2         0     4.7  11.379520      8.7  15.424949     0    0.0   \n",
       "3         0     4.3   6.875232      2.8  11.512935     0    0.0   \n",
       "4         0     4.4   5.123964      5.6  10.819798     0    0.0   \n",
       "\n",
       "   Content Rating  Genres  \n",
       "0               1       8  \n",
       "1               1      10  \n",
       "2               1       8  \n",
       "3               1       9  \n",
       "4               1       8  "
      ]
     },
     "execution_count": 59,
     "metadata": {},
     "output_type": "execute_result"
    }
   ],
   "source": [
    "inp1['Category'] = encode.fit_transform(inp1['Category'])\n",
    "inp1['Content Rating'] = encode.fit_transform(inp1['Content Rating'])\n",
    "inp1['Genres'] = encode.fit_transform(inp1['Genres'])\n",
    "inp1['Type'] = encode.fit_transform(inp1['Type'])\n",
    "\n",
    "inp1.head()                                             "
   ]
  },
  {
   "cell_type": "markdown",
   "id": "301acab1",
   "metadata": {},
   "source": [
    "# 9. Train_ test_ split"
   ]
  },
  {
   "cell_type": "markdown",
   "id": "58bbdb10",
   "metadata": {},
   "source": [
    "9. Train test split  and apply 70-30 split. Name the new dataframes df_train and df_test."
   ]
  },
  {
   "cell_type": "markdown",
   "id": "c45781e8",
   "metadata": {},
   "source": [
    "# 10. Separate the dataframes into X_train, y_train, X_test, and y_test."
   ]
  },
  {
   "cell_type": "code",
   "execution_count": 60,
   "id": "119c0940",
   "metadata": {},
   "outputs": [
    {
     "data": {
      "text/plain": [
       "0    4.1\n",
       "1    3.9\n",
       "Name: Rating, dtype: float64"
      ]
     },
     "execution_count": 60,
     "metadata": {},
     "output_type": "execute_result"
    }
   ],
   "source": [
    "#### Extracting the target variable....\n",
    "\n",
    "target = inp1['Rating']\n",
    "target.head(2)"
   ]
  },
  {
   "cell_type": "code",
   "execution_count": 61,
   "id": "5cac372f",
   "metadata": {},
   "outputs": [
    {
     "data": {
      "text/html": [
       "<div>\n",
       "<style scoped>\n",
       "    .dataframe tbody tr th:only-of-type {\n",
       "        vertical-align: middle;\n",
       "    }\n",
       "\n",
       "    .dataframe tbody tr th {\n",
       "        vertical-align: top;\n",
       "    }\n",
       "\n",
       "    .dataframe thead th {\n",
       "        text-align: right;\n",
       "    }\n",
       "</style>\n",
       "<table border=\"1\" class=\"dataframe\">\n",
       "  <thead>\n",
       "    <tr style=\"text-align: right;\">\n",
       "      <th></th>\n",
       "      <th>Category</th>\n",
       "      <th>Reviews</th>\n",
       "      <th>Size</th>\n",
       "      <th>Installs</th>\n",
       "      <th>Type</th>\n",
       "      <th>Price</th>\n",
       "      <th>Content Rating</th>\n",
       "      <th>Genres</th>\n",
       "    </tr>\n",
       "  </thead>\n",
       "  <tbody>\n",
       "    <tr>\n",
       "      <th>0</th>\n",
       "      <td>0</td>\n",
       "      <td>5.075174</td>\n",
       "      <td>19000.0</td>\n",
       "      <td>9.210440</td>\n",
       "      <td>0</td>\n",
       "      <td>0.0</td>\n",
       "      <td>1</td>\n",
       "      <td>8</td>\n",
       "    </tr>\n",
       "    <tr>\n",
       "      <th>1</th>\n",
       "      <td>0</td>\n",
       "      <td>6.875232</td>\n",
       "      <td>14000.0</td>\n",
       "      <td>13.122365</td>\n",
       "      <td>0</td>\n",
       "      <td>0.0</td>\n",
       "      <td>1</td>\n",
       "      <td>10</td>\n",
       "    </tr>\n",
       "  </tbody>\n",
       "</table>\n",
       "</div>"
      ],
      "text/plain": [
       "   Category   Reviews     Size   Installs  Type  Price  Content Rating  Genres\n",
       "0         0  5.075174  19000.0   9.210440     0    0.0               1       8\n",
       "1         0  6.875232  14000.0  13.122365     0    0.0               1      10"
      ]
     },
     "execution_count": 61,
     "metadata": {},
     "output_type": "execute_result"
    }
   ],
   "source": [
    "### dropping the target variable from the dataset ...\n",
    "inp1.drop('Rating', axis = 1 , inplace = True)\n",
    "inp1.head(2)"
   ]
  },
  {
   "cell_type": "code",
   "execution_count": 62,
   "id": "370a1660",
   "metadata": {},
   "outputs": [],
   "source": [
    "### creating x(predictor), y(target) variables.. \n",
    "X = inp1.values\n",
    "y = target.values"
   ]
  },
  {
   "cell_type": "code",
   "execution_count": 63,
   "id": "b71b66cd",
   "metadata": {},
   "outputs": [],
   "source": [
    "# importing modelselection \"train_test_split\" from \"sklearn\"\n",
    "\n",
    "from sklearn.model_selection import train_test_split"
   ]
  },
  {
   "cell_type": "code",
   "execution_count": 64,
   "id": "f2319dc6",
   "metadata": {},
   "outputs": [
    {
     "name": "stdout",
     "output_type": "stream",
     "text": [
      "X_train: (5080, 8)\n",
      "X_test: (2178, 8)\n",
      "y_train: (5080,)\n",
      "y_test: (2178,)\n"
     ]
    }
   ],
   "source": [
    "### Splitting the data into train and test sets\n",
    "\n",
    "X_train, X_test, y_train, y_test = train_test_split(X,y,test_size = 0.3, random_state = 1)\n",
    "\n",
    "print(\"X_train:\",X_train.shape)\n",
    "print(\"X_test:\",X_test.shape)\n",
    "print(\"y_train:\",y_train.shape)\n",
    "print(\"y_test:\",y_test.shape)"
   ]
  },
  {
   "cell_type": "markdown",
   "id": "0e575d9d",
   "metadata": {},
   "source": [
    "# 11 . Model building"
   ]
  },
  {
   "cell_type": "code",
   "execution_count": 65,
   "id": "db79bfc5",
   "metadata": {},
   "outputs": [],
   "source": [
    "## 11.1 Using linear regression as the technique\n",
    "# importing \"Linear Regression\" model from \"sklearn\"\n",
    "\n",
    "from sklearn.linear_model import LinearRegression\n",
    "lin = LinearRegression()\n"
   ]
  },
  {
   "cell_type": "code",
   "execution_count": 66,
   "id": "2d1f5f01",
   "metadata": {},
   "outputs": [
    {
     "data": {
      "text/plain": [
       "LinearRegression()"
      ]
     },
     "execution_count": 66,
     "metadata": {},
     "output_type": "execute_result"
    }
   ],
   "source": [
    "lin.fit(X_train, y_train)"
   ]
  },
  {
   "cell_type": "code",
   "execution_count": 67,
   "id": "6d58868f",
   "metadata": {},
   "outputs": [
    {
     "name": "stdout",
     "output_type": "stream",
     "text": [
      "The Linear Model Coefficients for the predictor variables are:\n",
      "\n",
      " [-2.38437679e-05  1.69085113e-01 -5.02874165e-07 -1.49035792e-01\n",
      " -2.53953452e-02 -3.43144946e-03 -2.26880153e-02 -1.06161873e-03]\n",
      "\n",
      "\n",
      "The \"y\" intercept \"Bo\" is:\n",
      "\n",
      " 4.711527789051301\n"
     ]
    }
   ],
   "source": [
    "### Getting the Coefficients (slopes) for predictor variables and the \"y\" intercept \n",
    "\n",
    "print('The Linear Model Coefficients for the predictor variables are:\\n\\n',lin.coef_)\n",
    "print('\\n')\n",
    "print('The \"y\" intercept \"Bo\" is:\\n\\n',lin.intercept_)"
   ]
  },
  {
   "cell_type": "markdown",
   "id": "1e4cacb5",
   "metadata": {},
   "source": [
    "# 12. Make predictions on test set and report R2."
   ]
  },
  {
   "cell_type": "code",
   "execution_count": 68,
   "id": "a3ae8496",
   "metadata": {},
   "outputs": [
    {
     "data": {
      "text/plain": [
       "array([4.24930356, 4.18903608, 4.22221981, 3.99412627, 4.53439149,\n",
       "       4.4766383 , 4.24274219, 4.4647891 , 3.94517216, 4.37864862,\n",
       "       4.26554296, 4.16126337, 4.14393656, 4.15414077, 4.15309813,\n",
       "       4.00896644, 4.39888978, 4.21765591, 4.26892258, 4.55543062,\n",
       "       4.22887103, 4.2047206 , 4.05170196, 3.94586685, 4.02594506,\n",
       "       3.97476627, 3.98329006, 4.01934338, 4.05886099, 4.25512989])"
      ]
     },
     "execution_count": 68,
     "metadata": {},
     "output_type": "execute_result"
    }
   ],
   "source": [
    "#### prediction :\n",
    "\n",
    "y_pred = lin.predict(X_test)\n",
    "y_pred[0:30]\n",
    "\n"
   ]
  },
  {
   "cell_type": "code",
   "execution_count": 69,
   "id": "acf204b6",
   "metadata": {},
   "outputs": [
    {
     "data": {
      "text/plain": [
       "<matplotlib.collections.PathCollection at 0x279926960d0>"
      ]
     },
     "execution_count": 69,
     "metadata": {},
     "output_type": "execute_result"
    },
    {
     "data": {
      "image/png": "[encoded data removed]",
      "text/plain": [
       "<Figure size 432x288 with 1 Axes>"
      ]
     },
     "metadata": {
      "needs_background": "light"
     },
     "output_type": "display_data"
    }
   ],
   "source": [
    "### Plotting the Actual Vs predicted values:\n",
    "\n",
    "plt.scatter(y_test,y_pred)"
   ]
  },
  {
   "cell_type": "code",
   "execution_count": 70,
   "id": "0da1b513",
   "metadata": {},
   "outputs": [
    {
     "data": {
      "image/png": "[encoded data removed]",
      "text/plain": [
       "<Figure size 432x288 with 1 Axes>"
      ]
     },
     "metadata": {
      "needs_background": "light"
     },
     "output_type": "display_data"
    }
   ],
   "source": [
    "## Residual Histogram\n",
    "sns.distplot((y_test-y_pred),bins=50);"
   ]
  },
  {
   "cell_type": "code",
   "execution_count": 71,
   "id": "7dd345be",
   "metadata": {},
   "outputs": [
    {
     "name": "stdout",
     "output_type": "stream",
     "text": [
      "MAE: 0.37594785366781264\n",
      "MSE: 0.2813231453590582\n",
      "RMSE: 0.5303990435125786\n",
      "Efficiency 0.11231719268425655\n"
     ]
    }
   ],
   "source": [
    "## Importing metrics from and Calculating \"MAE\",\"MSE\",\"RMSE\",\"Efficiency\"\n",
    "\n",
    "from sklearn import metrics\n",
    "\n",
    "print('MAE:', metrics.mean_absolute_error(y_test, y_pred))\n",
    "print('MSE:', metrics.mean_squared_error(y_test, y_pred))\n",
    "print('RMSE:', np.sqrt(metrics.mean_squared_error(y_test, y_pred)))\n",
    "print('Efficiency', metrics.r2_score(y_test, y_pred))"
   ]
  },
  {
   "cell_type": "markdown",
   "id": "4e1d1dc9",
   "metadata": {},
   "source": [
    "Thus the Prediction accuracy obtained for the above model is 11.2%"
   ]
  },
  {
   "cell_type": "code",
   "execution_count": null,
   "id": "ef4875cc",
   "metadata": {},
   "outputs": [],
   "source": []
  },
  {
   "cell_type": "code",
   "execution_count": null,
   "id": "19c7a70a",
   "metadata": {},
   "outputs": [],
   "source": []
  },
  {
   "cell_type": "code",
   "execution_count": null,
   "id": "a9713394",
   "metadata": {},
   "outputs": [],
   "source": []
  },
  {
   "cell_type": "code",
   "execution_count": null,
   "id": "83f28b90",
   "metadata": {},
   "outputs": [],
   "source": []
  },
  {
   "cell_type": "code",
   "execution_count": null,
   "id": "6134fede",
   "metadata": {},
   "outputs": [],
   "source": []
  }
 ],
 "metadata": {
  "kernelspec": {
   "display_name": "Python 3",
   "language": "python",
   "name": "python3"
  },
  "language_info": {
   "codemirror_mode": {
    "name": "ipython",
    "version": 3
   },
   "file_extension": ".py",
   "mimetype": "text/x-python",
   "name": "python",
   "nbconvert_exporter": "python",
   "pygments_lexer": "ipython3",
   "version": "3.8.8"
  }
 },
 "nbformat": 4,
 "nbformat_minor": 5
}
